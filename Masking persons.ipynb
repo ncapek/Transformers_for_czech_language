{
 "cells": [
  {
   "cell_type": "code",
   "execution_count": 38,
   "id": "d23bb296",
   "metadata": {},
   "outputs": [],
   "source": [
    "from transformers import AutoTokenizer, AutoModelForTokenClassification\n",
    "from transformers import pipeline\n",
    "model_name = \"richielo/small-e-czech-finetuned-ner-wikiann\"\n",
    "tokenizer = AutoTokenizer.from_pretrained(model_name)\n",
    "model = AutoModelForTokenClassification.from_pretrained(model_name)\n",
    "nlp = pipeline(\"ner\", model=model, tokenizer=tokenizer)\n",
    "example = \"\"\"\n",
    "„BIS je připravena poskytovat prezidentu republiky maximální informační podporu, tak jak je to běžné ve vyspělých demokratických státech, a to všemi formami včetně pravidelných bezpečnostních briefingů,“ citovala BIS Koudelku.\n",
    "\n",
    "Pavlův přístup ostře kontrastuje s přístupem dosluhují hlavy státu Miloše Zemana. Ten opakovaně kritizoval BIS i samotného Koudelku, jehož odmítal jmenovat generálem.\n",
    "\n",
    "Návrhy mu předložila vláda Andreje Babiše (ANO) i Petra Fialy (ODS). Další návrh na povýšení současná vláda již dříve avizovala na období po volbách, až se funkce ujme nový prezident. Pavel před volbami řekl, že by Koudelku do generálské hodnosti jmenoval.\n",
    "\"\"\""
   ]
  },
  {
   "cell_type": "code",
   "execution_count": 39,
   "id": "c13fc09d",
   "metadata": {},
   "outputs": [
    {
     "name": "stderr",
     "output_type": "stream",
     "text": [
      "Asking to truncate to max_length but no maximum length is provided and the model has no predefined maximum length. Default to no truncation.\n"
     ]
    },
    {
     "name": "stdout",
     "output_type": "stream",
     "text": [
      "---Original---\n",
      "\n",
      "„BIS je připravena poskytovat prezidentu republiky maximální informační podporu, tak jak je to běžné ve vyspělých demokratických státech, a to všemi formami včetně pravidelných bezpečnostních briefingů,“ citovala BIS Koudelku.\n",
      "\n",
      "Pavlův přístup ostře kontrastuje s přístupem dosluhují hlavy státu Miloše Zemana. Ten opakovaně kritizoval BIS i samotného Koudelku, jehož odmítal jmenovat generálem.\n",
      "\n",
      "Návrhy mu předložila vláda Andreje Babiše (ANO) i Petra Fialy (ODS). Další návrh na povýšení současná vláda již dříve avizovala na období po volbách, až se funkce ujme nový prezident. Pavel před volbami řekl, že by Koudelku do generálské hodnosti jmenoval.\n",
      "\n",
      "---Masked---\n",
      "\n",
      "„BIS je připravena poskytovat prezidentu republiky maximální informační podporu, tak jak je to běžné ve vyspělých demokratických státech, a to všemi formami včetně pravidelných bezpečnostních briefingů,“ citovala BIS Koudelku.\n",
      "\n",
      "Pavlův přístup ostře kontrastuje s přístupem dosluhují hlavy státu ****** ******. Ten opakovaně kritizoval BIS i samotného ********, jehož odmítal jmenovat generálem.\n",
      "\n",
      "Návrhy mu předložila vláda ******* ****** (ANO) i ***** ***** (ODS). Další návrh na povýšení současná vláda již dříve avizovala na období po volbách, až se funkce ujme nový prezident. ***** před volbami řekl, že by ***delku do generálské hodnosti jmenoval.\n",
      "\n"
     ]
    }
   ],
   "source": [
    "def filter_person_entities(entities: list):\n",
    "    return [ent for ent in entities if 'PER' in ent['entity']]\n",
    "\n",
    "def get_person_entities(text: str, ner_pipeline):\n",
    "    entities = ner_pipeline(text)\n",
    "    return filter_person_entities(entities)\n",
    "\n",
    "def replacer(s, newstring, index, nofail=False):\n",
    "    if not nofail and index not in range(len(s)):\n",
    "        raise ValueError(\"index outside given string\")\n",
    "\n",
    "    # if not erroring, but the index is still not in the correct range..\n",
    "    if index < 0:  # add it to the beginning\n",
    "        return newstring + s\n",
    "    if index > len(s):  # add it to the end\n",
    "        return s + newstring\n",
    "\n",
    "    # insert the new string between \"slices\" of the original\n",
    "    return s[:index] + newstring + s[index + 1:]\n",
    "\n",
    "def get_masked_text(text: str, ner_pipeline):\n",
    "    masked_text = text\n",
    "    entities = get_person_entities(example, ner_pipeline)\n",
    "    for ent in entities:\n",
    "        running_index = ent.get('start')\n",
    "        while True:            \n",
    "            masked_text = replacer(masked_text, '*', running_index)\n",
    "            running_index += 1\n",
    "            if running_index == ent.get('end'):\n",
    "                break\n",
    "    return masked_text\n",
    "\n",
    "print('---Original---')\n",
    "print(example)\n",
    "print('---Masked---')\n",
    "print(get_masked_text(example, nlp))"
   ]
  },
  {
   "cell_type": "code",
   "execution_count": 40,
   "id": "ae45905b",
   "metadata": {},
   "outputs": [],
   "source": [
    "from transformers import AutoTokenizer, AutoModelForTokenClassification\n",
    "from transformers import pipeline\n",
    "\n",
    "class NER_masker_cz:\n",
    "    \n",
    "    def __init__(self, model_name=\"richielo/small-e-czech-finetuned-ner-wikiann\"):\n",
    "        self.tokenizer = AutoTokenizer.from_pretrained(model_name)\n",
    "        self.model = AutoModelForTokenClassification.from_pretrained(model_name)\n",
    "        self.NER = pipeline(\"ner\", model=model, tokenizer=tokenizer)\n",
    "        \n",
    "    def _filter_entities(self, entities: list, entity_filter: list) -> list:\n",
    "        return [ent for ent in entities for ent_type in entity_filter if ent_type in ent['entity']]\n",
    "\n",
    "    def _get_filtered_entities(self, text: str, entity_filter: list) -> list:\n",
    "        entities = self.NER(text)\n",
    "        return self._filter_entities(entities, entity_filter)\n",
    "\n",
    "    def _replacer(self, s, newstring, index, nofail=False):\n",
    "        if not nofail and index not in range(len(s)):\n",
    "            raise ValueError(\"index outside given string\")\n",
    "\n",
    "        # if not erroring, but the index is still not in the correct range..\n",
    "        if index < 0:  # add it to the beginning\n",
    "            return newstring + s\n",
    "        if index > len(s):  # add it to the end\n",
    "            return s + newstring\n",
    "\n",
    "        # insert the new string between \"slices\" of the original\n",
    "        return s[:index] + newstring + s[index + 1:]\n",
    "\n",
    "    def get_masked_text(self, text: str, entity_filter: list = ['B-PER', 'I-PER']):\n",
    "        masked_text = text\n",
    "        entities = self._get_filtered_entities(example, entity_filter)\n",
    "        for ent in entities:\n",
    "            running_index = ent.get('start')\n",
    "            while True:            \n",
    "                masked_text = replacer(masked_text, '*', running_index)\n",
    "                running_index += 1\n",
    "                if running_index == ent.get('end'):\n",
    "                    break\n",
    "        return masked_text\n",
    "        "
   ]
  },
  {
   "cell_type": "code",
   "execution_count": 41,
   "id": "4ed184b3",
   "metadata": {},
   "outputs": [
    {
     "name": "stdout",
     "output_type": "stream",
     "text": [
      "\n",
      "„BIS je připravena poskytovat prezidentu republiky maximální informační podporu, tak jak je to běžné ve vyspělých demokratických státech, a to všemi formami včetně pravidelných bezpečnostních briefingů,“ citovala BIS Koudelku.\n",
      "\n",
      "Pavlův přístup ostře kontrastuje s přístupem dosluhují hlavy státu ****** ******. Ten opakovaně kritizoval BIS i samotného ********, jehož odmítal jmenovat generálem.\n",
      "\n",
      "Návrhy mu předložila vláda ******* ****** (ANO) i ***** ***** (ODS). Další návrh na povýšení současná vláda již dříve avizovala na období po volbách, až se funkce ujme nový prezident. ***** před volbami řekl, že by ***delku do generálské hodnosti jmenoval.\n",
      "\n"
     ]
    }
   ],
   "source": [
    "masker = NER_masker_cz()\n",
    "print(masker.get_masked_text(example))"
   ]
  },
  {
   "cell_type": "code",
   "execution_count": null,
   "id": "969ece0f",
   "metadata": {},
   "outputs": [],
   "source": []
  }
 ],
 "metadata": {
  "kernelspec": {
   "display_name": "Python 3 (ipykernel)",
   "language": "python",
   "name": "python3"
  },
  "language_info": {
   "codemirror_mode": {
    "name": "ipython",
    "version": 3
   },
   "file_extension": ".py",
   "mimetype": "text/x-python",
   "name": "python",
   "nbconvert_exporter": "python",
   "pygments_lexer": "ipython3",
   "version": "3.10.6"
  }
 },
 "nbformat": 4,
 "nbformat_minor": 5
}
