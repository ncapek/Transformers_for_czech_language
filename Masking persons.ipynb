{
 "cells": [
  {
   "cell_type": "code",
   "execution_count": 5,
   "id": "d23bb296",
   "metadata": {},
   "outputs": [
    {
     "name": "stderr",
     "output_type": "stream",
     "text": [
      "Asking to truncate to max_length but no maximum length is provided and the model has no predefined maximum length. Default to no truncation.\n"
     ]
    },
    {
     "name": "stdout",
     "output_type": "stream",
     "text": [
      "<class 'list'>\n",
      "[{'entity': 'B-ORG', 'score': 0.92189443, 'index': 6, 'word': 'prezident', 'start': 31, 'end': 40}, {'entity': 'I-ORG', 'score': 0.91672975, 'index': 7, 'word': '##u', 'start': 40, 'end': 41}, {'entity': 'I-ORG', 'score': 0.9792932, 'index': 8, 'word': 'republiky', 'start': 42, 'end': 51}, {'entity': 'B-LOC', 'score': 0.6451612, 'index': 21, 'word': 'demokra', 'start': 115, 'end': 122}, {'entity': 'I-LOC', 'score': 0.9821082, 'index': 22, 'word': '##tických', 'start': 122, 'end': 129}, {'entity': 'I-LOC', 'score': 0.94849604, 'index': 23, 'word': 'státech', 'start': 130, 'end': 137}, {'entity': 'B-PER', 'score': 0.9980355, 'index': 60, 'word': 'miloše', 'start': 296, 'end': 302}, {'entity': 'I-PER', 'score': 0.99940944, 'index': 61, 'word': 'zemana', 'start': 303, 'end': 309}, {'entity': 'B-ORG', 'score': 0.75892353, 'index': 67, 'word': 'bis', 'start': 336, 'end': 339}, {'entity': 'B-PER', 'score': 0.9958247, 'index': 70, 'word': 'kou', 'start': 352, 'end': 355}, {'entity': 'I-PER', 'score': 0.9984855, 'index': 71, 'word': '##del', 'start': 355, 'end': 358}, {'entity': 'I-PER', 'score': 0.99921536, 'index': 72, 'word': '##ku', 'start': 358, 'end': 360}, {'entity': 'B-PER', 'score': 0.9952785, 'index': 86, 'word': 'andrej', 'start': 424, 'end': 430}, {'entity': 'I-PER', 'score': 0.99945074, 'index': 87, 'word': '##e', 'start': 430, 'end': 431}, {'entity': 'I-PER', 'score': 0.9994319, 'index': 88, 'word': 'babiše', 'start': 432, 'end': 438}, {'entity': 'B-ORG', 'score': 0.90474546, 'index': 90, 'word': 'ano', 'start': 440, 'end': 443}, {'entity': 'B-PER', 'score': 0.998946, 'index': 93, 'word': 'petra', 'start': 447, 'end': 452}, {'entity': 'I-PER', 'score': 0.9992617, 'index': 94, 'word': 'fial', 'start': 453, 'end': 457}, {'entity': 'I-PER', 'score': 0.9994611, 'index': 95, 'word': '##y', 'start': 457, 'end': 458}, {'entity': 'B-ORG', 'score': 0.9965538, 'index': 97, 'word': 'ods', 'start': 460, 'end': 463}, {'entity': 'B-PER', 'score': 0.99201596, 'index': 124, 'word': 'pavel', 'start': 581, 'end': 586}, {'entity': 'B-PER', 'score': 0.9886014, 'index': 131, 'word': 'kou', 'start': 612, 'end': 615}, {'entity': 'B-ORG', 'score': 0.5475443, 'index': 135, 'word': 'generál', 'start': 624, 'end': 631}]\n"
     ]
    }
   ],
   "source": [
    "from transformers import AutoTokenizer, AutoModelForTokenClassification\n",
    "from transformers import pipeline\n",
    "model_name = \"richielo/small-e-czech-finetuned-ner-wikiann\"\n",
    "tokenizer = AutoTokenizer.from_pretrained(model_name)\n",
    "model = AutoModelForTokenClassification.from_pretrained(model_name)\n",
    "nlp = pipeline(\"ner\", model=model, tokenizer=tokenizer)\n",
    "example = \"\"\"\n",
    "„BIS je připravena poskytovat prezidentu republiky maximální informační podporu, tak jak je to běžné ve vyspělých demokratických státech, a to všemi formami včetně pravidelných bezpečnostních briefingů,“ citovala BIS Koudelku.\n",
    "\n",
    "Pavlův přístup ostře kontrastuje s přístupem dosluhují hlavy státu Miloše Zemana. Ten opakovaně kritizoval BIS i samotného Koudelku, jehož odmítal jmenovat generálem.\n",
    "\n",
    "Návrhy mu předložila vláda Andreje Babiše (ANO) i Petra Fialy (ODS). Další návrh na povýšení současná vláda již dříve avizovala na období po volbách, až se funkce ujme nový prezident. Pavel před volbami řekl, že by Koudelku do generálské hodnosti jmenoval.\n",
    "\"\"\""
   ]
  },
  {
   "cell_type": "code",
   "execution_count": 17,
   "id": "cd654203",
   "metadata": {},
   "outputs": [
    {
     "name": "stdout",
     "output_type": "stream",
     "text": [
      "\n",
      "„BIS je připravena poskytovat prezidentu republiky maximální informační podporu, tak jak je to běžné ve vyspělých demokratických státech, a to všemi formami včetně pravidelných bezpečnostních briefingů,“ citovala BIS Koudelku.\n",
      "\n",
      "Pavlův přístup ostře kontrastuje s přístupem dosluhují hlavy státu Miloše Zemana. Ten opakovaně kritizoval BIS i samotného Koudelku, jehož odmítal jmenovat generálem.\n",
      "\n",
      "Návrhy mu předložila vláda Andreje Babiše (ANO) i Petra Fialy (ODS). Další návrh na povýšení současná vláda již dříve avizovala na období po volbách, až se funkce ujme nový prezident. Pavel před volbami řekl, že by Koudelku do generálské hodnosti jmenoval.\n",
      "\n",
      "\n",
      "\n",
      "\n",
      "\n",
      "\n",
      "„BIS je připravena poskytovat prezidentu republiky maximální informační podporu, tak jak je to běžné ve vyspělých demokratických státech, a to všemi formami včetně pravidelných bezpečnostních briefingů,“ citovala BIS Koudelku.\n",
      "\n",
      "Pavlův přístup ostře kontrastuje s přístupem dosluhují hlavy státu ****** ******. Ten opakovaně kritizoval BIS i samotného ********, jehož odmítal jmenovat generálem.\n",
      "\n",
      "Návrhy mu předložila vláda ******* ****** (ANO) i ***** ***** (ODS). Další návrh na povýšení současná vláda již dříve avizovala na období po volbách, až se funkce ujme nový prezident. ***** před volbami řekl, že by ***delku do generálské hodnosti jmenoval.\n",
      "\n"
     ]
    }
   ],
   "source": [
    "def filter_person_entities(entities: list):\n",
    "    return [ent for ent in entities if 'PER' in ent['entity']]\n",
    "\n",
    "def get_person_entities(text: str, ner_pipeline):\n",
    "    entities = ner_pipeline(text)\n",
    "    return filter_person_entities(entities)\n",
    "\n",
    "def replacer(s, newstring, index, nofail=False):\n",
    "    if not nofail and index not in range(len(s)):\n",
    "        raise ValueError(\"index outside given string\")\n",
    "\n",
    "    # if not erroring, but the index is still not in the correct range..\n",
    "    if index < 0:  # add it to the beginning\n",
    "        return newstring + s\n",
    "    if index > len(s):  # add it to the end\n",
    "        return s + newstring\n",
    "\n",
    "    # insert the new string between \"slices\" of the original\n",
    "    return s[:index] + newstring + s[index + 1:]\n",
    "\n",
    "def get_masked_text(text: str, ner_pipeline):\n",
    "    masked_text = text\n",
    "    entities = get_person_entities(example, ner_pipeline)\n",
    "    for ent in entities:\n",
    "        running_index = ent.get('start')\n",
    "        while True:            \n",
    "            masked_text = replacer(masked_text, '*', running_index)\n",
    "            running_index += 1\n",
    "            if running_index == ent.get('end'):\n",
    "                break\n",
    "    return masked_text\n",
    "\n",
    "print('---Original---')\n",
    "print(example)\n",
    "print('print('---Original---')')\n",
    "print(get_masked_text(example, nlp))"
   ]
  },
  {
   "cell_type": "code",
   "execution_count": null,
   "id": "4ed184b3",
   "metadata": {},
   "outputs": [],
   "source": []
  }
 ],
 "metadata": {
  "kernelspec": {
   "display_name": "Python 3 (ipykernel)",
   "language": "python",
   "name": "python3"
  },
  "language_info": {
   "codemirror_mode": {
    "name": "ipython",
    "version": 3
   },
   "file_extension": ".py",
   "mimetype": "text/x-python",
   "name": "python",
   "nbconvert_exporter": "python",
   "pygments_lexer": "ipython3",
   "version": "3.10.6"
  }
 },
 "nbformat": 4,
 "nbformat_minor": 5
}
