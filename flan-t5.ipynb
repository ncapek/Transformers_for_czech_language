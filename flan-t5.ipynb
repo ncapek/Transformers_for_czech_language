{
 "cells": [
  {
   "cell_type": "code",
   "execution_count": 21,
   "id": "e0813486",
   "metadata": {},
   "outputs": [],
   "source": [
    "from transformers import T5Tokenizer, T5ForConditionalGeneration\n",
    "\n",
    "tokenizer = T5Tokenizer.from_pretrained(\"google/flan-t5-large\")\n",
    "model = T5ForConditionalGeneration.from_pretrained(\"google/flan-t5-large\")"
   ]
  },
  {
   "cell_type": "code",
   "execution_count": 22,
   "id": "3d793574",
   "metadata": {},
   "outputs": [
    {
     "name": "stderr",
     "output_type": "stream",
     "text": [
      "C:\\Users\\capek\\AppData\\Local\\Programs\\Python\\Python310\\lib\\site-packages\\transformers-4.30.2-py3.10.egg\\transformers\\generation\\utils.py:1353: UserWarning: Using `max_length`'s default (20) to control the generation length. This behaviour is deprecated and will be removed from the config in v5 of Transformers -- we recommend using `max_new_tokens` to control the maximum length of the generation.\n",
      "  warnings.warn(\n"
     ]
    },
    {
     "name": "stdout",
     "output_type": "stream",
     "text": [
      "['True']\n",
      "True is correct\n"
     ]
    }
   ],
   "source": [
    "# two shot\n",
    "inputs = tokenizer(\"\"\"Tell me if the following sentence, delimited by <>, speaks about speed of service. The sentences are going to be in Czech. Here are some examples. Return only True or False, nothing else.\n",
    "                   Example: Byl jsem mile překvapen rychlostí, s jakou mi pojišťovna vyřídila požadovanou žádost. Skvělá práce!\n",
    "                   Answer: True\n",
    "                   \n",
    "                   Example: Jsem velmi spokojený s komunikací pojišťovny. Vždy mi odpověděli na mé dotazy s trpělivostí a profesionalitou.\n",
    "                   Answer: False\n",
    "                   \n",
    "                   Example: <Pojišťovna je opravdu efektivní. Požádal jsem o úhradu škody a do hodiny mi již odpověděli. To je rychlost!>\n",
    "                   Answer: \"\"\", return_tensors=\"pt\")\n",
    "outputs = model.generate(**inputs)\n",
    "print(tokenizer.batch_decode(outputs, skip_special_tokens=True))\n",
    "print('True is correct')"
   ]
  },
  {
   "cell_type": "code",
   "execution_count": 8,
   "id": "a6718712",
   "metadata": {},
   "outputs": [
    {
     "name": "stdout",
     "output_type": "stream",
     "text": [
      "['True']\n",
      "True is correct\n"
     ]
    }
   ],
   "source": [
    "# zero shot\n",
    "inputs = tokenizer(\"\"\"Tell me if the following sentence, delimited by <>, speaks about speed of service. The sentences are going to be in Czech. Here are some examples. Return only True or False, nothing else.\n",
    "                   \n",
    "                   Example: <Pojišťovna je opravdu efektivní. Požádal jsem o úhradu škody a do hodiny mi již odpověděli. To je rychlost!>\n",
    "                   Answer: \"\"\", return_tensors=\"pt\")\n",
    "outputs = model.generate(**inputs)\n",
    "print(tokenizer.batch_decode(outputs, skip_special_tokens=True))\n",
    "print('True is correct')"
   ]
  },
  {
   "cell_type": "code",
   "execution_count": 9,
   "id": "355ffa56",
   "metadata": {},
   "outputs": [
    {
     "name": "stdout",
     "output_type": "stream",
     "text": [
      "['True']\n",
      "True is correct\n"
     ]
    }
   ],
   "source": [
    "# two shot\n",
    "inputs = tokenizer(\"\"\"Tell me if the following sentence, delimited by <>, speaks about speed of service. The sentences are going to be in Czech. Here are some examples. Return only True or False, nothing else.\n",
    "                   Example: Byl jsem mile překvapen rychlostí, s jakou mi pojišťovna vyřídila požadovanou žádost. Skvělá práce!\n",
    "                   Answer: True\n",
    "                   \n",
    "                   Example: Jsem velmi spokojený s komunikací pojišťovny. Vždy mi odpověděli na mé dotazy s trpělivostí a profesionalitou.\n",
    "                   Answer: False\n",
    "                   \n",
    "                   Example: <Byl jsem mile překvapen rychlostí, s jakou mi pojišťovna vyřídila požadovanou žádost. Skvělá práce!>\n",
    "                   Answer: \"\"\", return_tensors=\"pt\")\n",
    "outputs = model.generate(**inputs)\n",
    "print(tokenizer.batch_decode(outputs, skip_special_tokens=True))\n",
    "print('True is correct')"
   ]
  },
  {
   "cell_type": "code",
   "execution_count": 10,
   "id": "6a510deb",
   "metadata": {},
   "outputs": [
    {
     "name": "stdout",
     "output_type": "stream",
     "text": [
      "['False']\n",
      "True is correct\n"
     ]
    }
   ],
   "source": [
    "# zero shot\n",
    "inputs = tokenizer(\"\"\"Tell me if the following sentence, delimited by <>, speaks about speed of service. The sentences are going to be in Czech. Here are some examples. Return only True or False, nothing else.\n",
    "                   \n",
    "                   Example: <Byl jsem mile překvapen rychlostí, s jakou mi pojišťovna vyřídila požadovanou žádost. Skvělá práce!>\n",
    "                   Answer: \"\"\", return_tensors=\"pt\")\n",
    "outputs = model.generate(**inputs)\n",
    "print(tokenizer.batch_decode(outputs, skip_special_tokens=True))\n",
    "print('True is correct')"
   ]
  },
  {
   "cell_type": "code",
   "execution_count": 11,
   "id": "610c7355",
   "metadata": {},
   "outputs": [
    {
     "name": "stdout",
     "output_type": "stream",
     "text": [
      "['False']\n",
      "False is correct\n"
     ]
    }
   ],
   "source": [
    "# two shot\n",
    "inputs = tokenizer(\"\"\"Tell me if the following sentence, delimited by <>, speaks about speed of service. The sentences are going to be in Czech. Here are some examples. Return only True or False, nothing else.\n",
    "                   Example: Byl jsem mile překvapen rychlostí, s jakou mi pojišťovna vyřídila požadovanou žádost. Skvělá práce!\n",
    "                   Answer: True\n",
    "                   \n",
    "                   Example: Jsem velmi spokojený s komunikací pojišťovny. Vždy mi odpověděli na mé dotazy s trpělivostí a profesionalitou.\n",
    "                   Answer: False\n",
    "                   \n",
    "                   Example: <Pojišťovna poskytuje vynikající služby. Jejich nabídky jsou přehledné a přizpůsobené mému pojištění.>\n",
    "                   Answer: \"\"\", return_tensors=\"pt\")\n",
    "outputs = model.generate(**inputs)\n",
    "print(tokenizer.batch_decode(outputs, skip_special_tokens=True))\n",
    "print('False is correct')"
   ]
  },
  {
   "cell_type": "code",
   "execution_count": 12,
   "id": "9733acdb",
   "metadata": {},
   "outputs": [
    {
     "name": "stdout",
     "output_type": "stream",
     "text": [
      "['False']\n",
      "False is correct\n"
     ]
    }
   ],
   "source": [
    "# zero shot\n",
    "inputs = tokenizer(\"\"\"Tell me if the following sentence, delimited by <>, speaks about speed of service. The sentences are going to be in Czech. Here are some examples. Return only True or False, nothing else.\n",
    "                   \n",
    "                   Example: <Pojišťovna poskytuje vynikající služby. Jejich nabídky jsou přehledné a přizpůsobené mému pojištění.>\n",
    "                   Answer: \"\"\", return_tensors=\"pt\")\n",
    "outputs = model.generate(**inputs)\n",
    "print(tokenizer.batch_decode(outputs, skip_special_tokens=True))\n",
    "print('False is correct')"
   ]
  },
  {
   "cell_type": "code",
   "execution_count": 13,
   "id": "53b585fa",
   "metadata": {},
   "outputs": [
    {
     "name": "stdout",
     "output_type": "stream",
     "text": [
      "['False']\n",
      "False is correct\n"
     ]
    }
   ],
   "source": [
    "# two shot\n",
    "inputs = tokenizer(\"\"\"Tell me if the following sentence, delimited by <>, speaks about speed of service. The sentences are going to be in Czech. Here are some examples. Return only True or False, nothing else.\n",
    "                   Example: Byl jsem mile překvapen rychlostí, s jakou mi pojišťovna vyřídila požadovanou žádost. Skvělá práce!\n",
    "                   Answer: True\n",
    "                   \n",
    "                   Example: Jsem velmi spokojený s komunikací pojišťovny. Vždy mi odpověděli na mé dotazy s trpělivostí a profesionalitou.\n",
    "                   Answer: False\n",
    "                   \n",
    "                   Example: <Jsem velmi spokojený s komunikací pojišťovny. Vždy mi odpověděli na mé dotazy s trpělivostí a profesionalitou>\n",
    "                   Answer: \"\"\", return_tensors=\"pt\")\n",
    "outputs = model.generate(**inputs)\n",
    "print(tokenizer.batch_decode(outputs, skip_special_tokens=True))\n",
    "print('False is correct')"
   ]
  },
  {
   "cell_type": "code",
   "execution_count": 14,
   "id": "4deed0f8",
   "metadata": {},
   "outputs": [
    {
     "name": "stdout",
     "output_type": "stream",
     "text": [
      "['False']\n",
      "False is correct\n"
     ]
    }
   ],
   "source": [
    "# zero shot\n",
    "inputs = tokenizer(\"\"\"Tell me if the following sentence, delimited by <>, speaks about speed of service. The sentences are going to be in Czech. Here are some examples. Return only True or False, nothing else.\n",
    "                   \n",
    "                   Example: <Jsem velmi spokojený s komunikací pojišťovny. Vždy mi odpověděli na mé dotazy s trpělivostí a profesionalitou>\n",
    "                   Answer: \"\"\", return_tensors=\"pt\")\n",
    "outputs = model.generate(**inputs)\n",
    "print(tokenizer.batch_decode(outputs, skip_special_tokens=True))\n",
    "print('False is correct')"
   ]
  },
  {
   "cell_type": "code",
   "execution_count": 15,
   "id": "ace9c730",
   "metadata": {},
   "outputs": [
    {
     "name": "stdout",
     "output_type": "stream",
     "text": [
      "['False']\n",
      "False is correct\n"
     ]
    }
   ],
   "source": [
    "                   \n"
   ]
  },
  {
   "cell_type": "code",
   "execution_count": null,
   "id": "ba1c84fd",
   "metadata": {},
   "outputs": [],
   "source": []
  },
  {
   "cell_type": "code",
   "execution_count": null,
   "id": "8c76d5e6",
   "metadata": {},
   "outputs": [],
   "source": []
  },
  {
   "cell_type": "code",
   "execution_count": 18,
   "id": "94b1b71e",
   "metadata": {},
   "outputs": [
    {
     "name": "stdout",
     "output_type": "stream",
     "text": [
      "['False']\n",
      "False is correct\n"
     ]
    }
   ],
   "source": [
    "# two shot\n",
    "inputs = tokenizer(\"\"\"Tell me if the following sentence, delimited by <>, contains a complaint. The sentences are going to be in Czech. Here are some examples. Return only True or False, nothing else.\n",
    "                   Example: Byl jsem mile překvapen rychlostí, s jakou mi pojišťovna vyřídila požadovanou žádost. Skvělá práce!\n",
    "                   Answer: False\n",
    "                   \n",
    "                   Example: Jsem velmi spokojený s komunikací pojišťovny. Vždy mi odpověděli na mé dotazy s trpělivostí a profesionalitou.\n",
    "                   Answer: False\n",
    "                   \n",
    "                   Example: Jsem zklamán způsobem, jakým jsem byl obsloužen při požadavku na změnu pojištění. Měl jsem potíže s dostáním se k informacím a odpověďmi na mé dotazy.\n",
    "                   Answer: True\n",
    "                   \n",
    "                   \n",
    "                   Example: <Byl jsem mile překvapen rychlostí, s jakou jsem obdržel pojistnou smlouvu od vaší společnosti. Skvělá práce.>\n",
    "                   Answer: \"\"\", return_tensors=\"pt\")\n",
    "outputs = model.generate(**inputs)\n",
    "print(tokenizer.batch_decode(outputs, skip_special_tokens=True))\n",
    "print('False is correct')"
   ]
  },
  {
   "cell_type": "markdown",
   "id": "15a1c139",
   "metadata": {},
   "source": [
    "# Trying on customer review data"
   ]
  },
  {
   "cell_type": "code",
   "execution_count": 43,
   "id": "c6c6ed3b",
   "metadata": {},
   "outputs": [
    {
     "data": {
      "text/html": [
       "<div>\n",
       "<style scoped>\n",
       "    .dataframe tbody tr th:only-of-type {\n",
       "        vertical-align: middle;\n",
       "    }\n",
       "\n",
       "    .dataframe tbody tr th {\n",
       "        vertical-align: top;\n",
       "    }\n",
       "\n",
       "    .dataframe thead th {\n",
       "        text-align: right;\n",
       "    }\n",
       "</style>\n",
       "<table border=\"1\" class=\"dataframe\">\n",
       "  <thead>\n",
       "    <tr style=\"text-align: right;\">\n",
       "      <th></th>\n",
       "      <th>comment</th>\n",
       "      <th>relates_to_speed</th>\n",
       "      <th>contains_complaint</th>\n",
       "      <th>contains_recommendation</th>\n",
       "    </tr>\n",
       "    <tr>\n",
       "      <th>comment_id</th>\n",
       "      <th></th>\n",
       "      <th></th>\n",
       "      <th></th>\n",
       "      <th></th>\n",
       "    </tr>\n",
       "  </thead>\n",
       "  <tbody>\n",
       "    <tr>\n",
       "      <th>1</th>\n",
       "      <td>Rychlá a efektivní služba. Doporučuji.</td>\n",
       "      <td>1</td>\n",
       "      <td>0</td>\n",
       "      <td>1</td>\n",
       "    </tr>\n",
       "    <tr>\n",
       "      <th>2</th>\n",
       "      <td>Nespokojen s rychlostí vyřízení pojistné událo...</td>\n",
       "      <td>1</td>\n",
       "      <td>1</td>\n",
       "      <td>0</td>\n",
       "    </tr>\n",
       "    <tr>\n",
       "      <th>3</th>\n",
       "      <td>Doporučuji tuto pojišťovnu. Rychlé a profesion...</td>\n",
       "      <td>1</td>\n",
       "      <td>0</td>\n",
       "      <td>1</td>\n",
       "    </tr>\n",
       "    <tr>\n",
       "      <th>4</th>\n",
       "      <td>Nemohu doporučit. Špatná komunikace a pomalé v...</td>\n",
       "      <td>1</td>\n",
       "      <td>1</td>\n",
       "      <td>0</td>\n",
       "    </tr>\n",
       "    <tr>\n",
       "      <th>5</th>\n",
       "      <td>Velmi rychlé vyřízení pojistné události. Dopor...</td>\n",
       "      <td>1</td>\n",
       "      <td>0</td>\n",
       "      <td>1</td>\n",
       "    </tr>\n",
       "    <tr>\n",
       "      <th>6</th>\n",
       "      <td>Nespokojen s rychlostí vyplácení pojistného pl...</td>\n",
       "      <td>1</td>\n",
       "      <td>1</td>\n",
       "      <td>0</td>\n",
       "    </tr>\n",
       "    <tr>\n",
       "      <th>7</th>\n",
       "      <td>Doporučuji. Rychlé a kvalitní služby.</td>\n",
       "      <td>1</td>\n",
       "      <td>0</td>\n",
       "      <td>1</td>\n",
       "    </tr>\n",
       "    <tr>\n",
       "      <th>8</th>\n",
       "      <td>Nemohu doporučit. Pomalé vyřízení a špatná kom...</td>\n",
       "      <td>1</td>\n",
       "      <td>1</td>\n",
       "      <td>0</td>\n",
       "    </tr>\n",
       "    <tr>\n",
       "      <th>9</th>\n",
       "      <td>Rychlé a efektivní vyřízení pojistné události....</td>\n",
       "      <td>1</td>\n",
       "      <td>0</td>\n",
       "      <td>1</td>\n",
       "    </tr>\n",
       "    <tr>\n",
       "      <th>10</th>\n",
       "      <td>Nespokojen s rychlostí vyřízení pojistné událo...</td>\n",
       "      <td>1</td>\n",
       "      <td>1</td>\n",
       "      <td>0</td>\n",
       "    </tr>\n",
       "  </tbody>\n",
       "</table>\n",
       "</div>"
      ],
      "text/plain": [
       "                                                      comment  \\\n",
       "comment_id                                                      \n",
       "1                      Rychlá a efektivní služba. Doporučuji.   \n",
       "2           Nespokojen s rychlostí vyřízení pojistné událo...   \n",
       "3           Doporučuji tuto pojišťovnu. Rychlé a profesion...   \n",
       "4           Nemohu doporučit. Špatná komunikace a pomalé v...   \n",
       "5           Velmi rychlé vyřízení pojistné události. Dopor...   \n",
       "6           Nespokojen s rychlostí vyplácení pojistného pl...   \n",
       "7                       Doporučuji. Rychlé a kvalitní služby.   \n",
       "8           Nemohu doporučit. Pomalé vyřízení a špatná kom...   \n",
       "9           Rychlé a efektivní vyřízení pojistné události....   \n",
       "10          Nespokojen s rychlostí vyřízení pojistné událo...   \n",
       "\n",
       "            relates_to_speed  contains_complaint  contains_recommendation  \n",
       "comment_id                                                                 \n",
       "1                          1                   0                        1  \n",
       "2                          1                   1                        0  \n",
       "3                          1                   0                        1  \n",
       "4                          1                   1                        0  \n",
       "5                          1                   0                        1  \n",
       "6                          1                   1                        0  \n",
       "7                          1                   0                        1  \n",
       "8                          1                   1                        0  \n",
       "9                          1                   0                        1  \n",
       "10                         1                   1                        0  "
      ]
     },
     "execution_count": 43,
     "metadata": {},
     "output_type": "execute_result"
    }
   ],
   "source": [
    "import pandas as pd\n",
    "df = pd.read_csv('./data/data_50.csv', index_col=0)\n",
    "df.head(10)"
   ]
  },
  {
   "cell_type": "code",
   "execution_count": 62,
   "id": "737b4954",
   "metadata": {},
   "outputs": [],
   "source": [
    "def get_speed_prompt(text_comment: str):\n",
    "    result = f'''\n",
    "    Tell me if the following sentence, delimited by <>, speaks about speed of service. The sentences are going to be in Czech. Here are some examples. Return only True or False, nothing else.\n",
    "    \n",
    "    Example: Byl jsem mile překvapen rychlostí, s jakou mi pojišťovna vyřídila požadovanou žádost. Skvělá práce!\n",
    "    Answer: True\n",
    "                   \n",
    "    Example: Jsem velmi spokojený s komunikací pojišťovny. Vždy mi odpověděli na mé dotazy s trpělivostí a profesionalitou.\n",
    "    Answer: False\n",
    "    \n",
    "    Example: Velmi rychlé jednání.\n",
    "    Answer: True\n",
    "                   \n",
    "    Example: <{text_comment}>\n",
    "    Answer: \n",
    "    '''\n",
    "    return result"
   ]
  },
  {
   "cell_type": "code",
   "execution_count": 68,
   "id": "f09a7d1a",
   "metadata": {},
   "outputs": [],
   "source": [
    "def get_complaint_prompt(text_comment: str):\n",
    "    result = f'''\n",
    "    Tell me if the following sentence, delimited by <>, contains a complaint about customer service. The sentences are going to be in Czech. Here are some examples. Return only True or False, nothing else.\n",
    "    \n",
    "    Example: Nemohu doporučit. Pomalé vyřízení a špatná komunikace.\n",
    "    Answer: True\n",
    "                   \n",
    "    Example: Jsem velmi spokojený s komunikací pojišťovny. Vždy mi odpověděli na mé dotazy s trpělivostí a profesionalitou.\n",
    "    Answer: False\n",
    "    \n",
    "    Example: Mám stížnost na jednání.\n",
    "    Answer: True\n",
    "                   \n",
    "    Example: <{text_comment}>\n",
    "    Answer: \n",
    "    '''\n",
    "    return result"
   ]
  },
  {
   "cell_type": "code",
   "execution_count": 69,
   "id": "aeb218ee",
   "metadata": {},
   "outputs": [],
   "source": [
    "def get_prediction(prompt, tokenizer, model):\n",
    "    inputs = tokenizer(prompt, return_tensors=\"pt\")\n",
    "    outputs = model.generate(**inputs)\n",
    "    return 1 if tokenizer.batch_decode(outputs, skip_special_tokens=True)[0] == 'True' else 0\n",
    "    "
   ]
  },
  {
   "cell_type": "code",
   "execution_count": 64,
   "id": "3e45e554",
   "metadata": {},
   "outputs": [
    {
     "name": "stdout",
     "output_type": "stream",
     "text": [
      "\n",
      "    Tell me if the following sentence, delimited by <>, speaks about speed of service. The sentences are going to be in Czech. Here are some examples. Return only True or False, nothing else.\n",
      "    \n",
      "    Example: Byl jsem mile překvapen rychlostí, s jakou mi pojišťovna vyřídila požadovanou žádost. Skvělá práce!\n",
      "    Answer: True\n",
      "                   \n",
      "    Example: Jsem velmi spokojený s komunikací pojišťovny. Vždy mi odpověděli na mé dotazy s trpělivostí a profesionalitou.\n",
      "    Answer: False\n",
      "    \n",
      "    Example: Velmi rychlé jednání.\n",
      "    Answer: True\n",
      "                   \n",
      "    Example: <Rychlá a efektivní služba. Doporučuji.>\n",
      "    Answer: \n",
      "    \n"
     ]
    },
    {
     "name": "stderr",
     "output_type": "stream",
     "text": [
      "C:\\Users\\capek\\AppData\\Local\\Programs\\Python\\Python310\\lib\\site-packages\\transformers-4.30.2-py3.10.egg\\transformers\\generation\\utils.py:1353: UserWarning: Using `max_length`'s default (20) to control the generation length. This behaviour is deprecated and will be removed from the config in v5 of Transformers -- we recommend using `max_new_tokens` to control the maximum length of the generation.\n",
      "  warnings.warn(\n"
     ]
    },
    {
     "name": "stdout",
     "output_type": "stream",
     "text": [
      "1\n"
     ]
    }
   ],
   "source": [
    "prompt = get_speed_prompt('Rychlá a efektivní služba. Doporučuji.')\n",
    "print(prompt)\n",
    "prediction = get_prediction(prompt, tokenizer, model)\n",
    "print(prediction)"
   ]
  },
  {
   "cell_type": "code",
   "execution_count": 70,
   "id": "7c1193e9",
   "metadata": {},
   "outputs": [
    {
     "name": "stderr",
     "output_type": "stream",
     "text": [
      "C:\\Users\\capek\\AppData\\Local\\Programs\\Python\\Python310\\lib\\site-packages\\transformers-4.30.2-py3.10.egg\\transformers\\generation\\utils.py:1353: UserWarning: Using `max_length`'s default (20) to control the generation length. This behaviour is deprecated and will be removed from the config in v5 of Transformers -- we recommend using `max_new_tokens` to control the maximum length of the generation.\n",
      "  warnings.warn(\n"
     ]
    }
   ],
   "source": [
    "predictions_df = df.iloc[:, :2]\n",
    "predictions_df['relates_to_speed'] = predictions_df['comment'].apply(lambda x: get_prediction(get_speed_prompt(x), tokenizer, model))\n",
    "predictions_df['contains_complaint'] = predictions_df['comment'].apply(lambda x: get_prediction(get_complaint_prompt(x), tokenizer, model))"
   ]
  },
  {
   "cell_type": "code",
   "execution_count": 76,
   "id": "8990a085",
   "metadata": {},
   "outputs": [
    {
     "data": {
      "text/html": [
       "<div>\n",
       "<style scoped>\n",
       "    .dataframe tbody tr th:only-of-type {\n",
       "        vertical-align: middle;\n",
       "    }\n",
       "\n",
       "    .dataframe tbody tr th {\n",
       "        vertical-align: top;\n",
       "    }\n",
       "\n",
       "    .dataframe thead th {\n",
       "        text-align: right;\n",
       "    }\n",
       "</style>\n",
       "<table border=\"1\" class=\"dataframe\">\n",
       "  <thead>\n",
       "    <tr style=\"text-align: right;\">\n",
       "      <th></th>\n",
       "      <th>comment</th>\n",
       "      <th>relates_to_speed</th>\n",
       "      <th>contains_complaint</th>\n",
       "    </tr>\n",
       "    <tr>\n",
       "      <th>comment_id</th>\n",
       "      <th></th>\n",
       "      <th></th>\n",
       "      <th></th>\n",
       "    </tr>\n",
       "  </thead>\n",
       "  <tbody>\n",
       "    <tr>\n",
       "      <th>1</th>\n",
       "      <td>Rychlá a efektivní služba. Doporučuji.</td>\n",
       "      <td>1</td>\n",
       "      <td>1</td>\n",
       "    </tr>\n",
       "    <tr>\n",
       "      <th>2</th>\n",
       "      <td>Nespokojen s rychlostí vyřízení pojistné událo...</td>\n",
       "      <td>0</td>\n",
       "      <td>1</td>\n",
       "    </tr>\n",
       "    <tr>\n",
       "      <th>3</th>\n",
       "      <td>Doporučuji tuto pojišťovnu. Rychlé a profesion...</td>\n",
       "      <td>0</td>\n",
       "      <td>1</td>\n",
       "    </tr>\n",
       "    <tr>\n",
       "      <th>4</th>\n",
       "      <td>Nemohu doporučit. Špatná komunikace a pomalé v...</td>\n",
       "      <td>0</td>\n",
       "      <td>1</td>\n",
       "    </tr>\n",
       "    <tr>\n",
       "      <th>5</th>\n",
       "      <td>Velmi rychlé vyřízení pojistné události. Dopor...</td>\n",
       "      <td>1</td>\n",
       "      <td>1</td>\n",
       "    </tr>\n",
       "  </tbody>\n",
       "</table>\n",
       "</div>"
      ],
      "text/plain": [
       "                                                      comment  \\\n",
       "comment_id                                                      \n",
       "1                      Rychlá a efektivní služba. Doporučuji.   \n",
       "2           Nespokojen s rychlostí vyřízení pojistné událo...   \n",
       "3           Doporučuji tuto pojišťovnu. Rychlé a profesion...   \n",
       "4           Nemohu doporučit. Špatná komunikace a pomalé v...   \n",
       "5           Velmi rychlé vyřízení pojistné události. Dopor...   \n",
       "\n",
       "            relates_to_speed  contains_complaint  \n",
       "comment_id                                        \n",
       "1                          1                   1  \n",
       "2                          0                   1  \n",
       "3                          0                   1  \n",
       "4                          0                   1  \n",
       "5                          1                   1  "
      ]
     },
     "execution_count": 76,
     "metadata": {},
     "output_type": "execute_result"
    }
   ],
   "source": [
    "predictions_df.head()"
   ]
  },
  {
   "cell_type": "code",
   "execution_count": 78,
   "id": "619ebe1d",
   "metadata": {},
   "outputs": [
    {
     "name": "stdout",
     "output_type": "stream",
     "text": [
      "speed accuracy: 0.38\n",
      "complaint accuracy: 0.5\n"
     ]
    }
   ],
   "source": [
    "print(f\"speed accuracy: {(df['relates_to_speed'] == predictions_df['relates_to_speed']).sum()/50}\")\n",
    "print(f\"complaint accuracy: {(df['contains_complaint'] == predictions_df['contains_complaint']).sum()/50}\")"
   ]
  },
  {
   "cell_type": "code",
   "execution_count": null,
   "id": "651c3901",
   "metadata": {},
   "outputs": [],
   "source": []
  }
 ],
 "metadata": {
  "kernelspec": {
   "display_name": "Python 3 (ipykernel)",
   "language": "python",
   "name": "python3"
  },
  "language_info": {
   "codemirror_mode": {
    "name": "ipython",
    "version": 3
   },
   "file_extension": ".py",
   "mimetype": "text/x-python",
   "name": "python",
   "nbconvert_exporter": "python",
   "pygments_lexer": "ipython3",
   "version": "3.10.6"
  }
 },
 "nbformat": 4,
 "nbformat_minor": 5
}
