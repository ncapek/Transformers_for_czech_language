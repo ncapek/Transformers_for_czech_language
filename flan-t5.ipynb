{
 "cells": [
  {
   "cell_type": "code",
   "execution_count": 1,
   "id": "e0813486",
   "metadata": {},
   "outputs": [],
   "source": [
    "from transformers import T5Tokenizer, T5ForConditionalGeneration\n",
    "\n",
    "tokenizer = T5Tokenizer.from_pretrained(\"google/flan-t5-large\")\n",
    "model = T5ForConditionalGeneration.from_pretrained(\"google/flan-t5-large\")"
   ]
  },
  {
   "cell_type": "code",
   "execution_count": 9,
   "id": "3d793574",
   "metadata": {},
   "outputs": [
    {
     "name": "stdout",
     "output_type": "stream",
     "text": [
      "['True']\n",
      "True is correct\n"
     ]
    }
   ],
   "source": [
    "# two shot\n",
    "inputs = tokenizer(\"\"\"Tell me if the following sentence, delimited by <>, speaks about speed of service. The sentences are going to be in Czech. Here are some examples. Return only True or False, nothing else.\n",
    "                   Example: Byl jsem mile překvapen rychlostí, s jakou mi pojišťovna vyřídila požadovanou žádost. Skvělá práce!\n",
    "                   Answer: True\n",
    "                   \n",
    "                   Example: Jsem velmi spokojený s komunikací pojišťovny. Vždy mi odpověděli na mé dotazy s trpělivostí a profesionalitou.\n",
    "                   Answer: False\n",
    "                   \n",
    "                   Example: <Pojišťovna je opravdu efektivní. Požádal jsem o úhradu škody a do hodiny mi již odpověděli. To je rychlost!>\n",
    "                   Answer: \"\"\", return_tensors=\"pt\")\n",
    "outputs = model.generate(**inputs)\n",
    "print(tokenizer.batch_decode(outputs, skip_special_tokens=True))\n",
    "print('True is correct')"
   ]
  },
  {
   "cell_type": "code",
   "execution_count": 10,
   "id": "a6718712",
   "metadata": {},
   "outputs": [
    {
     "name": "stdout",
     "output_type": "stream",
     "text": [
      "['True']\n",
      "True is correct\n"
     ]
    }
   ],
   "source": [
    "# zero shot\n",
    "inputs = tokenizer(\"\"\"Tell me if the following sentence, delimited by <>, speaks about speed of service. The sentences are going to be in Czech. Here are some examples. Return only True or False, nothing else.\n",
    "                   \n",
    "                   Example: <Pojišťovna je opravdu efektivní. Požádal jsem o úhradu škody a do hodiny mi již odpověděli. To je rychlost!>\n",
    "                   Answer: \"\"\", return_tensors=\"pt\")\n",
    "outputs = model.generate(**inputs)\n",
    "print(tokenizer.batch_decode(outputs, skip_special_tokens=True))\n",
    "print('True is correct')"
   ]
  },
  {
   "cell_type": "code",
   "execution_count": 11,
   "id": "8924371f",
   "metadata": {},
   "outputs": [
    {
     "name": "stdout",
     "output_type": "stream",
     "text": [
      "['True']\n",
      "True is correct\n"
     ]
    }
   ],
   "source": [
    "# two shot\n",
    "inputs = tokenizer(\"\"\"Tell me if the following sentence, delimited by <>, speaks about speed of service. The sentences are going to be in Czech. Here are some examples. Return only True or False, nothing else.\n",
    "                   Example: Byl jsem mile překvapen rychlostí, s jakou mi pojišťovna vyřídila požadovanou žádost. Skvělá práce!\n",
    "                   Answer: True\n",
    "                   \n",
    "                   Example: Jsem velmi spokojený s komunikací pojišťovny. Vždy mi odpověděli na mé dotazy s trpělivostí a profesionalitou.\n",
    "                   Answer: False\n",
    "                   \n",
    "                   Example: <Byl jsem mile překvapen rychlostí, s jakou mi pojišťovna vyřídila požadovanou žádost. Skvělá práce!>\n",
    "                   Answer: \"\"\", return_tensors=\"pt\")\n",
    "outputs = model.generate(**inputs)\n",
    "print(tokenizer.batch_decode(outputs, skip_special_tokens=True))\n",
    "print('True is correct')"
   ]
  },
  {
   "cell_type": "code",
   "execution_count": 12,
   "id": "6a510deb",
   "metadata": {},
   "outputs": [
    {
     "name": "stdout",
     "output_type": "stream",
     "text": [
      "['False']\n",
      "True is correct\n"
     ]
    }
   ],
   "source": [
    "# zero shot\n",
    "inputs = tokenizer(\"\"\"Tell me if the following sentence, delimited by <>, speaks about speed of service. The sentences are going to be in Czech. Here are some examples. Return only True or False, nothing else.\n",
    "                   \n",
    "                   Example: <Byl jsem mile překvapen rychlostí, s jakou mi pojišťovna vyřídila požadovanou žádost. Skvělá práce!>\n",
    "                   Answer: \"\"\", return_tensors=\"pt\")\n",
    "outputs = model.generate(**inputs)\n",
    "print(tokenizer.batch_decode(outputs, skip_special_tokens=True))\n",
    "print('True is correct')"
   ]
  },
  {
   "cell_type": "code",
   "execution_count": 7,
   "id": "bb9431f5",
   "metadata": {},
   "outputs": [
    {
     "name": "stdout",
     "output_type": "stream",
     "text": [
      "['False']\n"
     ]
    }
   ],
   "source": [
    "# two shot\n",
    "inputs = tokenizer(\"\"\"Tell me if the following sentence, delimited by <>, speaks about speed of service. The sentences are going to be in Czech. Here are some examples. Return only True or False, nothing else.\n",
    "                   Example: Byl jsem mile překvapen rychlostí, s jakou mi pojišťovna vyřídila požadovanou žádost. Skvělá práce!\n",
    "                   Answer: True\n",
    "                   \n",
    "                   Example: Jsem velmi spokojený s komunikací pojišťovny. Vždy mi odpověděli na mé dotazy s trpělivostí a profesionalitou.\n",
    "                   Answer: False\n",
    "                   \n",
    "                   Example: <Pojišťovna poskytuje vynikající služby. Jejich nabídky jsou přehledné a přizpůsobené mému pojištění.>\n",
    "                   Answer: \"\"\", return_tensors=\"pt\")\n",
    "outputs = model.generate(**inputs)\n",
    "print(tokenizer.batch_decode(outputs, skip_special_tokens=True))\n",
    "print('False is correct')"
   ]
  },
  {
   "cell_type": "code",
   "execution_count": 13,
   "id": "260429d3",
   "metadata": {},
   "outputs": [
    {
     "name": "stdout",
     "output_type": "stream",
     "text": [
      "['False']\n",
      "False is correct\n"
     ]
    }
   ],
   "source": [
    "# zero shot\n",
    "inputs = tokenizer(\"\"\"Tell me if the following sentence, delimited by <>, speaks about speed of service. The sentences are going to be in Czech. Here are some examples. Return only True or False, nothing else.\n",
    "                   \n",
    "                   Example: <Pojišťovna poskytuje vynikající služby. Jejich nabídky jsou přehledné a přizpůsobené mému pojištění.>\n",
    "                   Answer: \"\"\", return_tensors=\"pt\")\n",
    "outputs = model.generate(**inputs)\n",
    "print(tokenizer.batch_decode(outputs, skip_special_tokens=True))\n",
    "print('False is correct')"
   ]
  },
  {
   "cell_type": "code",
   "execution_count": 14,
   "id": "2ea10327",
   "metadata": {},
   "outputs": [
    {
     "name": "stdout",
     "output_type": "stream",
     "text": [
      "['False']\n",
      "False is correct\n"
     ]
    }
   ],
   "source": [
    "# two shot\n",
    "inputs = tokenizer(\"\"\"Tell me if the following sentence, delimited by <>, speaks about speed of service. The sentences are going to be in Czech. Here are some examples. Return only True or False, nothing else.\n",
    "                   Example: Byl jsem mile překvapen rychlostí, s jakou mi pojišťovna vyřídila požadovanou žádost. Skvělá práce!\n",
    "                   Answer: True\n",
    "                   \n",
    "                   Example: Jsem velmi spokojený s komunikací pojišťovny. Vždy mi odpověděli na mé dotazy s trpělivostí a profesionalitou.\n",
    "                   Answer: False\n",
    "                   \n",
    "                   Example: <Jsem velmi spokojený s komunikací pojišťovny. Vždy mi odpověděli na mé dotazy s trpělivostí a profesionalitou>\n",
    "                   Answer: \"\"\", return_tensors=\"pt\")\n",
    "outputs = model.generate(**inputs)\n",
    "print(tokenizer.batch_decode(outputs, skip_special_tokens=True))\n",
    "print('False is correct')"
   ]
  },
  {
   "cell_type": "code",
   "execution_count": 15,
   "id": "24e77856",
   "metadata": {},
   "outputs": [
    {
     "name": "stdout",
     "output_type": "stream",
     "text": [
      "['False']\n",
      "False is correct\n"
     ]
    }
   ],
   "source": [
    "# zero shot\n",
    "inputs = tokenizer(\"\"\"Tell me if the following sentence, delimited by <>, speaks about speed of service. The sentences are going to be in Czech. Here are some examples. Return only True or False, nothing else.\n",
    "                   \n",
    "                   Example: <Jsem velmi spokojený s komunikací pojišťovny. Vždy mi odpověděli na mé dotazy s trpělivostí a profesionalitou>\n",
    "                   Answer: \"\"\", return_tensors=\"pt\")\n",
    "outputs = model.generate(**inputs)\n",
    "print(tokenizer.batch_decode(outputs, skip_special_tokens=True))\n",
    "print('False is correct')"
   ]
  },
  {
   "cell_type": "code",
   "execution_count": null,
   "id": "1480e944",
   "metadata": {},
   "outputs": [],
   "source": []
  }
 ],
 "metadata": {
  "kernelspec": {
   "display_name": "Python 3 (ipykernel)",
   "language": "python",
   "name": "python3"
  },
  "language_info": {
   "codemirror_mode": {
    "name": "ipython",
    "version": 3
   },
   "file_extension": ".py",
   "mimetype": "text/x-python",
   "name": "python",
   "nbconvert_exporter": "python",
   "pygments_lexer": "ipython3",
   "version": "3.10.6"
  }
 },
 "nbformat": 4,
 "nbformat_minor": 5
}
