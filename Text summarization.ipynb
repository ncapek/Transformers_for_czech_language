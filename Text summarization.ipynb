{
 "cells": [
  {
   "cell_type": "code",
   "execution_count": 2,
   "id": "bff3214b",
   "metadata": {},
   "outputs": [
    {
     "name": "stderr",
     "output_type": "stream",
     "text": [
      "[nltk_data] Downloading package punkt to\n",
      "[nltk_data]     C:\\Users\\capek\\AppData\\Roaming\\nltk_data...\n",
      "[nltk_data]   Package punkt is already up-to-date!\n"
     ]
    }
   ],
   "source": [
    "from transformers import pipeline, set_seed\n",
    "from data.novinky_data import novinky_dataset\n",
    "import nltk\n",
    "from nltk.tokenize import sent_tokenize\n",
    "\n",
    "nltk.download(\"punkt\")\n",
    "summaries = {}\n",
    "\n",
    "pipe = pipeline(\"summarization\", model=\"krotima1/mbart-ht2a-cs\")"
   ]
  },
  {
   "cell_type": "code",
   "execution_count": null,
   "id": "c2b41ec3",
   "metadata": {},
   "outputs": [
    {
     "name": "stderr",
     "output_type": "stream",
     "text": [
      "Your max_length is set to 1024, but you input_length is only 970. You might consider decreasing max_length manually, e.g. summarizer('...', max_length=485)\n",
      "Your max_length is set to 1024, but you input_length is only 613. You might consider decreasing max_length manually, e.g. summarizer('...', max_length=306)\n"
     ]
    },
    {
     "name": "stdout",
     "output_type": "stream",
     "text": [
      "----------------------\n",
      "Title: Hospodám na maloměstě a venkově zvoní hrana\n",
      "Content:\n",
      "\n",
      "Hospodám na maloměstě a venkově zvoní hrana\n",
      "Hospody na maloměstě a venkově zažívají od konce loňského roku krušné časy. Při započtení inflace se jejich tržby v závěru loňského roku propadly až o třetinu oproti stejnému období v předcovidovém roce 2019.\n",
      "\n",
      "\n",
      "Foto: Jan Halaška, ČTK\n",
      "Ilustrační foto.\n",
      "\n",
      "Článek\n",
      "„Ukazuje, se, že v gastronomii je Praha stát ve státě. Pokud se na venkově snaží držet koncept české hospody, tak směřují k tomu, že skončí,“ prohlásil Luboš Kastner, restauratér a zástupce gastronomů v Asociaci malých a středních podniků a živnostníků ČR.\n",
      "\n",
      "Zatímco tržby restaurací v Praze v posledním loňském čtvrtletí stouply o 35 procent a v krajských městech o 22 procent, u měst s méně než 20 tisíci obyvateli už mírně klesly. U obcí s méně než 5000 obyvateli pak činil propad přes osm procent.\n",
      "\n",
      "Vyplývá to z analýzy poskytovatele pokladních systémů, společnosti Dotykačka. V tržbách je ovšem započtena i inflace z posledních let, která v součtu znamenala zdražení o více než 20 procent, takže ve skutečnosti se na maloměstě a venkově jedná o propad až o třetinu.\n",
      "\n",
      "Obědy za rok zdražily o pětinu, restaurace přicházejí o hosty\n",
      "Finance\n",
      "\n",
      "„Restauraci jsem v prosinci uzavřela, protože kšefty nebyly. Dlouho jsme se snažila nezdražovat obědy ani pivo, ale o pár korun jsem nakonec musela. Zákazníci moc nechodili a když už přišli na oběd, stávalo se, že si dali například špagety a chtěli dva talíře,“ řekla Právu provozovatelka jedné menší restaurace v Třeboni.\n",
      "\n",
      "Řízek měl s sebou\n",
      "„Otevřu zase na jaře, ale pokud lidi nebudou chodit, tak s provozováním skončím. Finančně je to neúnosné a je hodně vidět, že lidé šetří,“ dodala. Lidé si podle ní dávali k obědu většinou hotová jídla, dražší minutky už ne, a večeře byly bídné. „Stalo se mi dokonce, že přišel pán na pivo a s sebou měl řízek s chlebem,“ vylíčila.\n",
      "\n",
      "„Obědy jsou na polovičce, pivní kultura na nule,“ potvrdil majitel vyhlášené restaurace Na Žabinci v Telči Josef Beňo. V pětitisícovém městě na Vysočině jsou na tom podle jeho slov restauratéři vesměs stejně.\n",
      "\n",
      "„Obědy se možná ještě jakž takž vrátí, ale chození na pivo, tak jak jsme ho znali, kdy byly hospody večer narvané, už ne,“ podotkl.\n",
      "\n",
      "Týdenní řád podle něj vypadá takto: po odpoledních ucucává jedno dvě piva několik seniorů, ve středu je doplní dámské dýchánky. A večer bývá prázdno. „Někdy i o víkendech,“ podotkl.\n",
      "\n",
      "Podle jeho slov byl prvním hřebíčkem do rakve pivařů zákaz kouření, tečku za plnými hospodami pak udělal druhý covidový lockdown.\n",
      "\n",
      "„Tehdy si všichni nakoupili chlazení a zvykli si popíjet po garážích,“ popsal majitel telčského podniku. Nynější vysoká inflace už jen trend posílila. Lidé si ale rovněž zvykli častěji jíst v různých bistrech a stáncích.\n",
      "\n",
      "Až o 15 procent klesly tržby majitelce zámecké restaurace v Horšovském Týně na Domažlicku. „Lidé chodí méně na obědy, možná i trochu zpohodlněli. Přes týden máme večer většinu stolů prázdných a hosty vyhlížíme, víkendy jsou ale dobré,“ popsala majitelka Veronika Baumannová.\n",
      "\n",
      "Průměrná útrata za oběd včetně nápoje, který si ovšem každý nedá, byla podle průzkumu Sodexo loni v prosinci 180,40 Kč. Nejdražší byly obědy v Praze, v průměru za 203,50 Kč. Nejlevněji se obědvalo na Vysočině a v Ústeckém kraji, kde cena překročila 161 korun.\n",
      "\n",
      "Summary:\n",
      "Restaurací na maloměstě a venkově přibývá.\n",
      "Obědy za rok zdražily o pětinu, restaurace přicházejí o hosty.\n"
     ]
    },
    {
     "name": "stderr",
     "output_type": "stream",
     "text": [
      "Your max_length is set to 1024, but you input_length is only 466. You might consider decreasing max_length manually, e.g. summarizer('...', max_length=233)\n"
     ]
    },
    {
     "name": "stdout",
     "output_type": "stream",
     "text": [
      "----------------------\n",
      "Title: Nexen prý mzdy zvýší od března. Tvrdí, že je ve ztrátě\n",
      "Content:\n",
      "\n",
      "Nexen prý mzdy zvýší od března. Tvrdí, že je ve ztrátě\n",
      "Zástupci Nexenu u Žatce, kde v úterý začala stávka, chtějí požadavky odborářů probrat s korejskými vlastníky firmy, řekl předseda Odborového svazu KOVO Roman Ďurčo. Požadavky přitom odbory s firmou řeší už rok. Stávka tak pokračuje. Firma uvedla, že je ve ztrátě, mzdy prý ale od března zvýší. O kolik, neuvedla.\n",
      "\n",
      "\n",
      "Foto: Petr Hloušek, Právo\n",
      "Zaměstnanci společnost Nexen Tire demonstrovali před velvyslanectvím Korejské republiky kvůli situaci ve firmě.\n",
      "\n",
      "Článek\n",
      "„My jsme jim oznámili požadavky, které mají už týden na stole. Seznámili jsme je s nimi a oni si vzali nějakou dobu na propočet, aby nám nakonec řekli, že si berou pár dní na projednání s korejskými vlastníky,“ sdělil Ďurčo.\n",
      "\n",
      "Odboráři v továrně na pneumatiky před rokem vyhlásili stávkovou pohotovost kvůli postoji korejských vlastníků firmy ke kolektivnímu vyjednávání. Zaměstnavatel odmítl smlouvu, kterou vypracoval zprostředkovatel a měla být kompromisem.\n",
      "\n",
      "Nexen v reakci na stávku ve vyjádření ČTK napsal, že je ve ztrátě. Podle výročních zpráv byl za rok 2021 v zisku 709 milionů korun, rok předtím byla ztráta 1,4 miliardy. „Skutečnost naší společnosti je taková, že na základě produktů vyrobených čistě v České republice se nachází v červených číslech,“ stojí v úterním vyjádření firmy. Požadavky zaměstnanců jsou prý neúměrné ekonomické situaci společnosti.\n",
      "\n",
      "Mzdy prý zvyšovaly\n",
      "Firma také tvrdí, že mzdy v minulosti zvyšovala, například od ledna loňského roku o 4,7 procenta všem zaměstnancům. A nyní je prý zvýší od 1. března, ovšem nesdělila o kolik.\n",
      "\n",
      "Současně uvedla příklad, že od roku 2019 se mzda 98 pracovníkům zvedla o 13,4 procenta. Jde o ty, kteří neměli v práci absence a byli hodnoceni jako vynikající. Firma má přitom 1100 zaměstnanců.\n",
      "\n",
      "Odbory naopak uvádějí, že firma nezvyšovala mzdy většině lidí od roku 2018. Což je od chvíle, kdy továrna v Žatci funguje. Zaměstnanci požadují růst mezd o 8,3 procenta, příplatky za noční směny a víkendy.\n",
      "\n",
      "Do úterní stávky se zapojilo 190 z celkových 1100 zaměstnanců. Firma místo nich povolala jiné zaměstnance, což podle odborů odporuje zákonu o stávce a kolektivním vyjednávání.\n",
      "\n",
      "Summary:\n",
      "Odborový svaz KOVO Roman Ďurčo řekl předseda Odborového svazu KOVO Roman Ďurčo.\n",
      "Požadavky přitom odbory s firmou řeší už rok.\n",
      "Stávka tak pokračuje.\n",
      "Firma uvedla, že je ve ztrátě, mzdy ale od března zvýší.\n",
      "O kolik, neuvedla.\n"
     ]
    },
    {
     "name": "stderr",
     "output_type": "stream",
     "text": [
      "Your max_length is set to 1024, but you input_length is only 391. You might consider decreasing max_length manually, e.g. summarizer('...', max_length=195)\n"
     ]
    },
    {
     "name": "stdout",
     "output_type": "stream",
     "text": [
      "----------------------\n",
      "Title: Lidé na home office by mohli dostávat náhrady, dohodáři pak výhody\n",
      "Content:\n",
      "\n",
      "Lidé na home office by mohli dostávat náhrady, dohodáři pak výhody\n",
      "Lidé, kteří pracují z domova, by mohli od zaměstnavatelů dostávat náhrady výdajů, jako například za používání vlastního nářadí, případně paušální úhradu výdajů za elektřinu či topení. Plyne to z novely zákoníku práce, kterou vládě předloží ministr práce Marian Jurečka.\n",
      "\n",
      "\n",
      "Foto: Profimedia.cz\n",
      "Lidem na home office by zaměstnavatel mohl dávat náhrady za to, že používají k práci vlastní zařízení.\n",
      "\n",
      "Článek\n",
      "Paušál za energie by mohl činit 2,80 koruny za každou započatou hodinu práce. Ministerstvo by na každý rok částku aktualizovalo podle údajů statistického úřadu. Mimořádně by se paušál valorizoval, pokud by náklady narostly nejméně o 20 procent. Náhrady by nesměly být součástí výdělku, nedanily by se. Domluvit by si je mohli i pracovníci tzv. na dohodu.\n",
      "\n",
      "Není však jisté, zda náhrady budou povinné, nebo by je zaměstnavatel poskytoval dobrovolně, například ve formě bonusu. Mohl by si je zahrnout do daňově uznatelných nákladů.\n",
      "\n",
      "Další zásadní změna by se týkala pracovníků na dohodu. Nově by měli nárok na ošetřovné nebo na dovolenou. Ta by se odvíjela od počtu odpracovaných hodin. Dostávali by také příplatky za práci o víkendu, svátcích nebo v noci.\n",
      "\n",
      "Pokud by lidé na dohodu pracovali pro firmu více než půl roku, mohli by požádat o pracovní smlouvu.\n",
      "\n",
      "Rovnováha mezi prací a rodinou\n",
      "Novela do zákona přenáší dvě směrnice EU o předvídatelných pracovních podmínkách a o rovnováze mezi prací a rodinou. Týkají se mimo jiné rodičovské či práce na dohodu. Změny měly začít platit do začátku loňského srpna, ČR na úpravu legislativy a zavedení do praxe měla přes tři roky. Minulá vláda to však neprovedla a Česku tak hrozí pokuty.\n",
      "\n",
      "Summary:\n",
      "Li, kteří pracují z domova, by mohli od zaměstnavatelů dostávat náhrady výdajů, jako například za používání vlastního nářadí, případně paušální úhradu výdajů za elektřinu či topení.\n",
      "Plyne to z novely zákoníku práce, kterou vládě předloží ministr práce Marian Jurečka.\n"
     ]
    },
    {
     "name": "stderr",
     "output_type": "stream",
     "text": [
      "Your max_length is set to 1024, but you input_length is only 652. You might consider decreasing max_length manually, e.g. summarizer('...', max_length=326)\n"
     ]
    },
    {
     "name": "stdout",
     "output_type": "stream",
     "text": [
      "----------------------\n",
      "Title: Francii ochromila generální stávka, účastnilo se 1,3 milionu lidí\n",
      "Content:\n",
      "\n",
      "Francii ochromila generální stávka, účastnilo se 1,3 milionu lidí\n",
      "Druhá letošní generální stávka kvůli vládou ohlášené důchodové reformě v úterý ve Francii ovlivnila výrobu elektřiny, zrušila výuku na některých školách a zastavila veřejnou dopravu. Ochromena byla také činnost některých rafinerií, uvádějí agentury. Podle policie stávkovalo v zemi 1,72 milionu lidí, odbory uvádějí účast 2,8 milionu.\n",
      "\n",
      "Lidé po celé zemi protestují proti v lednu představené důchodové reformě. Vláda chce mimo jiné postupně posunout hranici odchodu do důchodu o dva roky na 64 let.\n",
      "\n",
      "„Tato reforma je nespravedlivá a brutální,“ řekl generální tajemník odborového svazu UNSA Luc Farre. „Posunutí (věku odchodu do důchodu) na 64 let je ze sociálního hlediska krokem zpět,“ dodal.\n",
      "\n",
      "Stávku provázejí protestní shromáždění v asi dvou stovkách francouzských měst. Na pořádek na demonstracích dohlíží na 11 tisíc francouzských policistů. Podle policejních odhadů demonstrovalo 1,272 milionu lidí. Pořádající odbory CGT uvádějí 2,8 milionu lidí, píše BFM TV. Demonstrace se zatím obešly bez násilí.\n",
      "\n",
      "Podle informací stanice BBC se do stávky zapojila asi polovina všech francouzských učitelů. Ministerstvo školství nicméně hovoří jen o čtvrtině.\n",
      "\n",
      "Odbory, které na celý den naplánovaly protestní shromáždění po celé Francii, chtějí udržet tlak na vládu. Doufají také, že se jim podaří zopakovat velkou účast z první stávky 19. ledna, které se zúčastnilo přes milion lidí.\n",
      "\n",
      "Summary:\n",
      "Druhá letošní generální stávka v úterý ve Francii ovlivnila výrobu elektřiny, zrušila výuku na některých školách a zastavila veřejnou dopravu.\n",
      "Ochromena byla také činnost některých rafinerií, uvádějí agentury.\n",
      "Podle policie stávkovalo v zemi 1,72 milionu lidí, odbory uvádějí účast 2,8 milionu.\n",
      "Lidé po celé zemi protestují proti v lednu představené důchodové reformě.\n"
     ]
    }
   ],
   "source": [
    "for entry in novinky_dataset:\n",
    "    pipe_out = pipe(entry['content'])\n",
    "    summary = \"\\n\".join(sent_tokenize(pipe_out[0][\"summary_text\"]))\n",
    "    print('----------------------')\n",
    "    print(f'Title: {entry[\"title\"]}')\n",
    "    print('Content:')\n",
    "    print(f'{entry[\"content\"]}')\n",
    "    print(f'Summary:')\n",
    "    print(f'{summary}')"
   ]
  }
 ],
 "metadata": {
  "kernelspec": {
   "display_name": "Python 3 (ipykernel)",
   "language": "python",
   "name": "python3"
  },
  "language_info": {
   "codemirror_mode": {
    "name": "ipython",
    "version": 3
   },
   "file_extension": ".py",
   "mimetype": "text/x-python",
   "name": "python",
   "nbconvert_exporter": "python",
   "pygments_lexer": "ipython3",
   "version": "3.10.6"
  }
 },
 "nbformat": 4,
 "nbformat_minor": 5
}
