{
 "cells": [
  {
   "cell_type": "markdown",
   "id": "9a11af8f",
   "metadata": {},
   "source": [
    "# Extractive question answering"
   ]
  },
  {
   "cell_type": "code",
   "execution_count": 76,
   "id": "ff243338",
   "metadata": {},
   "outputs": [],
   "source": [
    "from transformers import AutoTokenizer\n",
    "import torch\n",
    "from transformers import AutoModelForQuestionAnswering\n",
    "\n",
    "# model_ckpt = \"albert-xxlarge-v2\" \n",
    "# model_ckpt = \"deepset/minilm-uncased-squad2\"\n",
    "model_ckpt = \"gaussalgo/xlm-roberta-large_extractive-QA_en-cs\"\n",
    "# model_ckpt = \"gaussalgo/mt5-large-priming-QA_en-cs\"\n",
    "\n",
    "tokenizer = AutoTokenizer.from_pretrained(model_ckpt)\n",
    "model = AutoModelForQuestionAnswering.from_pretrained(model_ckpt)"
   ]
  },
  {
   "cell_type": "code",
   "execution_count": 77,
   "id": "21deb874",
   "metadata": {},
   "outputs": [],
   "source": [
    "questions = [\"Co se vám líbilo?\", \"Co se vám nelíbilo?\", \"Jaké byly postavy?\", \"Jaký byl děj?\", \"Jaké máte pocity z filmu?\", \"Jste spokojeni nebo zklamáni?\", \"Co si myslíte o Cameronovi?\", \"Co jste měli dnes k obědu?\"]\n",
    "context = \"\"\"Kinoprojekce 3D. Moment překvapení již sice vyprchal, ale přesto jde stále o bohatou podívanou s propracovanou logistikou. Nejvíce mě nadchla ukázka fantazie mořského světa s propojením duše a přírody.😍👏Majstrštyk s podpisem skvělého režiséra mě opět vyvedl na 3 hodiny z tvrdé reality pozemšťana s výjimkou bojových a ziskuchtivých scén, jež jsou buhužel až příliš aktuální a velmi destruktivní pro lidskou populaci…😢😏😕🤪\"\"\""
   ]
  },
  {
   "cell_type": "code",
   "execution_count": 78,
   "id": "05a38199",
   "metadata": {},
   "outputs": [
    {
     "name": "stdout",
     "output_type": "stream",
     "text": [
      "<s> Co jste měli dnes k obědu?</s></s> Kinoprojekce 3D. Moment překvapení již sice vyprchal, ale přesto jde stále o bohatou podívanou s propracovanou logistikou. Nejvíce mě nadchla ukázka fantazie mořského světa s propojením duše a přírody.😍👏Majstrštyk s podpisem skvělého režiséra mě opět vyvedl na 3 hodiny z tvrdé reality pozemšťana s výjimkou bojových a ziskuchtivých scén, jež jsou buhužel až příliš aktuální a velmi destruktivní pro lidskou populaci...😢😏😕🤪</s>\n"
     ]
    }
   ],
   "source": [
    "print(tokenizer.decode(inputs[\"input_ids\"][0]))"
   ]
  },
  {
   "cell_type": "code",
   "execution_count": 79,
   "id": "4b6699ec",
   "metadata": {},
   "outputs": [
    {
     "name": "stdout",
     "output_type": "stream",
     "text": [
      "Context: Kinoprojekce 3D. Moment překvapení již sice vyprchal, ale přesto jde stále o bohatou podívanou s propracovanou logistikou. Nejvíce mě nadchla ukázka fantazie mořského světa s propojením duše a přírody.😍👏Majstrštyk s podpisem skvělého režiséra mě opět vyvedl na 3 hodiny z tvrdé reality pozemšťana s výjimkou bojových a ziskuchtivých scén, jež jsou buhužel až příliš aktuální a velmi destruktivní pro lidskou populaci…😢😏😕🤪\n",
      "Question: Co se vám líbilo?\n",
      "\tTop 1 answer: fantazie mořského světa s propojením duše a přírody.😍👏Majstrštyk\n",
      "\tTop 2 answer: fantazie mořského světa s\n",
      "\tTop 3 answer: Kinoprojekce 3D.\n",
      "Question: Co se vám nelíbilo?\n",
      "\tTop 1 answer: Kinoprojekce 3D.\n",
      "\tTop 2 answer: \n",
      "\tTop 3 answer: bojových a ziskuchtivých scén,\n",
      "Question: Jaké byly postavy?\n",
      "\tTop 1 answer: \n",
      "\tTop 2 answer: buhužel\n",
      "\tTop 3 answer: buhužel až\n",
      "Question: Jaký byl děj?\n",
      "\tTop 1 answer: \n",
      "\tTop 2 answer: fantazie\n",
      "\tTop 3 answer: fantazie mořského\n",
      "Question: Jaké máte pocity z filmu?\n",
      "\tTop 1 answer: překvapení již\n",
      "\tTop 2 answer: nadchla ukázka\n",
      "\tTop 3 answer: Moment překvapení již\n",
      "Question: Jste spokojeni nebo zklamáni?\n",
      "\tTop 1 answer: \n",
      "\tTop 2 answer: překvapení\n",
      "\tTop 3 answer: buhužel\n",
      "Question: Co si myslíte o Cameronovi?\n",
      "\tTop 1 answer: \n",
      "\tTop 2 answer: režiséra\n",
      "\tTop 3 answer: režiséra mě\n",
      "Question: Co jste měli dnes k obědu?\n",
      "\tTop 1 answer: \n",
      "\tTop 2 answer: bohatou\n",
      "\tTop 3 answer: bohatou podívanou\n"
     ]
    }
   ],
   "source": [
    "print(f\"Context: {context}\")\n",
    "\n",
    "for question in questions:\n",
    "    inputs = tokenizer(question, context, return_tensors=\"pt\")\n",
    "    with torch.no_grad():\n",
    "        outputs = model(**inputs)\n",
    "    start_logits = outputs.start_logits\n",
    "    end_logits = outputs.end_logits\n",
    "    start_idx = torch.argmax(start_logits)  \n",
    "    end_idx = torch.argmax(end_logits) + 1  \n",
    "    answer_span = inputs[\"input_ids\"][0][start_idx:end_idx]\n",
    "    answer = tokenizer.decode(answer_span)\n",
    "    pipe = pipeline(\"question-answering\", model=model, tokenizer=tokenizer)\n",
    "    answers = pipe(question=question, context=context, topk=3, handle_impossible_answer=True)\n",
    "    \n",
    "    print(f\"Question: {question}\")\n",
    "    for idx, answer in enumerate(answers):\n",
    "        print(f\"\\tTop {idx+1} answer: {answer['answer']}\")"
   ]
  },
  {
   "cell_type": "markdown",
   "id": "1b862855",
   "metadata": {},
   "source": [
    "# Generative question answering"
   ]
  },
  {
   "cell_type": "code",
   "execution_count": 87,
   "id": "20a6c8c9",
   "metadata": {},
   "outputs": [
    {
     "name": "stdout",
     "output_type": "stream",
     "text": [
      "Input text: \n",
      "    Question: Jak se jmenuje prezident? \n",
      "    Context: Včera jsem měl rozhovor s nově zvoleným prezidentem, Petrem Pavlem.\n",
      "    Answer: Petr Pavel \n",
      "    Question: Při studiu jsem absolvoval mnoho nudných předkášek o dějinách ekonomického myšlení.\n",
      "    Context: Jaké byly přednášky z dějin ekonomického myšlení?\n",
      "    Answer: nudné\n",
      "    Question: Dnes jsem měl k obědu kuřecí kung pao.\n",
      "    Context: Co jsem měl dnes k obědu?\n",
      "    Answer: kuření kung pao\n",
      "    Question: Moje oblíbená sci-fi kniha je Enderova hra.\n",
      "    Context: Jaká je moje oblíbená sci-fi kniha?\n",
      "    Answer: Enderova hra.\n",
      "    Question: Nejraději ve volném čase čtu.\n",
      "    Context: Co dělám nejraději ve volném čase?\n",
      "    Answer:\n",
      "Answer:\n",
      "<pad> čtu</s>\n"
     ]
    }
   ],
   "source": [
    "from transformers import AutoTokenizer, AutoModelForSeq2SeqLM\n",
    "\n",
    "tokenizer = AutoTokenizer.from_pretrained(\"gaussalgo/mt5-large-priming-QA_en-cs\")\n",
    "model = AutoModelForSeq2SeqLM.from_pretrained(\"gaussalgo/mt5-large-priming-QA_en-cs\")\n",
    "\n",
    "\n",
    "input_text = \"\"\"\n",
    "    Question: Jak se jmenuje prezident? \n",
    "    Context: Včera jsem měl rozhovor s nově zvoleným prezidentem, Petrem Pavlem.\n",
    "    Answer: Petr Pavel \n",
    "    Question: Při studiu jsem absolvoval mnoho nudných předkášek o dějinách ekonomického myšlení.\n",
    "    Context: Jaké byly přednášky z dějin ekonomického myšlení?\n",
    "    Answer: nudné\n",
    "    Question: Dnes jsem měl k obědu kuřecí kung pao.\n",
    "    Context: Co jsem měl dnes k obědu?\n",
    "    Answer: kuřecí kung pao\n",
    "    Question: Moje oblíbená sci-fi kniha je Enderova hra.\n",
    "    Context: Jaká je moje oblíbená sci-fi kniha?\n",
    "    Answer: Enderova hra.\n",
    "    Question: Nejraději ve volném čase čtu.\n",
    "    Context: Co dělám nejraději ve volném čase?\n",
    "    Answer:\"\"\"\n",
    "\n",
    "# For the expected format of input_text, see Intended use above\n",
    "inputs = tokenizer(input_text, return_tensors=\"pt\")\n",
    "\n",
    "outputs = model.generate(**inputs)\n",
    "\n",
    "print(f'Input text: {input_text}')\n",
    "print(\"Answer:\")\n",
    "print(tokenizer.decode(outputs[0]))"
   ]
  },
  {
   "cell_type": "code",
   "execution_count": 85,
   "id": "dbc87479",
   "metadata": {},
   "outputs": [
    {
     "name": "stdout",
     "output_type": "stream",
     "text": [
      "<pad> čtu</s>\n"
     ]
    }
   ],
   "source": [
    "print(tokenizer.decode(outputs[0]))"
   ]
  },
  {
   "cell_type": "code",
   "execution_count": null,
   "id": "118b346a",
   "metadata": {},
   "outputs": [],
   "source": []
  }
 ],
 "metadata": {
  "kernelspec": {
   "display_name": "Python 3 (ipykernel)",
   "language": "python",
   "name": "python3"
  },
  "language_info": {
   "codemirror_mode": {
    "name": "ipython",
    "version": 3
   },
   "file_extension": ".py",
   "mimetype": "text/x-python",
   "name": "python",
   "nbconvert_exporter": "python",
   "pygments_lexer": "ipython3",
   "version": "3.10.6"
  }
 },
 "nbformat": 4,
 "nbformat_minor": 5
}
