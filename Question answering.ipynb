{
 "cells": [
  {
   "cell_type": "code",
   "execution_count": 41,
   "id": "5362540c",
   "metadata": {},
   "outputs": [],
   "source": [
    "from transformers import AutoTokenizer\n",
    "import torch\n",
    "from transformers import AutoModelForQuestionAnswering\n",
    "\n",
    "# model_ckpt = \"albert-xxlarge-v2\" \n",
    "# model_ckpt = \"deepset/minilm-uncased-squad2\"\n",
    "model_ckpt = \"gaussalgo/xlm-roberta-large_extractive-QA_en-cs\"\n",
    "\n",
    "tokenizer = AutoTokenizer.from_pretrained(model_ckpt)\n",
    "model = AutoModelForQuestionAnswering.from_pretrained(model_ckpt)"
   ]
  },
  {
   "cell_type": "code",
   "execution_count": 72,
   "id": "fa1d5749",
   "metadata": {},
   "outputs": [],
   "source": [
    "questions = [\"Co se vám líbilo?\", \"Co se vám nelíbilo?\", \"Jaké byly postavy?\", \"Jaký byl děj?\", \"Jaké máte pocity z filmu?\", \"Jste spokojeni nebo zklamáni?\", \"Co si myslíte o Cameronovi?\", \"Co jste měli dnes k obědu?\"]\n",
    "context = \"\"\"Kinoprojekce 3D. Moment překvapení již sice vyprchal, ale přesto jde stále o bohatou podívanou s propracovanou logistikou. Nejvíce mě nadchla ukázka fantazie mořského světa s propojením duše a přírody.😍👏Majstrštyk s podpisem skvělého režiséra mě opět vyvedl na 3 hodiny z tvrdé reality pozemšťana s výjimkou bojových a ziskuchtivých scén, jež jsou buhužel až příliš aktuální a velmi destruktivní pro lidskou populaci…😢😏😕🤪\"\"\""
   ]
  },
  {
   "cell_type": "code",
   "execution_count": 73,
   "id": "e9fa8d55",
   "metadata": {},
   "outputs": [
    {
     "name": "stdout",
     "output_type": "stream",
     "text": [
      "<s> Co jste měli dnes k obědu?</s></s> Zklamání, čekal jsem víc. Nikdy jsem nebyl žádnej modrej fanatik, ale před třinácti lety jsem se nechal tou mánií strhnout, na jedničku šel na 3D a dal jí pět hvězd. Teď jsem si jedničku zopakoval a zůstal jsem na pěti - je to pořád jenom blbá pohádka, ale z různých důvodů pohádka hodná pěti hvězd. A byl jsem zvědavej, jakým směrem se bude ubírat dvojka - třináctileté \"čekání\", obrovské plány, obrovské přípravy, zvěsti o opětovné revolučnosti atd. atd... A dostal jsem prachobyčejnou dvojku jako přes kopírák. Jaká asi bude zápletka? Aha, lidi se vrátili, takže zase hodní Na ́vi versus zlí lidi, jako v jedničce, OK. Kdo asi bude hlavní záporák? Aha, Quaritch sice v jedničce umřel, ale máme ho tu zase, OK. Tak si alespoň ušetříme hodinové objevování světa Pandory jako v jedničce. Aha, ze stromů se přesuneme do vody a uděláme to samé jako v jedničce, OK. (Navštívíme ve trojce sněžné kmeny, ve čtyřce jeskynní kmeny, v pětce ohňové kmeny...? Budeme v každém díle hodinu objevovat nepoznané kraje Pandory?) Kdyby mne zajímaly problémy dospívajících a jejich výchovy, vyhledal bych ve filmotéce příslušné tituly a nevydával se na tříhodinovou pouť vesmírem... 50%</s>\n"
     ]
    }
   ],
   "source": [
    "print(tokenizer.decode(inputs[\"input_ids\"][0]))"
   ]
  },
  {
   "cell_type": "code",
   "execution_count": 74,
   "id": "3e70c5df",
   "metadata": {},
   "outputs": [
    {
     "name": "stdout",
     "output_type": "stream",
     "text": [
      "Context: Kinoprojekce 3D. Moment překvapení již sice vyprchal, ale přesto jde stále o bohatou podívanou s propracovanou logistikou. Nejvíce mě nadchla ukázka fantazie mořského světa s propojením duše a přírody.😍👏Majstrštyk s podpisem skvělého režiséra mě opět vyvedl na 3 hodiny z tvrdé reality pozemšťana s výjimkou bojových a ziskuchtivých scén, jež jsou buhužel až příliš aktuální a velmi destruktivní pro lidskou populaci…😢😏😕🤪\n",
      "Question: Co se vám líbilo?\n",
      "\tTop 1 answer: fantazie mořského světa s propojením duše a přírody.😍👏Majstrštyk\n",
      "\tTop 2 answer: fantazie mořského světa s\n",
      "\tTop 3 answer: Kinoprojekce 3D.\n",
      "Question: Co se vám nelíbilo?\n",
      "\tTop 1 answer: Kinoprojekce 3D.\n",
      "\tTop 2 answer: \n",
      "\tTop 3 answer: bojových a ziskuchtivých scén,\n",
      "Question: Jaké byly postavy?\n",
      "\tTop 1 answer: \n",
      "\tTop 2 answer: buhužel\n",
      "\tTop 3 answer: buhužel až\n",
      "Question: Jaký byl děj?\n",
      "\tTop 1 answer: \n",
      "\tTop 2 answer: fantazie\n",
      "\tTop 3 answer: fantazie mořského\n",
      "Question: Jaké máte pocity z filmu?\n",
      "\tTop 1 answer: překvapení již\n",
      "\tTop 2 answer: nadchla ukázka\n",
      "\tTop 3 answer: Moment překvapení již\n",
      "Question: Jste spokojeni nebo zklamáni?\n",
      "\tTop 1 answer: \n",
      "\tTop 2 answer: překvapení\n",
      "\tTop 3 answer: buhužel\n",
      "Question: Co si myslíte o Cameronovi?\n",
      "\tTop 1 answer: \n",
      "\tTop 2 answer: režiséra\n",
      "\tTop 3 answer: režiséra mě\n",
      "Question: Co jste měli dnes k obědu?\n",
      "\tTop 1 answer: \n",
      "\tTop 2 answer: bohatou\n",
      "\tTop 3 answer: bohatou podívanou\n"
     ]
    }
   ],
   "source": [
    "print(f\"Context: {context}\")\n",
    "\n",
    "for question in questions:\n",
    "    inputs = tokenizer(question, context, return_tensors=\"pt\")\n",
    "    with torch.no_grad():\n",
    "        outputs = model(**inputs)\n",
    "    start_logits = outputs.start_logits\n",
    "    end_logits = outputs.end_logits\n",
    "    start_idx = torch.argmax(start_logits)  \n",
    "    end_idx = torch.argmax(end_logits) + 1  \n",
    "    answer_span = inputs[\"input_ids\"][0][start_idx:end_idx]\n",
    "    answer = tokenizer.decode(answer_span)\n",
    "    pipe = pipeline(\"question-answering\", model=model, tokenizer=tokenizer)\n",
    "    answers = pipe(question=question, context=context, topk=3, handle_impossible_answer=True)\n",
    "    \n",
    "    print(f\"Question: {question}\")\n",
    "    for idx, answer in enumerate(answers):\n",
    "        print(f\"\\tTop {idx+1} answer: {answer['answer']}\")"
   ]
  },
  {
   "cell_type": "code",
   "execution_count": null,
   "id": "d166b8da",
   "metadata": {},
   "outputs": [],
   "source": []
  },
  {
   "cell_type": "code",
   "execution_count": null,
   "id": "de0ac23b",
   "metadata": {},
   "outputs": [],
   "source": []
  }
 ],
 "metadata": {
  "kernelspec": {
   "display_name": "Python 3 (ipykernel)",
   "language": "python",
   "name": "python3"
  },
  "language_info": {
   "codemirror_mode": {
    "name": "ipython",
    "version": 3
   },
   "file_extension": ".py",
   "mimetype": "text/x-python",
   "name": "python",
   "nbconvert_exporter": "python",
   "pygments_lexer": "ipython3",
   "version": "3.10.6"
  }
 },
 "nbformat": 4,
 "nbformat_minor": 5
}
