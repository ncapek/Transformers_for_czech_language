{
 "cells": [
  {
   "cell_type": "code",
   "execution_count": 41,
   "id": "c07f91dd",
   "metadata": {},
   "outputs": [],
   "source": [
    "from transformers import AutoTokenizer\n",
    "import torch\n",
    "from transformers import AutoModelForQuestionAnswering\n",
    "\n",
    "# model_ckpt = \"albert-xxlarge-v2\" \n",
    "# model_ckpt = \"deepset/minilm-uncased-squad2\"\n",
    "model_ckpt = \"gaussalgo/xlm-roberta-large_extractive-QA_en-cs\"\n",
    "\n",
    "tokenizer = AutoTokenizer.from_pretrained(model_ckpt)\n",
    "model = AutoModelForQuestionAnswering.from_pretrained(model_ckpt)"
   ]
  },
  {
   "cell_type": "code",
   "execution_count": 69,
   "id": "7bebd07e",
   "metadata": {},
   "outputs": [],
   "source": [
    "questions = [\"Co se vám líbilo?\", \"Co se vám nelíbilo?\", \"Jaké byly postavy?\", \"Jaký byl děj?\", \"Jaké máte pocity z filmu?\", \"Jste spokojeni nebo zklamáni?\", \"Co si myslíte o Cameronových filmech?\", \"Co jste měli dnes k obědu?\"]\n",
    "context = \"\"\"Zklamání, čekal jsem víc. Nikdy jsem nebyl žádnej modrej fanatik, ale před třinácti lety jsem se nechal tou mánií strhnout, na jedničku šel na 3D a dal jí pět hvězd. Teď jsem si jedničku zopakoval a zůstal jsem na pěti - je to pořád jenom blbá pohádka, ale z různých důvodů pohádka hodná pěti hvězd. A byl jsem zvědavej, jakým směrem se bude ubírat dvojka - třináctileté \"čekání\", obrovské plány, obrovské přípravy, zvěsti o opětovné revolučnosti atd. atd... A dostal jsem prachobyčejnou dvojku jako přes kopírák. Jaká asi bude zápletka? Aha, lidi se vrátili, takže zase hodní Na´vi versus zlí lidi, jako v jedničce, OK. Kdo asi bude hlavní záporák? Aha, Quaritch sice v jedničce umřel, ale máme ho tu zase, OK. Tak si alespoň ušetříme hodinové objevování světa Pandory jako v jedničce. Aha, ze stromů se přesuneme do vody a uděláme to samé jako v jedničce, OK. (Navštívíme ve trojce sněžné kmeny, ve čtyřce jeskynní kmeny, v pětce ohňové kmeny...? Budeme v každém díle hodinu objevovat nepoznané kraje Pandory?) Kdyby mne zajímaly problémy dospívajících a jejich výchovy, vyhledal bych ve filmotéce příslušné tituly a nevydával se na tříhodinovou pouť vesmírem... 50%\"\"\""
   ]
  },
  {
   "cell_type": "code",
   "execution_count": 70,
   "id": "a2dc6230",
   "metadata": {},
   "outputs": [
    {
     "name": "stdout",
     "output_type": "stream",
     "text": [
      "<s> Co jste měli dnes k obědu?</s></s> Dlouhé čekání se vyplatilo. Cameron nám po 13-ti letech naservíroval skvělou akční podívanou s úchvatným vizuálem. Stačí to ale? První Avatar většině lidem vyrazil dech, a proto byla laťka dost vysoko. Teď jsme vlastně dostali to samé, jen v jiném prostředí, delší a s rodinnou atmosférou. Zase asi těžko se dalo čekat něco převratného, příběh vám dech nevyrazí. Zato vizuál ano. Opravdu se to vyplatí vidět ve 3D. Děj se posouvá o zhruba 15 let dopředu, kdy Jake a Neytyri mají rodinu a šťastně žijí na Pandoře. Lidé ze Země se ale vrací a chtějí odplatu. Stojí proti nim stejná jednotka, jen ne jako lidi, ale mají těla Na'viů. Jake se proto s rodinnou uchýlí k vodnímu kmeni, kde se snaží schovat. To ale nejde běžně a nemůže to skončit jinak než velkým konfliktem. Trochu mi vadila délka, protože se prostředek filmu podle mě trochu vlekl. Jinak je to ale skvělá podívaná pro celou rodinu. Opět se tady trochu hraje na ekologickou notu a ochranu zvířat a přírody. Tak za dva roky znova. \"Trefte už konečně něco!</s>\n"
     ]
    }
   ],
   "source": [
    "print(tokenizer.decode(inputs[\"input_ids\"][0]))"
   ]
  },
  {
   "cell_type": "code",
   "execution_count": 71,
   "id": "aaffce37",
   "metadata": {},
   "outputs": [
    {
     "name": "stdout",
     "output_type": "stream",
     "text": [
      "Context: Zklamání, čekal jsem víc. Nikdy jsem nebyl žádnej modrej fanatik, ale před třinácti lety jsem se nechal tou mánií strhnout, na jedničku šel na 3D a dal jí pět hvězd. Teď jsem si jedničku zopakoval a zůstal jsem na pěti - je to pořád jenom blbá pohádka, ale z různých důvodů pohádka hodná pěti hvězd. A byl jsem zvědavej, jakým směrem se bude ubírat dvojka - třináctileté \"čekání\", obrovské plány, obrovské přípravy, zvěsti o opětovné revolučnosti atd. atd... A dostal jsem prachobyčejnou dvojku jako přes kopírák. Jaká asi bude zápletka? Aha, lidi se vrátili, takže zase hodní Na´vi versus zlí lidi, jako v jedničce, OK. Kdo asi bude hlavní záporák? Aha, Quaritch sice v jedničce umřel, ale máme ho tu zase, OK. Tak si alespoň ušetříme hodinové objevování světa Pandory jako v jedničce. Aha, ze stromů se přesuneme do vody a uděláme to samé jako v jedničce, OK. (Navštívíme ve trojce sněžné kmeny, ve čtyřce jeskynní kmeny, v pětce ohňové kmeny...? Budeme v každém díle hodinu objevovat nepoznané kraje Pandory?) Kdyby mne zajímaly problémy dospívajících a jejich výchovy, vyhledal bych ve filmotéce příslušné tituly a nevydával se na tříhodinovou pouť vesmírem... 50%\n",
      "Question: Co se vám líbilo?\n",
      "\tTop 1 answer: dvojka -\n",
      "\tTop 2 answer: \n",
      "\tTop 3 answer: -\n",
      "Question: Co se vám nelíbilo?\n",
      "\tTop 1 answer: \n",
      "\tTop 2 answer: dvojka -\n",
      "\tTop 3 answer: -\n",
      "Question: Jaké byly postavy?\n",
      "\tTop 1 answer: Na´vi versus\n",
      "\tTop 2 answer: \n",
      "\tTop 3 answer: Na´vi versus zlí lidi,\n",
      "Question: Jaký byl děj?\n",
      "\tTop 1 answer: \n",
      "\tTop 2 answer: třináctileté \"čekání\",\n",
      "\tTop 3 answer: třináctileté\n",
      "Question: Jaké máte pocity z filmu?\n",
      "\tTop 1 answer: Zklamání,\n",
      "\tTop 2 answer: Zklamání,\n",
      "\tTop 3 answer: Zklamání,\n",
      "Question: Jste spokojeni nebo zklamáni?\n",
      "\tTop 1 answer: \n",
      "\tTop 2 answer: Zklamání,\n",
      "\tTop 3 answer: Zklamání,\n",
      "Question: Co si myslíte o Cameronových filmech?\n",
      "\tTop 1 answer: \n",
      "\tTop 2 answer: OK.\n",
      "\tTop 3 answer: prachobyčejnou dvojku jako\n",
      "Question: Co jste měli dnes k obědu?\n",
      "\tTop 1 answer: \n",
      "\tTop 2 answer: prachobyčejnou dvojku jako\n",
      "\tTop 3 answer: Na´vi versus\n"
     ]
    }
   ],
   "source": [
    "print(f\"Context: {context}\")\n",
    "\n",
    "for question in questions:\n",
    "    inputs = tokenizer(question, context, return_tensors=\"pt\")\n",
    "    with torch.no_grad():\n",
    "        outputs = model(**inputs)\n",
    "    start_logits = outputs.start_logits\n",
    "    end_logits = outputs.end_logits\n",
    "    start_idx = torch.argmax(start_logits)  \n",
    "    end_idx = torch.argmax(end_logits) + 1  \n",
    "    answer_span = inputs[\"input_ids\"][0][start_idx:end_idx]\n",
    "    answer = tokenizer.decode(answer_span)\n",
    "    pipe = pipeline(\"question-answering\", model=model, tokenizer=tokenizer)\n",
    "    answers = pipe(question=question, context=context, topk=3, handle_impossible_answer=True)\n",
    "    \n",
    "    print(f\"Question: {question}\")\n",
    "    for idx, answer in enumerate(answers):\n",
    "        print(f\"\\tTop {idx+1} answer: {answer['answer']}\")"
   ]
  },
  {
   "cell_type": "code",
   "execution_count": null,
   "id": "50ea603d",
   "metadata": {},
   "outputs": [],
   "source": []
  },
  {
   "cell_type": "code",
   "execution_count": null,
   "id": "b1cdd3b7",
   "metadata": {},
   "outputs": [],
   "source": []
  }
 ],
 "metadata": {
  "kernelspec": {
   "display_name": "Python 3 (ipykernel)",
   "language": "python",
   "name": "python3"
  },
  "language_info": {
   "codemirror_mode": {
    "name": "ipython",
    "version": 3
   },
   "file_extension": ".py",
   "mimetype": "text/x-python",
   "name": "python",
   "nbconvert_exporter": "python",
   "pygments_lexer": "ipython3",
   "version": "3.10.6"
  }
 },
 "nbformat": 4,
 "nbformat_minor": 5
}
