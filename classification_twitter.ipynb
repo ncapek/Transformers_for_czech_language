{
 "cells": [
  {
   "cell_type": "markdown",
   "id": "2b286afb",
   "metadata": {},
   "source": [
    "# Imports and setup"
   ]
  },
  {
   "cell_type": "code",
   "execution_count": 1,
   "id": "8753a9e1",
   "metadata": {},
   "outputs": [],
   "source": [
    "from transformers import ElectraForPreTraining, ElectraTokenizerFast, pipeline, AutoTokenizer, AutoModel\n",
    "from datasets import load_dataset, ClassLabel\n",
    "from sklearn.model_selection import train_test_split\n",
    "import torch\n",
    "import numpy as np\n",
    "import pandas as pd\n",
    "import nlp\n",
    "import matplotlib.pyplot as plt"
   ]
  },
  {
   "cell_type": "markdown",
   "id": "644676b5",
   "metadata": {},
   "source": [
    "- Small-E-Czech is a transformer trained on Czech corpora by Seznam"
   ]
  },
  {
   "cell_type": "code",
   "execution_count": 2,
   "id": "bfb69b7a",
   "metadata": {},
   "outputs": [],
   "source": [
    "model_name = \"Seznam/small-e-czech\"\n",
    "# pipe = pipeline(task=\"text-classification\", model=model_name)"
   ]
  },
  {
   "cell_type": "code",
   "execution_count": 4,
   "id": "009556f7",
   "metadata": {},
   "outputs": [
    {
     "name": "stdout",
     "output_type": "stream",
     "text": [
      "11.6\n",
      "True\n"
     ]
    }
   ],
   "source": [
    "print(torch.version.cuda)\n",
    "print(torch.cuda.is_available())"
   ]
  },
  {
   "cell_type": "markdown",
   "id": "a0599f4e",
   "metadata": {},
   "source": [
    "# Data loading, manipulation and exploration"
   ]
  },
  {
   "cell_type": "code",
   "execution_count": 5,
   "id": "0c15dc24",
   "metadata": {},
   "outputs": [
    {
     "data": {
      "text/html": [
       "<div>\n",
       "<style scoped>\n",
       "    .dataframe tbody tr th:only-of-type {\n",
       "        vertical-align: middle;\n",
       "    }\n",
       "\n",
       "    .dataframe tbody tr th {\n",
       "        vertical-align: top;\n",
       "    }\n",
       "\n",
       "    .dataframe thead th {\n",
       "        text-align: right;\n",
       "    }\n",
       "</style>\n",
       "<table border=\"1\" class=\"dataframe\">\n",
       "  <thead>\n",
       "    <tr style=\"text-align: right;\">\n",
       "      <th></th>\n",
       "      <th>text</th>\n",
       "      <th>label</th>\n",
       "    </tr>\n",
       "  </thead>\n",
       "  <tbody>\n",
       "    <tr>\n",
       "      <th>0</th>\n",
       "      <td>Za vlády @AndrejBabis se vše šíleně zdražilo. ...</td>\n",
       "      <td>before</td>\n",
       "    </tr>\n",
       "    <tr>\n",
       "      <th>1</th>\n",
       "      <td>@TheLilek @Don_Vito007 @michalsnobr @SpoluKoal...</td>\n",
       "      <td>after</td>\n",
       "    </tr>\n",
       "    <tr>\n",
       "      <th>2</th>\n",
       "      <td>@Telicka @AndrejBabis Nic.\\nVšiml si ho tam ně...</td>\n",
       "      <td>after</td>\n",
       "    </tr>\n",
       "    <tr>\n",
       "      <th>3</th>\n",
       "      <td>@RomanKosek1 @AndrejBabiis @AndrejBabis Fake ú...</td>\n",
       "      <td>after</td>\n",
       "    </tr>\n",
       "    <tr>\n",
       "      <th>4</th>\n",
       "      <td>Tak jsem se konečně dostal k #ČauLidi a co nes...</td>\n",
       "      <td>after</td>\n",
       "    </tr>\n",
       "  </tbody>\n",
       "</table>\n",
       "</div>"
      ],
      "text/plain": [
       "                                                text   label\n",
       "0  Za vlády @AndrejBabis se vše šíleně zdražilo. ...  before\n",
       "1  @TheLilek @Don_Vito007 @michalsnobr @SpoluKoal...   after\n",
       "2  @Telicka @AndrejBabis Nic.\\nVšiml si ho tam ně...   after\n",
       "3  @RomanKosek1 @AndrejBabiis @AndrejBabis Fake ú...   after\n",
       "4  Tak jsem se konečně dostal k #ČauLidi a co nes...   after"
      ]
     },
     "execution_count": 5,
     "metadata": {},
     "output_type": "execute_result"
    }
   ],
   "source": [
    "# df = pd.read_csv('data/sample_data.csv')\n",
    "# df_train, df_test = train_test_split(df, test_size=0.33, random_state=42, shuffle=True)\n",
    "\n",
    "# df_train.to_csv('data/sample_data_train.csv', index=False)\n",
    "# df_test.to_csv('data/sample_data_test.csv', index=False)\n",
    "\n",
    "# X_train = pd.read_pickle('data/X_known.pkl')\n",
    "# y_train = pd.read_pickle('data/y_known.pkl')\n",
    "\n",
    "# X_train, X_test, y_train, y_test = train_test_split(X_train, y_train, test_size=0.1, random_state=17)\n",
    "\n",
    "# df_train = pd.concat([X_train, y_train], axis=1)\n",
    "# df_train.columns = ['text', 'label']\n",
    "# df_test = pd.concat([X_test, y_test], axis=1)\n",
    "# df_test.columns = ['text', 'label']\n",
    "\n",
    "# df_train.to_csv('data/twitter_train.csv', index=False)\n",
    "# df_test.to_csv('data/twitter_test.csv', index=False)\n",
    "\n",
    "X_train = pd.read_csv('data/twitter_train.csv')\n",
    "y_train = pd.read_csv('data/twitter_test.csv')\n",
    "\n",
    "X_train.head()"
   ]
  },
  {
   "cell_type": "code",
   "execution_count": 6,
   "id": "70d9a719",
   "metadata": {},
   "outputs": [
    {
     "name": "stderr",
     "output_type": "stream",
     "text": [
      "Using custom data configuration default-bbf2f84eeccc0b67\n",
      "Found cached dataset csv (C:/Users/capek/.cache/huggingface/datasets/csv/default-bbf2f84eeccc0b67/0.0.0/6b34fb8fcf56f7c8ba51dc895bfa2bfbe43546f190a60fcf74bb5e8afdcc2317)\n"
     ]
    },
    {
     "data": {
      "application/vnd.jupyter.widget-view+json": {
       "model_id": "e73e58d36f4e4763a52214558454f752",
       "version_major": 2,
       "version_minor": 0
      },
      "text/plain": [
       "  0%|          | 0/2 [00:00<?, ?it/s]"
      ]
     },
     "metadata": {},
     "output_type": "display_data"
    },
    {
     "name": "stderr",
     "output_type": "stream",
     "text": [
      "Loading cached processed dataset at C:\\Users\\capek\\.cache\\huggingface\\datasets\\csv\\default-bbf2f84eeccc0b67\\0.0.0\\6b34fb8fcf56f7c8ba51dc895bfa2bfbe43546f190a60fcf74bb5e8afdcc2317\\cache-4345259839aa99c0.arrow\n",
      "Loading cached processed dataset at C:\\Users\\capek\\.cache\\huggingface\\datasets\\csv\\default-bbf2f84eeccc0b67\\0.0.0\\6b34fb8fcf56f7c8ba51dc895bfa2bfbe43546f190a60fcf74bb5e8afdcc2317\\cache-c1fc664ea891a51e.arrow\n"
     ]
    }
   ],
   "source": [
    "# load into hugging_face dataset object and cast label as target\n",
    "\n",
    "ds = load_dataset('csv', data_files={'train': 'data/twitter_train.csv', 'test': 'data/twitter_test.csv'})\n",
    "label_features = ClassLabel(names=[\"before\", \"after\"])\n",
    "\n",
    "ds['train'] = ds['train'].cast_column(\"label\", label_features)\n",
    "ds['test'] = ds['test'].cast_column(\"label\", label_features)"
   ]
  },
  {
   "cell_type": "code",
   "execution_count": 7,
   "id": "1cb62223",
   "metadata": {},
   "outputs": [
    {
     "name": "stdout",
     "output_type": "stream",
     "text": [
      "{'text': Value(dtype='string', id=None), 'label': ClassLabel(names=['before', 'after'], id=None)}\n",
      "{'text': 'Za vlády @AndrejBabis se vše šíleně zdražilo. Hlavně letos. Ve výsledku mají důchodci nižší kupní sílu než za pravicových vlád. Ale samozřejmě za to může inflace přivezená ze zahraničí. Ne nemůže. Můžete za to vy a vaše vláda!!!', 'label': 0}\n",
      "{'text': Value(dtype='string', id=None), 'label': ClassLabel(names=['before', 'after'], id=None)}\n",
      "{'text': 'A jedeeeeeem! Tohle si nechte zaramovat a povesit na zed v cele, @AndrejBabis ', 'label': 0}\n"
     ]
    }
   ],
   "source": [
    "# examine values\n",
    "\n",
    "print(ds['train'].features)\n",
    "print(ds['train'][0])\n",
    "print(ds['test'].features)\n",
    "print(ds['test'][0])"
   ]
  },
  {
   "cell_type": "code",
   "execution_count": 8,
   "id": "26d7de4f",
   "metadata": {},
   "outputs": [],
   "source": [
    "# features = ds.features.copy()\n",
    "# features[\"label\"] = ClassLabel(names=[\"není zvíře\", \"je zvíře\"])\n",
    "# def adjust_labels(batch):\n",
    "# #     batch[\"label\"] = [sentiment + 1 for sentiment in batch[\"label\"]]\n",
    "#     return batch\n",
    "# ds = ds.map(adjust_labels, batched=True, features=features)\n",
    "# ds\n",
    "# ds.features"
   ]
  },
  {
   "cell_type": "code",
   "execution_count": 9,
   "id": "efde4626",
   "metadata": {},
   "outputs": [
    {
     "data": {
      "text/html": [
       "<div>\n",
       "<style scoped>\n",
       "    .dataframe tbody tr th:only-of-type {\n",
       "        vertical-align: middle;\n",
       "    }\n",
       "\n",
       "    .dataframe tbody tr th {\n",
       "        vertical-align: top;\n",
       "    }\n",
       "\n",
       "    .dataframe thead th {\n",
       "        text-align: right;\n",
       "    }\n",
       "</style>\n",
       "<table border=\"1\" class=\"dataframe\">\n",
       "  <thead>\n",
       "    <tr style=\"text-align: right;\">\n",
       "      <th></th>\n",
       "      <th>text</th>\n",
       "      <th>label</th>\n",
       "    </tr>\n",
       "  </thead>\n",
       "  <tbody>\n",
       "    <tr>\n",
       "      <th>0</th>\n",
       "      <td>Za vlády @AndrejBabis se vše šíleně zdražilo. ...</td>\n",
       "      <td>0</td>\n",
       "    </tr>\n",
       "    <tr>\n",
       "      <th>1</th>\n",
       "      <td>@TheLilek @Don_Vito007 @michalsnobr @SpoluKoal...</td>\n",
       "      <td>1</td>\n",
       "    </tr>\n",
       "    <tr>\n",
       "      <th>2</th>\n",
       "      <td>@Telicka @AndrejBabis Nic.\\nVšiml si ho tam ně...</td>\n",
       "      <td>1</td>\n",
       "    </tr>\n",
       "    <tr>\n",
       "      <th>3</th>\n",
       "      <td>@RomanKosek1 @AndrejBabiis @AndrejBabis Fake ú...</td>\n",
       "      <td>1</td>\n",
       "    </tr>\n",
       "    <tr>\n",
       "      <th>4</th>\n",
       "      <td>Tak jsem se konečně dostal k #ČauLidi a co nes...</td>\n",
       "      <td>1</td>\n",
       "    </tr>\n",
       "  </tbody>\n",
       "</table>\n",
       "</div>"
      ],
      "text/plain": [
       "                                                text  label\n",
       "0  Za vlády @AndrejBabis se vše šíleně zdražilo. ...      0\n",
       "1  @TheLilek @Don_Vito007 @michalsnobr @SpoluKoal...      1\n",
       "2  @Telicka @AndrejBabis Nic.\\nVšiml si ho tam ně...      1\n",
       "3  @RomanKosek1 @AndrejBabiis @AndrejBabis Fake ú...      1\n",
       "4  Tak jsem se konečně dostal k #ČauLidi a co nes...      1"
      ]
     },
     "execution_count": 9,
     "metadata": {},
     "output_type": "execute_result"
    }
   ],
   "source": [
    "# display dataset as pandas dataframe\n",
    "\n",
    "ds['train'].set_format(type=\"pandas\")\n",
    "df = ds['train'][:]\n",
    "df.head()"
   ]
  },
  {
   "cell_type": "code",
   "execution_count": 10,
   "id": "6a696321",
   "metadata": {},
   "outputs": [
    {
     "data": {
      "text/html": [
       "<div>\n",
       "<style scoped>\n",
       "    .dataframe tbody tr th:only-of-type {\n",
       "        vertical-align: middle;\n",
       "    }\n",
       "\n",
       "    .dataframe tbody tr th {\n",
       "        vertical-align: top;\n",
       "    }\n",
       "\n",
       "    .dataframe thead th {\n",
       "        text-align: right;\n",
       "    }\n",
       "</style>\n",
       "<table border=\"1\" class=\"dataframe\">\n",
       "  <thead>\n",
       "    <tr style=\"text-align: right;\">\n",
       "      <th></th>\n",
       "      <th>text</th>\n",
       "      <th>label</th>\n",
       "      <th>label_name</th>\n",
       "    </tr>\n",
       "  </thead>\n",
       "  <tbody>\n",
       "    <tr>\n",
       "      <th>0</th>\n",
       "      <td>Za vlády @AndrejBabis se vše šíleně zdražilo. ...</td>\n",
       "      <td>0</td>\n",
       "      <td>before</td>\n",
       "    </tr>\n",
       "    <tr>\n",
       "      <th>1</th>\n",
       "      <td>@TheLilek @Don_Vito007 @michalsnobr @SpoluKoal...</td>\n",
       "      <td>1</td>\n",
       "      <td>after</td>\n",
       "    </tr>\n",
       "    <tr>\n",
       "      <th>2</th>\n",
       "      <td>@Telicka @AndrejBabis Nic.\\nVšiml si ho tam ně...</td>\n",
       "      <td>1</td>\n",
       "      <td>after</td>\n",
       "    </tr>\n",
       "    <tr>\n",
       "      <th>3</th>\n",
       "      <td>@RomanKosek1 @AndrejBabiis @AndrejBabis Fake ú...</td>\n",
       "      <td>1</td>\n",
       "      <td>after</td>\n",
       "    </tr>\n",
       "    <tr>\n",
       "      <th>4</th>\n",
       "      <td>Tak jsem se konečně dostal k #ČauLidi a co nes...</td>\n",
       "      <td>1</td>\n",
       "      <td>after</td>\n",
       "    </tr>\n",
       "  </tbody>\n",
       "</table>\n",
       "</div>"
      ],
      "text/plain": [
       "                                                text  label label_name\n",
       "0  Za vlády @AndrejBabis se vše šíleně zdražilo. ...      0     before\n",
       "1  @TheLilek @Don_Vito007 @michalsnobr @SpoluKoal...      1      after\n",
       "2  @Telicka @AndrejBabis Nic.\\nVšiml si ho tam ně...      1      after\n",
       "3  @RomanKosek1 @AndrejBabiis @AndrejBabis Fake ú...      1      after\n",
       "4  Tak jsem se konečně dostal k #ČauLidi a co nes...      1      after"
      ]
     },
     "execution_count": 10,
     "metadata": {},
     "output_type": "execute_result"
    }
   ],
   "source": [
    "# map labels to label name\n",
    "\n",
    "def label_int2str(row):\n",
    "    return ds[\"train\"].features[\"label\"].int2str(row)\n",
    "\n",
    "df['label_name'] = df[\"label\"].apply(label_int2str)\n",
    "df.head()"
   ]
  },
  {
   "cell_type": "code",
   "execution_count": 11,
   "id": "ccbac6a2",
   "metadata": {},
   "outputs": [
    {
     "data": {
      "image/png": "[encoded data removed]",
      "text/plain": [
       "<Figure size 640x480 with 1 Axes>"
      ]
     },
     "metadata": {},
     "output_type": "display_data"
    }
   ],
   "source": [
    "# displaying class frequencies\n",
    "\n",
    "df[\"label_name\"].value_counts(ascending=True).plot.barh()\n",
    "plt.title(\"Frequency of Classes\")\n",
    "plt.show()"
   ]
  },
  {
   "cell_type": "code",
   "execution_count": 12,
   "id": "25cfd0a0",
   "metadata": {},
   "outputs": [
    {
     "data": {
      "image/png": "[encoded data removed]",
      "text/plain": [
       "<Figure size 640x480 with 1 Axes>"
      ]
     },
     "metadata": {},
     "output_type": "display_data"
    }
   ],
   "source": [
    "# displaying boxplots for word frequencies per class\n",
    "\n",
    "df[\"words per text\"] = df[\"text\"].str.split().apply(len)\n",
    "df.boxplot(\"words per text\", by=\"label_name\", grid=False, showfliers=False,\n",
    "           color=\"black\")\n",
    "plt.suptitle(\"\")\n",
    "plt.xlabel(\"\")\n",
    "plt.show()"
   ]
  },
  {
   "cell_type": "code",
   "execution_count": 13,
   "id": "01ca1e53",
   "metadata": {},
   "outputs": [],
   "source": [
    "ds.reset_format()"
   ]
  },
  {
   "cell_type": "markdown",
   "id": "ff5dd23f",
   "metadata": {},
   "source": [
    "# Tokenization"
   ]
  },
  {
   "cell_type": "code",
   "execution_count": 14,
   "id": "76272b7a",
   "metadata": {},
   "outputs": [
    {
     "name": "stderr",
     "output_type": "stream",
     "text": [
      "Asking to truncate to max_length but no maximum length is provided and the model has no predefined maximum length. Default to no truncation.\n"
     ]
    }
   ],
   "source": [
    "tokenizer = AutoTokenizer.from_pretrained(model_name)\n",
    "tokenized_data_train = tokenizer(ds['train']['text'], return_tensors=\"tf\", padding=True, truncation=True)\n",
    "labels_train = np.array(ds['train']['label'])\n",
    "tokenized_data_test = tokenizer(ds['test']['text'], return_tensors=\"tf\", padding=True, truncation=True)\n",
    "labels_test = np.array(ds['test']['label'])"
   ]
  },
  {
   "cell_type": "code",
   "execution_count": 15,
   "id": "a533ec99",
   "metadata": {},
   "outputs": [
    {
     "data": {
      "text/plain": [
       "{'input_ids': <tf.Tensor: shape=(5314, 124), dtype=int32, numpy=\n",
       "array([[    2,   272,  5052, ...,     0,     0,     0],\n",
       "       [    2,    36,  2299, ...,     0,     0,     0],\n",
       "       [    2,    36,  6152, ...,     0,     0,     0],\n",
       "       ...,\n",
       "       [    2, 21712,  3073, ...,     0,     0,     0],\n",
       "       [    2,    36, 21780, ...,     0,     0,     0],\n",
       "       [    2,    36, 29690, ...,     0,     0,     0]])>, 'token_type_ids': <tf.Tensor: shape=(5314, 124), dtype=int32, numpy=\n",
       "array([[0, 0, 0, ..., 0, 0, 0],\n",
       "       [0, 0, 0, ..., 0, 0, 0],\n",
       "       [0, 0, 0, ..., 0, 0, 0],\n",
       "       ...,\n",
       "       [0, 0, 0, ..., 0, 0, 0],\n",
       "       [0, 0, 0, ..., 0, 0, 0],\n",
       "       [0, 0, 0, ..., 0, 0, 0]])>, 'attention_mask': <tf.Tensor: shape=(5314, 124), dtype=int32, numpy=\n",
       "array([[1, 1, 1, ..., 0, 0, 0],\n",
       "       [1, 1, 1, ..., 0, 0, 0],\n",
       "       [1, 1, 1, ..., 0, 0, 0],\n",
       "       ...,\n",
       "       [1, 1, 1, ..., 0, 0, 0],\n",
       "       [1, 1, 1, ..., 0, 0, 0],\n",
       "       [1, 1, 1, ..., 0, 0, 0]])>}"
      ]
     },
     "execution_count": 15,
     "metadata": {},
     "output_type": "execute_result"
    }
   ],
   "source": [
    "# attention mask umožňuje ignorovat padding\n",
    "tokenized_data_train"
   ]
  },
  {
   "cell_type": "code",
   "execution_count": 16,
   "id": "8c2c0027",
   "metadata": {},
   "outputs": [
    {
     "data": {
      "text/plain": [
       "['[CLS]',\n",
       " 'za',\n",
       " 'vlády',\n",
       " '@',\n",
       " 'andrej',\n",
       " '##ba',\n",
       " '##bis',\n",
       " 'se',\n",
       " 'vše',\n",
       " 'šílen',\n",
       " '##ě',\n",
       " 'zdra',\n",
       " '##žilo',\n",
       " '.',\n",
       " 'hlavně',\n",
       " 'letos',\n",
       " '.',\n",
       " 've',\n",
       " 'výsledku',\n",
       " 'mají',\n",
       " 'důchodci',\n",
       " 'nižší',\n",
       " 'kupní',\n",
       " 'sílu',\n",
       " 'než',\n",
       " 'za',\n",
       " 'pravi',\n",
       " '##cových',\n",
       " 'vlád',\n",
       " '.',\n",
       " 'ale',\n",
       " 'samozřejmě',\n",
       " 'za',\n",
       " 'to',\n",
       " 'může',\n",
       " 'inflace',\n",
       " 'přivez',\n",
       " '##ená',\n",
       " 'ze',\n",
       " 'zahraničí',\n",
       " '.',\n",
       " 'ne',\n",
       " 'nemůže',\n",
       " '.',\n",
       " 'můžete',\n",
       " 'za',\n",
       " 'to',\n",
       " 'vy',\n",
       " 'a',\n",
       " 'vaše',\n",
       " 'vláda',\n",
       " '!',\n",
       " '!',\n",
       " '!',\n",
       " '[SEP]',\n",
       " '[PAD]',\n",
       " '[PAD]',\n",
       " '[PAD]',\n",
       " '[PAD]',\n",
       " '[PAD]',\n",
       " '[PAD]',\n",
       " '[PAD]',\n",
       " '[PAD]',\n",
       " '[PAD]',\n",
       " '[PAD]',\n",
       " '[PAD]',\n",
       " '[PAD]',\n",
       " '[PAD]',\n",
       " '[PAD]',\n",
       " '[PAD]',\n",
       " '[PAD]',\n",
       " '[PAD]',\n",
       " '[PAD]',\n",
       " '[PAD]',\n",
       " '[PAD]',\n",
       " '[PAD]',\n",
       " '[PAD]',\n",
       " '[PAD]',\n",
       " '[PAD]',\n",
       " '[PAD]',\n",
       " '[PAD]',\n",
       " '[PAD]',\n",
       " '[PAD]',\n",
       " '[PAD]',\n",
       " '[PAD]',\n",
       " '[PAD]',\n",
       " '[PAD]',\n",
       " '[PAD]',\n",
       " '[PAD]',\n",
       " '[PAD]',\n",
       " '[PAD]',\n",
       " '[PAD]',\n",
       " '[PAD]',\n",
       " '[PAD]',\n",
       " '[PAD]',\n",
       " '[PAD]',\n",
       " '[PAD]',\n",
       " '[PAD]',\n",
       " '[PAD]',\n",
       " '[PAD]',\n",
       " '[PAD]',\n",
       " '[PAD]',\n",
       " '[PAD]',\n",
       " '[PAD]',\n",
       " '[PAD]',\n",
       " '[PAD]',\n",
       " '[PAD]',\n",
       " '[PAD]',\n",
       " '[PAD]',\n",
       " '[PAD]',\n",
       " '[PAD]',\n",
       " '[PAD]',\n",
       " '[PAD]',\n",
       " '[PAD]',\n",
       " '[PAD]',\n",
       " '[PAD]',\n",
       " '[PAD]',\n",
       " '[PAD]',\n",
       " '[PAD]',\n",
       " '[PAD]',\n",
       " '[PAD]',\n",
       " '[PAD]',\n",
       " '[PAD]',\n",
       " '[PAD]']"
      ]
     },
     "execution_count": 16,
     "metadata": {},
     "output_type": "execute_result"
    }
   ],
   "source": [
    "# navrácení tokenů k id\n",
    "tokens = tokenizer.convert_ids_to_tokens(tokenized_data_train[0].ids)\n",
    "tokens"
   ]
  },
  {
   "cell_type": "code",
   "execution_count": 17,
   "id": "033b7a90",
   "metadata": {},
   "outputs": [
    {
     "data": {
      "text/plain": [
       "'[CLS] za vlády @ andrejbabis se vše šíleně zdražilo. hlavně letos. ve výsledku mají důchodci nižší kupní sílu než za pravicových vlád. ale samozřejmě za to může inflace přivezená ze zahraničí. ne nemůže. můžete za to vy a vaše vláda!!! [SEP] [PAD] [PAD] [PAD] [PAD] [PAD] [PAD] [PAD] [PAD] [PAD] [PAD] [PAD] [PAD] [PAD] [PAD] [PAD] [PAD] [PAD] [PAD] [PAD] [PAD] [PAD] [PAD] [PAD] [PAD] [PAD] [PAD] [PAD] [PAD] [PAD] [PAD] [PAD] [PAD] [PAD] [PAD] [PAD] [PAD] [PAD] [PAD] [PAD] [PAD] [PAD] [PAD] [PAD] [PAD] [PAD] [PAD] [PAD] [PAD] [PAD] [PAD] [PAD] [PAD] [PAD] [PAD] [PAD] [PAD] [PAD] [PAD] [PAD] [PAD] [PAD] [PAD] [PAD] [PAD] [PAD] [PAD] [PAD] [PAD] [PAD]'"
      ]
     },
     "execution_count": 17,
     "metadata": {},
     "output_type": "execute_result"
    }
   ],
   "source": [
    "# tisk jako string\n",
    "tokenizer.convert_tokens_to_string(tokens)"
   ]
  },
  {
   "cell_type": "code",
   "execution_count": 18,
   "id": "8257754b",
   "metadata": {},
   "outputs": [
    {
     "data": {
      "text/plain": [
       "30522"
      ]
     },
     "execution_count": 18,
     "metadata": {},
     "output_type": "execute_result"
    }
   ],
   "source": [
    "# počet tokenů ve slovníku\n",
    "tokenizer.vocab_size"
   ]
  },
  {
   "cell_type": "code",
   "execution_count": 19,
   "id": "0bf087c1",
   "metadata": {},
   "outputs": [
    {
     "data": {
      "text/plain": [
       "1000000000000000019884624838656"
      ]
     },
     "execution_count": 19,
     "metadata": {},
     "output_type": "execute_result"
    }
   ],
   "source": [
    "# maximální délka vektoru\n",
    "# (... mám o tom nějaké pochybnosti ....)\n",
    "\n",
    "tokenizer.model_max_length"
   ]
  },
  {
   "cell_type": "code",
   "execution_count": 20,
   "id": "720495cf",
   "metadata": {},
   "outputs": [
    {
     "data": {
      "text/plain": [
       "['input_ids', 'token_type_ids', 'attention_mask']"
      ]
     },
     "execution_count": 20,
     "metadata": {},
     "output_type": "execute_result"
    }
   ],
   "source": [
    "tokenizer.model_input_names"
   ]
  },
  {
   "cell_type": "code",
   "execution_count": 21,
   "id": "098550c2",
   "metadata": {},
   "outputs": [
    {
     "name": "stderr",
     "output_type": "stream",
     "text": [
      "Loading cached processed dataset at C:\\Users\\capek\\.cache\\huggingface\\datasets\\csv\\default-bbf2f84eeccc0b67\\0.0.0\\6b34fb8fcf56f7c8ba51dc895bfa2bfbe43546f190a60fcf74bb5e8afdcc2317\\cache-8fd833be02e97cd7.arrow\n",
      "Loading cached processed dataset at C:\\Users\\capek\\.cache\\huggingface\\datasets\\csv\\default-bbf2f84eeccc0b67\\0.0.0\\6b34fb8fcf56f7c8ba51dc895bfa2bfbe43546f190a60fcf74bb5e8afdcc2317\\cache-8e6648eacea06ce7.arrow\n"
     ]
    },
    {
     "data": {
      "text/plain": [
       "DatasetDict({\n",
       "    train: Dataset({\n",
       "        features: ['text', 'label', 'input_ids', 'token_type_ids', 'attention_mask'],\n",
       "        num_rows: 5314\n",
       "    })\n",
       "    test: Dataset({\n",
       "        features: ['text', 'label', 'input_ids', 'token_type_ids', 'attention_mask'],\n",
       "        num_rows: 591\n",
       "    })\n",
       "})"
      ]
     },
     "execution_count": 21,
     "metadata": {},
     "output_type": "execute_result"
    }
   ],
   "source": [
    "# tokenizace celého datasetu\n",
    "def tokenize(batch):\n",
    "    return tokenizer(batch[\"text\"], padding=True, truncation=True)\n",
    "\n",
    "tokenized = ds.map(tokenize, batched=True, batch_size=None)\n",
    "tokenized"
   ]
  },
  {
   "cell_type": "markdown",
   "id": "ee145e37",
   "metadata": {},
   "source": [
    "# Feature extraction"
   ]
  },
  {
   "cell_type": "code",
   "execution_count": 22,
   "id": "befced46",
   "metadata": {},
   "outputs": [
    {
     "name": "stderr",
     "output_type": "stream",
     "text": [
      "Some weights of the model checkpoint at Seznam/small-e-czech were not used when initializing ElectraModel: ['discriminator_predictions.dense_prediction.weight', 'discriminator_predictions.dense.bias', 'discriminator_predictions.dense.weight', 'discriminator_predictions.dense_prediction.bias']\n",
      "- This IS expected if you are initializing ElectraModel from the checkpoint of a model trained on another task or with another architecture (e.g. initializing a BertForSequenceClassification model from a BertForPreTraining model).\n",
      "- This IS NOT expected if you are initializing ElectraModel from the checkpoint of a model that you expect to be exactly identical (initializing a BertForSequenceClassification model from a BertForSequenceClassification model).\n"
     ]
    }
   ],
   "source": [
    "device = torch.device(\"cuda\" if torch.cuda.is_available() else \"cpu\")\n",
    "model = AutoModel.from_pretrained(model_name).to(device)"
   ]
  },
  {
   "cell_type": "code",
   "execution_count": 23,
   "id": "fe384177",
   "metadata": {},
   "outputs": [
    {
     "name": "stderr",
     "output_type": "stream",
     "text": [
      "Some layers from the model checkpoint at Seznam/small-e-czech were not used when initializing TFElectraModel: ['discriminator_predictions']\n",
      "- This IS expected if you are initializing TFElectraModel from the checkpoint of a model trained on another task or with another architecture (e.g. initializing a BertForSequenceClassification model from a BertForPreTraining model).\n",
      "- This IS NOT expected if you are initializing TFElectraModel from the checkpoint of a model that you expect to be exactly identical (initializing a BertForSequenceClassification model from a BertForSequenceClassification model).\n",
      "All the layers of TFElectraModel were initialized from the model checkpoint at Seznam/small-e-czech.\n",
      "If your task is similar to the task the model of the checkpoint was trained on, you can already use TFElectraModel for predictions without further training.\n"
     ]
    }
   ],
   "source": [
    "# tensorflow is also available\n",
    "from transformers import TFAutoModel\n",
    "\n",
    "tf_model = TFAutoModel.from_pretrained(model_name)"
   ]
  },
  {
   "cell_type": "code",
   "execution_count": 24,
   "id": "60ba0e65",
   "metadata": {},
   "outputs": [
    {
     "name": "stdout",
     "output_type": "stream",
     "text": [
      "Input tensor shape: torch.Size([1, 6])\n",
      "BaseModelOutputWithPastAndCrossAttentions(last_hidden_state=tensor([[[ 3.6099e-01,  5.5451e-05, -1.2910e-04,  ...,  2.7866e-04,\n",
      "           4.9307e-01, -1.3343e-04],\n",
      "         [-1.9554e-01, -3.0069e-04, -1.0528e-04,  ...,  9.9554e-05,\n",
      "          -1.1577e+00, -1.9735e-04],\n",
      "         [-4.4456e-01, -4.6349e-04, -9.3823e-05,  ...,  3.3249e-04,\n",
      "           1.7378e-01, -1.3628e-04],\n",
      "         [-2.3099e-02, -2.4707e-04, -7.6978e-05,  ...,  6.1547e-04,\n",
      "           6.3977e-01, -1.4361e-04],\n",
      "         [ 1.0250e+00, -2.7454e-04, -7.3392e-05,  ...,  7.0218e-04,\n",
      "           4.0734e-01, -2.5776e-04],\n",
      "         [ 3.6190e-01,  5.5544e-05, -1.2914e-04,  ...,  2.7876e-04,\n",
      "           4.9256e-01, -1.3352e-04]]], device='cuda:0'), past_key_values=None, hidden_states=None, attentions=None, cross_attentions=None)\n",
      "torch.Size([1, 6, 256])\n"
     ]
    }
   ],
   "source": [
    "text = \"Toto je zkušební text\"\n",
    "inputs = tokenizer(text, return_tensors=\"pt\")\n",
    "print(f\"Input tensor shape: {inputs['input_ids'].size()}\")\n",
    "\n",
    "inputs = {k:v.to(device) for k,v in inputs.items()}\n",
    "with torch.no_grad():\n",
    "    outputs = model(**inputs)\n",
    "print(outputs)\n",
    "\n",
    "print(outputs.last_hidden_state.size())"
   ]
  },
  {
   "cell_type": "markdown",
   "id": "fb207a2c",
   "metadata": {},
   "source": [
    "<i>\"Looking at the hidden state tensor, we see that it has the shape [batch_size, n_tokens, hidden_dim]. In other words, a 256-dimensional vector is returned for each of the 6 input tokens. For classification tasks, it is common practice to just use the hidden state associated with the [CLS] token as the input feature. Since this token appears at the start of each sequence, we can extract it by simply indexing into outputs.last_hidden_state as follows:\"</i>"
   ]
  },
  {
   "cell_type": "code",
   "execution_count": 25,
   "id": "ed129d27",
   "metadata": {},
   "outputs": [
    {
     "data": {
      "text/plain": [
       "torch.Size([1, 256])"
      ]
     },
     "execution_count": 25,
     "metadata": {},
     "output_type": "execute_result"
    }
   ],
   "source": [
    "outputs.last_hidden_state[:,0].size()"
   ]
  },
  {
   "cell_type": "code",
   "execution_count": 26,
   "id": "21ec2ebb",
   "metadata": {},
   "outputs": [],
   "source": [
    "def extract_hidden_states(batch):\n",
    "    # Place model inputs on the GPU\n",
    "    inputs = {k:v.to(device) for k,v in batch.items() \n",
    "              if k in tokenizer.model_input_names}\n",
    "    # Extract last hidden states\n",
    "    with torch.no_grad():\n",
    "        last_hidden_state = model(**inputs).last_hidden_state\n",
    "    # Return vector for [CLS] token\n",
    "    return {\"hidden_state\": last_hidden_state[:,0].cpu().numpy()}"
   ]
  },
  {
   "cell_type": "code",
   "execution_count": 27,
   "id": "b99663c2",
   "metadata": {},
   "outputs": [],
   "source": [
    "tokenized.set_format(\"torch\", columns=[\"input_ids\", \"token_type_ids\", \"attention_mask\", \"label\"])\n",
    "# token_type_ids?"
   ]
  },
  {
   "cell_type": "code",
   "execution_count": 28,
   "id": "9b0675be",
   "metadata": {},
   "outputs": [
    {
     "data": {
      "application/vnd.jupyter.widget-view+json": {
       "model_id": "c9d21eee647644edb07459882b95c708",
       "version_major": 2,
       "version_minor": 0
      },
      "text/plain": [
       "  0%|          | 0/6 [00:00<?, ?ba/s]"
      ]
     },
     "metadata": {},
     "output_type": "display_data"
    },
    {
     "data": {
      "application/vnd.jupyter.widget-view+json": {
       "model_id": "f078c1bd98874799bccc30380437a543",
       "version_major": 2,
       "version_minor": 0
      },
      "text/plain": [
       "  0%|          | 0/1 [00:00<?, ?ba/s]"
      ]
     },
     "metadata": {},
     "output_type": "display_data"
    },
    {
     "data": {
      "text/plain": [
       "DatasetDict({\n",
       "    train: Dataset({\n",
       "        features: ['text', 'label', 'input_ids', 'token_type_ids', 'attention_mask', 'hidden_state'],\n",
       "        num_rows: 5314\n",
       "    })\n",
       "    test: Dataset({\n",
       "        features: ['text', 'label', 'input_ids', 'token_type_ids', 'attention_mask', 'hidden_state'],\n",
       "        num_rows: 591\n",
       "    })\n",
       "})"
      ]
     },
     "execution_count": 28,
     "metadata": {},
     "output_type": "execute_result"
    }
   ],
   "source": [
    "# hidden states\n",
    "hidden = tokenized.map(extract_hidden_states, batched=True)\n",
    "hidden"
   ]
  },
  {
   "cell_type": "code",
   "execution_count": 29,
   "id": "a839bf15",
   "metadata": {},
   "outputs": [
    {
     "data": {
      "text/plain": [
       "((5314, 256), (591, 256))"
      ]
     },
     "execution_count": 29,
     "metadata": {},
     "output_type": "execute_result"
    }
   ],
   "source": [
    "X_train = np.array(hidden[\"train\"][\"hidden_state\"])\n",
    "X_test = np.array(hidden[\"test\"][\"hidden_state\"])\n",
    "y_train = np.array(hidden[\"train\"][\"label\"])\n",
    "y_test = np.array(hidden[\"test\"][\"label\"])\n",
    "X_train.shape, X_test.shape"
   ]
  },
  {
   "cell_type": "markdown",
   "id": "eda6ff0d",
   "metadata": {},
   "source": [
    "# Feature visualization"
   ]
  },
  {
   "cell_type": "code",
   "execution_count": 30,
   "id": "f7caa3a0",
   "metadata": {},
   "outputs": [
    {
     "data": {
      "text/html": [
       "<div>\n",
       "<style scoped>\n",
       "    .dataframe tbody tr th:only-of-type {\n",
       "        vertical-align: middle;\n",
       "    }\n",
       "\n",
       "    .dataframe tbody tr th {\n",
       "        vertical-align: top;\n",
       "    }\n",
       "\n",
       "    .dataframe thead th {\n",
       "        text-align: right;\n",
       "    }\n",
       "</style>\n",
       "<table border=\"1\" class=\"dataframe\">\n",
       "  <thead>\n",
       "    <tr style=\"text-align: right;\">\n",
       "      <th></th>\n",
       "      <th>X</th>\n",
       "      <th>Y</th>\n",
       "      <th>label</th>\n",
       "    </tr>\n",
       "  </thead>\n",
       "  <tbody>\n",
       "    <tr>\n",
       "      <th>0</th>\n",
       "      <td>12.210881</td>\n",
       "      <td>3.473064</td>\n",
       "      <td>0</td>\n",
       "    </tr>\n",
       "    <tr>\n",
       "      <th>1</th>\n",
       "      <td>13.716846</td>\n",
       "      <td>5.057148</td>\n",
       "      <td>1</td>\n",
       "    </tr>\n",
       "    <tr>\n",
       "      <th>2</th>\n",
       "      <td>5.438385</td>\n",
       "      <td>5.492483</td>\n",
       "      <td>1</td>\n",
       "    </tr>\n",
       "    <tr>\n",
       "      <th>3</th>\n",
       "      <td>7.850684</td>\n",
       "      <td>4.346282</td>\n",
       "      <td>1</td>\n",
       "    </tr>\n",
       "    <tr>\n",
       "      <th>4</th>\n",
       "      <td>12.043799</td>\n",
       "      <td>5.502635</td>\n",
       "      <td>1</td>\n",
       "    </tr>\n",
       "  </tbody>\n",
       "</table>\n",
       "</div>"
      ],
      "text/plain": [
       "           X         Y  label\n",
       "0  12.210881  3.473064      0\n",
       "1  13.716846  5.057148      1\n",
       "2   5.438385  5.492483      1\n",
       "3   7.850684  4.346282      1\n",
       "4  12.043799  5.502635      1"
      ]
     },
     "execution_count": 30,
     "metadata": {},
     "output_type": "execute_result"
    }
   ],
   "source": [
    "from umap import UMAP\n",
    "from sklearn.preprocessing import MinMaxScaler\n",
    "\n",
    "# Scale features to [0,1] range\n",
    "X_scaled = MinMaxScaler().fit_transform(X_train)\n",
    "# Initialize and fit UMAP\n",
    "mapper = UMAP(n_components=2, metric=\"cosine\").fit(X_scaled)\n",
    "# Create a DataFrame of 2D embeddings\n",
    "df_emb = pd.DataFrame(mapper.embedding_, columns=[\"X\", \"Y\"])\n",
    "df_emb[\"label\"] = y_train\n",
    "df_emb.head()"
   ]
  },
  {
   "cell_type": "code",
   "execution_count": 31,
   "id": "51f0ecb5",
   "metadata": {},
   "outputs": [
    {
     "data": {
      "image/png": "[encoded data removed]",
      "text/plain": [
       "<Figure size 300x500 with 2 Axes>"
      ]
     },
     "metadata": {},
     "output_type": "display_data"
    }
   ],
   "source": [
    "fig, axes = plt.subplots(2, 1, figsize=(3,5))\n",
    "axes = axes.flatten()\n",
    "cmaps = [\"Greys\", \"Blues\"]\n",
    "labels = ds[\"train\"].features[\"label\"].names\n",
    "\n",
    "for i, (label, cmap) in enumerate(zip(labels, cmaps)):\n",
    "    df_emb_sub = df_emb.query(f\"label == {i}\")\n",
    "    axes[i].hexbin(df_emb_sub[\"X\"], df_emb_sub[\"Y\"], cmap=cmap,\n",
    "                   gridsize=20, linewidths=(0,))\n",
    "    axes[i].set_title(label)\n",
    "    axes[i].set_xticks([]), axes[i].set_yticks([])\n",
    "\n",
    "plt.tight_layout()\n",
    "plt.show()"
   ]
  },
  {
   "cell_type": "markdown",
   "id": "2d473928",
   "metadata": {},
   "source": [
    "# Modelling"
   ]
  },
  {
   "cell_type": "code",
   "execution_count": 32,
   "id": "cf643466",
   "metadata": {},
   "outputs": [
    {
     "data": {
      "text/plain": [
       "0.5143824027072758"
      ]
     },
     "execution_count": 32,
     "metadata": {},
     "output_type": "execute_result"
    }
   ],
   "source": [
    "from sklearn.linear_model import LogisticRegression\n",
    "\n",
    "lr_clf = LogisticRegression(max_iter=3000)\n",
    "lr_clf.fit(X_train, y_train)\n",
    "lr_clf.score(X_test, y_test)"
   ]
  },
  {
   "cell_type": "code",
   "execution_count": 33,
   "id": "702adc8e",
   "metadata": {},
   "outputs": [
    {
     "data": {
      "text/plain": [
       "0.467005076142132"
      ]
     },
     "execution_count": 33,
     "metadata": {},
     "output_type": "execute_result"
    }
   ],
   "source": [
    "from sklearn.dummy import DummyClassifier\n",
    "\n",
    "dummy_clf = DummyClassifier(strategy=\"most_frequent\")\n",
    "dummy_clf.fit(X_train, y_train)\n",
    "dummy_clf.score(X_test, y_test)"
   ]
  },
  {
   "cell_type": "code",
   "execution_count": 34,
   "id": "5158828c",
   "metadata": {},
   "outputs": [
    {
     "data": {
      "image/png": "[encoded data removed]",
      "text/plain": [
       "<Figure size 600x600 with 1 Axes>"
      ]
     },
     "metadata": {},
     "output_type": "display_data"
    }
   ],
   "source": [
    "from sklearn.metrics import ConfusionMatrixDisplay, confusion_matrix\n",
    "\n",
    "def plot_confusion_matrix(y_preds, y_true, labels):\n",
    "    cm = confusion_matrix(y_true, y_preds)\n",
    "    fig, ax = plt.subplots(figsize=(6, 6))\n",
    "    disp = ConfusionMatrixDisplay(confusion_matrix=cm, display_labels=labels)\n",
    "    disp.plot(cmap=\"Blues\", ax=ax, colorbar=False)\n",
    "    plt.title(\"Confusion matrix\")\n",
    "    plt.show()\n",
    "    \n",
    "y_preds = lr_clf.predict(X_test)\n",
    "plot_confusion_matrix(y_preds, y_test, labels)"
   ]
  },
  {
   "cell_type": "code",
   "execution_count": 35,
   "id": "bb8a0144",
   "metadata": {},
   "outputs": [
    {
     "name": "stderr",
     "output_type": "stream",
     "text": [
      "Some weights of the model checkpoint at Seznam/small-e-czech were not used when initializing ElectraForSequenceClassification: ['discriminator_predictions.dense_prediction.weight', 'discriminator_predictions.dense.bias', 'discriminator_predictions.dense.weight', 'discriminator_predictions.dense_prediction.bias']\n",
      "- This IS expected if you are initializing ElectraForSequenceClassification from the checkpoint of a model trained on another task or with another architecture (e.g. initializing a BertForSequenceClassification model from a BertForPreTraining model).\n",
      "- This IS NOT expected if you are initializing ElectraForSequenceClassification from the checkpoint of a model that you expect to be exactly identical (initializing a BertForSequenceClassification model from a BertForSequenceClassification model).\n",
      "Some weights of ElectraForSequenceClassification were not initialized from the model checkpoint at Seznam/small-e-czech and are newly initialized: ['classifier.out_proj.bias', 'classifier.dense.weight', 'classifier.dense.bias', 'classifier.out_proj.weight']\n",
      "You should probably TRAIN this model on a down-stream task to be able to use it for predictions and inference.\n"
     ]
    }
   ],
   "source": [
    "from transformers import AutoModelForSequenceClassification\n",
    "\n",
    "num_labels = 2\n",
    "model = (AutoModelForSequenceClassification\n",
    "         .from_pretrained(model_name, num_labels=num_labels)\n",
    "         .to(device))"
   ]
  },
  {
   "cell_type": "code",
   "execution_count": 36,
   "id": "4d160ead",
   "metadata": {},
   "outputs": [],
   "source": [
    "from sklearn.metrics import accuracy_score, f1_score\n",
    "\n",
    "def compute_metrics(pred):\n",
    "    labels = pred.label_ids\n",
    "    preds = pred.predictions.argmax(-1)\n",
    "    f1 = f1_score(labels, preds, average=\"weighted\")\n",
    "    acc = accuracy_score(labels, preds)\n",
    "    return {\"accuracy\": acc, \"f1\": f1}"
   ]
  },
  {
   "cell_type": "code",
   "execution_count": 39,
   "id": "6551beba",
   "metadata": {},
   "outputs": [],
   "source": [
    "from transformers import Trainer, TrainingArguments\n",
    "\n",
    "batch_size = 256\n",
    "logging_steps = len(ds[\"train\"]) // batch_size\n",
    "my_model_name = f\"{model_name}-finetuned-sample\"\n",
    "training_args = TrainingArguments(output_dir=my_model_name,\n",
    "                                  num_train_epochs=30,\n",
    "                                  learning_rate=2e-5,\n",
    "                                  per_device_train_batch_size=batch_size,\n",
    "                                  per_device_eval_batch_size=batch_size,\n",
    "                                  weight_decay=0.01,\n",
    "                                  evaluation_strategy=\"epoch\",\n",
    "                                  disable_tqdm=False,\n",
    "                                  logging_steps=logging_steps,\n",
    "                                  push_to_hub=False, \n",
    "                                  log_level=\"error\")"
   ]
  },
  {
   "cell_type": "code",
   "execution_count": null,
   "id": "3565aa87",
   "metadata": {},
   "outputs": [
    {
     "name": "stderr",
     "output_type": "stream",
     "text": [
      "C:\\Users\\capek\\pycharm_projects\\Transformers_for_czech_language\\venv\\lib\\site-packages\\transformers\\optimization.py:306: FutureWarning: This implementation of AdamW is deprecated and will be removed in a future version. Use the PyTorch implementation torch.optim.AdamW instead, or set `no_deprecation_warning=True` to disable this warning\n",
      "  warnings.warn(\n"
     ]
    },
    {
     "data": {
      "text/html": [
       "\n",
       "    <div>\n",
       "      \n",
       "      <progress value='559' max='630' style='width:300px; height:20px; vertical-align: middle;'></progress>\n",
       "      [559/630 04:49 < 00:36, 1.92 it/s, Epoch 26.57/30]\n",
       "    </div>\n",
       "    <table border=\"1\" class=\"dataframe\">\n",
       "  <thead>\n",
       " <tr style=\"text-align: left;\">\n",
       "      <th>Epoch</th>\n",
       "      <th>Training Loss</th>\n",
       "      <th>Validation Loss</th>\n",
       "      <th>Accuracy</th>\n",
       "      <th>F1</th>\n",
       "    </tr>\n",
       "  </thead>\n",
       "  <tbody>\n",
       "    <tr>\n",
       "      <td>1</td>\n",
       "      <td>0.513500</td>\n",
       "      <td>0.620529</td>\n",
       "      <td>0.685279</td>\n",
       "      <td>0.681176</td>\n",
       "    </tr>\n",
       "    <tr>\n",
       "      <td>2</td>\n",
       "      <td>0.477600</td>\n",
       "      <td>0.630566</td>\n",
       "      <td>0.686971</td>\n",
       "      <td>0.684409</td>\n",
       "    </tr>\n",
       "    <tr>\n",
       "      <td>3</td>\n",
       "      <td>0.458800</td>\n",
       "      <td>0.634107</td>\n",
       "      <td>0.690355</td>\n",
       "      <td>0.688920</td>\n",
       "    </tr>\n",
       "    <tr>\n",
       "      <td>4</td>\n",
       "      <td>0.447300</td>\n",
       "      <td>0.654000</td>\n",
       "      <td>0.688663</td>\n",
       "      <td>0.683216</td>\n",
       "    </tr>\n",
       "    <tr>\n",
       "      <td>5</td>\n",
       "      <td>0.428400</td>\n",
       "      <td>0.657018</td>\n",
       "      <td>0.693739</td>\n",
       "      <td>0.693358</td>\n",
       "    </tr>\n",
       "    <tr>\n",
       "      <td>6</td>\n",
       "      <td>0.418300</td>\n",
       "      <td>0.668690</td>\n",
       "      <td>0.692047</td>\n",
       "      <td>0.689628</td>\n",
       "    </tr>\n",
       "    <tr>\n",
       "      <td>7</td>\n",
       "      <td>0.402700</td>\n",
       "      <td>0.674480</td>\n",
       "      <td>0.693739</td>\n",
       "      <td>0.688233</td>\n",
       "    </tr>\n",
       "    <tr>\n",
       "      <td>8</td>\n",
       "      <td>0.397900</td>\n",
       "      <td>0.675875</td>\n",
       "      <td>0.693739</td>\n",
       "      <td>0.691025</td>\n",
       "    </tr>\n",
       "    <tr>\n",
       "      <td>9</td>\n",
       "      <td>0.365500</td>\n",
       "      <td>0.710273</td>\n",
       "      <td>0.695431</td>\n",
       "      <td>0.686401</td>\n",
       "    </tr>\n",
       "    <tr>\n",
       "      <td>10</td>\n",
       "      <td>0.352100</td>\n",
       "      <td>0.701491</td>\n",
       "      <td>0.702200</td>\n",
       "      <td>0.699860</td>\n",
       "    </tr>\n",
       "    <tr>\n",
       "      <td>11</td>\n",
       "      <td>0.349100</td>\n",
       "      <td>0.709015</td>\n",
       "      <td>0.693739</td>\n",
       "      <td>0.692623</td>\n",
       "    </tr>\n",
       "    <tr>\n",
       "      <td>12</td>\n",
       "      <td>0.347300</td>\n",
       "      <td>0.739179</td>\n",
       "      <td>0.683587</td>\n",
       "      <td>0.671430</td>\n",
       "    </tr>\n",
       "    <tr>\n",
       "      <td>13</td>\n",
       "      <td>0.348100</td>\n",
       "      <td>0.704770</td>\n",
       "      <td>0.695431</td>\n",
       "      <td>0.693421</td>\n",
       "    </tr>\n",
       "    <tr>\n",
       "      <td>14</td>\n",
       "      <td>0.327800</td>\n",
       "      <td>0.731796</td>\n",
       "      <td>0.688663</td>\n",
       "      <td>0.682914</td>\n",
       "    </tr>\n",
       "    <tr>\n",
       "      <td>15</td>\n",
       "      <td>0.320200</td>\n",
       "      <td>0.740934</td>\n",
       "      <td>0.700508</td>\n",
       "      <td>0.695123</td>\n",
       "    </tr>\n",
       "    <tr>\n",
       "      <td>16</td>\n",
       "      <td>0.308700</td>\n",
       "      <td>0.733098</td>\n",
       "      <td>0.692047</td>\n",
       "      <td>0.688990</td>\n",
       "    </tr>\n",
       "    <tr>\n",
       "      <td>17</td>\n",
       "      <td>0.305000</td>\n",
       "      <td>0.738598</td>\n",
       "      <td>0.693739</td>\n",
       "      <td>0.691025</td>\n",
       "    </tr>\n",
       "    <tr>\n",
       "      <td>18</td>\n",
       "      <td>0.291100</td>\n",
       "      <td>0.745345</td>\n",
       "      <td>0.697124</td>\n",
       "      <td>0.694644</td>\n",
       "    </tr>\n",
       "    <tr>\n",
       "      <td>19</td>\n",
       "      <td>0.292600</td>\n",
       "      <td>0.758937</td>\n",
       "      <td>0.692047</td>\n",
       "      <td>0.686360</td>\n",
       "    </tr>\n",
       "    <tr>\n",
       "      <td>20</td>\n",
       "      <td>0.282100</td>\n",
       "      <td>0.757204</td>\n",
       "      <td>0.690355</td>\n",
       "      <td>0.689504</td>\n",
       "    </tr>\n",
       "    <tr>\n",
       "      <td>21</td>\n",
       "      <td>0.276700</td>\n",
       "      <td>0.758338</td>\n",
       "      <td>0.693739</td>\n",
       "      <td>0.690810</td>\n",
       "    </tr>\n",
       "    <tr>\n",
       "      <td>22</td>\n",
       "      <td>0.266200</td>\n",
       "      <td>0.776432</td>\n",
       "      <td>0.690355</td>\n",
       "      <td>0.685373</td>\n",
       "    </tr>\n",
       "    <tr>\n",
       "      <td>23</td>\n",
       "      <td>0.257500</td>\n",
       "      <td>0.772734</td>\n",
       "      <td>0.690355</td>\n",
       "      <td>0.687393</td>\n",
       "    </tr>\n",
       "    <tr>\n",
       "      <td>24</td>\n",
       "      <td>0.257200</td>\n",
       "      <td>0.780809</td>\n",
       "      <td>0.690355</td>\n",
       "      <td>0.684788</td>\n",
       "    </tr>\n",
       "    <tr>\n",
       "      <td>25</td>\n",
       "      <td>0.263100</td>\n",
       "      <td>0.780491</td>\n",
       "      <td>0.693739</td>\n",
       "      <td>0.688526</td>\n",
       "    </tr>\n",
       "    <tr>\n",
       "      <td>26</td>\n",
       "      <td>0.255600</td>\n",
       "      <td>0.780353</td>\n",
       "      <td>0.686971</td>\n",
       "      <td>0.683019</td>\n",
       "    </tr>\n",
       "  </tbody>\n",
       "</table><p>"
      ],
      "text/plain": [
       "<IPython.core.display.HTML object>"
      ]
     },
     "metadata": {},
     "output_type": "display_data"
    }
   ],
   "source": [
    "from transformers import Trainer\n",
    "\n",
    "trainer = Trainer(model=model, args=training_args, \n",
    "                  compute_metrics=compute_metrics,\n",
    "                  train_dataset=tokenized[\"train\"],\n",
    "                  eval_dataset=tokenized[\"test\"],\n",
    "                  tokenizer=tokenizer)\n",
    "trainer.train();"
   ]
  },
  {
   "cell_type": "code",
   "execution_count": 37,
   "id": "85020e27",
   "metadata": {},
   "outputs": [
    {
     "data": {
      "text/html": [],
      "text/plain": [
       "<IPython.core.display.HTML object>"
      ]
     },
     "metadata": {},
     "output_type": "display_data"
    },
    {
     "data": {
      "text/plain": [
       "PredictionOutput(predictions=array([[ 0.57710665, -0.6231781 ],\n",
       "       [-0.06207819,  0.04237204],\n",
       "       [ 0.8484938 , -0.8744642 ],\n",
       "       ...,\n",
       "       [ 0.7272419 , -0.7560736 ],\n",
       "       [-0.27110365,  0.23037702],\n",
       "       [ 0.66329175, -0.7033438 ]], dtype=float32), label_ids=array([0, 1, 0, 1, 1, 0, 1, 1, 0, 1, 0, 0, 0, 0, 0, 1, 0, 0, 0, 1, 1, 1,\n",
       "       1, 1, 0, 1, 0, 1, 0, 0, 0, 0, 1, 1, 1, 0, 0, 0, 1, 0, 0, 0, 0, 0,\n",
       "       1, 0, 1, 0, 0, 1, 0, 0, 0, 1, 0, 0, 0, 0, 1, 1, 1, 1, 1, 0, 0, 1,\n",
       "       1, 1, 0, 0, 0, 0, 0, 0, 0, 1, 0, 0, 1, 1, 1, 1, 0, 0, 0, 0, 0, 1,\n",
       "       1, 0, 0, 1, 0, 1, 1, 1, 1, 0, 0, 0, 1, 0, 0, 0, 0, 1, 0, 1, 1, 0,\n",
       "       0, 1, 1, 1, 0, 0, 0, 1, 0, 0, 1, 0, 1, 1, 1, 1, 0, 0, 1, 1, 0, 1,\n",
       "       0, 1, 0, 1, 0, 0, 1, 1, 0, 1, 1, 1, 1, 0, 1, 0, 1, 1, 1, 0, 1, 0,\n",
       "       0, 1, 0, 0, 0, 1, 1, 0, 0, 0, 0, 1, 1, 0, 1, 0, 1, 1, 0, 1, 1, 0,\n",
       "       0, 0, 0, 0, 1, 0, 0, 0, 0, 0, 0, 1, 1, 0, 0, 0, 0, 0, 1, 1, 1, 0,\n",
       "       0, 1, 1, 1, 0, 1, 0, 1, 1, 0, 0, 0, 1, 1, 0, 0, 1, 1, 1, 0, 0, 1,\n",
       "       1, 1, 1, 0, 0, 0, 0, 0, 0, 0, 1, 0, 0, 1, 0, 0, 0, 1, 0, 0, 0, 1,\n",
       "       1, 0, 0, 1, 1, 0, 1, 1, 0, 1, 1, 0, 0, 0, 1, 1, 0, 0, 1, 1, 0, 1,\n",
       "       0, 0, 0, 0, 1, 0, 0, 0, 1, 0, 1, 1, 1, 0, 1, 1, 0, 0, 1, 1, 0, 1,\n",
       "       0, 1, 0, 0, 0, 0, 1, 0, 0, 0, 0, 0, 0, 0, 1, 1, 0, 1, 1, 1, 0, 1,\n",
       "       1, 0, 1, 0, 0, 1, 0, 0, 1, 1, 0, 0, 0, 0, 1, 0, 0, 1, 1, 0, 0, 0,\n",
       "       0, 1, 0, 1, 0, 1, 0, 1, 1, 0, 1, 1, 0, 0, 0, 1, 1, 0, 1, 0, 1, 0,\n",
       "       1, 0, 1, 0, 0, 0, 1, 0, 0, 0, 0, 1, 0, 1, 0, 1, 1, 1, 0, 1, 1, 1,\n",
       "       1, 0, 1, 1, 1, 0, 1, 1, 1, 0, 0, 1, 1, 0, 0, 1, 0, 1, 1, 1, 0, 0,\n",
       "       1, 0, 1, 0, 0, 0, 1, 0, 0, 0, 0, 1, 0, 0, 0, 0, 1, 1, 1, 0, 1, 1,\n",
       "       0, 0, 0, 0, 1, 0, 0, 1, 0, 1, 0, 0, 0, 1, 1, 0, 1, 0, 0, 0, 0, 1,\n",
       "       0, 1, 1, 1, 1, 0, 0, 0, 1, 1, 0, 1, 1, 0, 1, 0, 0, 1, 0, 0, 1, 0,\n",
       "       0, 1, 1, 1, 0, 0, 1, 0, 0, 1, 0, 1, 0, 1, 1, 1, 1, 0, 1, 0, 0, 0,\n",
       "       0, 1, 0, 0, 0, 0, 0, 1, 1, 1, 1, 0, 0, 0, 0, 1, 1, 0, 1, 0, 0, 0,\n",
       "       0, 1, 1, 1, 1, 1, 0, 0, 0, 0, 1, 0, 0, 0, 1, 1, 1, 0, 1, 0, 0, 0,\n",
       "       1, 1, 1, 0, 0, 1, 0, 1, 0, 1, 1, 1, 1, 0, 1, 1, 1, 1, 0, 1, 1, 1,\n",
       "       0, 1, 0, 1, 1, 0, 0, 0, 1, 1, 0, 0, 1, 1, 1, 1, 0, 1, 1, 1, 1, 1,\n",
       "       1, 1, 1, 0, 0, 0, 1, 1, 1, 0, 1, 0, 0, 1, 1, 1, 0, 1, 0],\n",
       "      dtype=int64), metrics={'test_loss': 0.6162596940994263, 'test_accuracy': 0.6971235194585449, 'test_f1': 0.6916780434923019, 'test_runtime': 13.6693, 'test_samples_per_second': 43.235, 'test_steps_per_second': 0.366})"
      ]
     },
     "execution_count": 37,
     "metadata": {},
     "output_type": "execute_result"
    }
   ],
   "source": [
    "preds_output = trainer.predict(tokenized[\"test\"])\n",
    "preds_output"
   ]
  },
  {
   "cell_type": "code",
   "execution_count": 38,
   "id": "7190cb9f",
   "metadata": {},
   "outputs": [
    {
     "data": {
      "text/plain": [
       "array([0, 1, 0, 1, 1, 0, 1, 1, 1, 0, 0, 0, 0, 0, 0, 0, 0, 1, 0, 1, 1, 1,\n",
       "       0, 1, 0, 0, 0, 0, 0, 0, 0, 0, 1, 0, 0, 1, 0, 0, 0, 0, 0, 0, 0, 1,\n",
       "       0, 0, 1, 0, 0, 0, 0, 0, 0, 1, 1, 0, 0, 0, 1, 0, 1, 1, 1, 0, 1, 1,\n",
       "       1, 1, 0, 0, 0, 0, 0, 0, 0, 1, 0, 0, 1, 1, 1, 0, 0, 0, 0, 0, 0, 1,\n",
       "       0, 1, 0, 0, 1, 1, 1, 1, 1, 0, 0, 1, 1, 0, 0, 0, 0, 1, 1, 0, 0, 0,\n",
       "       1, 0, 0, 0, 1, 0, 0, 1, 0, 1, 0, 0, 1, 1, 1, 1, 0, 0, 0, 1, 1, 0,\n",
       "       0, 1, 1, 1, 0, 0, 0, 1, 0, 1, 1, 1, 1, 0, 0, 0, 1, 1, 1, 0, 1, 0,\n",
       "       0, 0, 0, 0, 0, 1, 1, 0, 1, 0, 1, 0, 0, 0, 0, 0, 1, 1, 0, 1, 0, 0,\n",
       "       0, 1, 1, 0, 1, 1, 1, 0, 0, 1, 0, 0, 1, 0, 0, 0, 0, 0, 1, 1, 1, 0,\n",
       "       0, 1, 0, 1, 0, 1, 0, 0, 1, 0, 0, 0, 0, 1, 1, 0, 1, 0, 1, 0, 0, 1,\n",
       "       1, 1, 0, 0, 1, 0, 0, 0, 0, 0, 0, 1, 0, 0, 0, 0, 0, 0, 0, 0, 0, 0,\n",
       "       0, 0, 1, 0, 1, 1, 0, 0, 0, 1, 1, 1, 0, 0, 1, 1, 0, 0, 1, 1, 0, 1,\n",
       "       0, 0, 1, 1, 0, 0, 0, 0, 0, 0, 0, 0, 0, 0, 1, 0, 0, 1, 1, 0, 0, 0,\n",
       "       0, 0, 0, 0, 0, 1, 1, 0, 0, 0, 1, 0, 0, 0, 0, 0, 0, 1, 1, 0, 0, 0,\n",
       "       1, 0, 0, 0, 0, 0, 0, 0, 1, 1, 0, 1, 0, 0, 0, 0, 0, 1, 1, 0, 0, 0,\n",
       "       0, 0, 0, 0, 0, 1, 0, 1, 0, 1, 0, 0, 0, 0, 0, 0, 0, 0, 0, 1, 0, 0,\n",
       "       0, 0, 1, 1, 0, 0, 0, 0, 0, 0, 0, 0, 0, 1, 1, 0, 1, 0, 0, 1, 1, 1,\n",
       "       0, 0, 1, 1, 0, 1, 1, 1, 1, 0, 0, 0, 0, 0, 0, 1, 1, 1, 0, 0, 1, 1,\n",
       "       1, 0, 1, 1, 0, 1, 0, 0, 0, 0, 0, 1, 1, 0, 0, 0, 1, 0, 1, 0, 1, 1,\n",
       "       0, 0, 1, 0, 1, 0, 0, 0, 0, 1, 0, 0, 1, 1, 1, 0, 1, 0, 0, 0, 1, 1,\n",
       "       1, 1, 1, 1, 0, 0, 0, 0, 1, 1, 0, 0, 0, 0, 1, 0, 0, 0, 0, 0, 0, 0,\n",
       "       0, 0, 0, 0, 0, 0, 1, 1, 0, 0, 0, 1, 0, 0, 0, 1, 0, 0, 0, 0, 0, 0,\n",
       "       0, 0, 1, 0, 0, 0, 0, 0, 1, 0, 0, 0, 0, 0, 0, 0, 1, 1, 0, 0, 0, 1,\n",
       "       0, 1, 0, 1, 0, 1, 0, 0, 1, 1, 1, 0, 1, 0, 1, 0, 0, 0, 1, 0, 0, 0,\n",
       "       1, 1, 1, 0, 0, 1, 0, 1, 0, 1, 1, 1, 1, 0, 1, 1, 1, 0, 0, 0, 0, 1,\n",
       "       0, 0, 1, 0, 1, 0, 0, 0, 1, 1, 0, 0, 0, 0, 1, 1, 0, 0, 1, 0, 0, 1,\n",
       "       0, 1, 1, 0, 0, 1, 0, 0, 1, 0, 0, 1, 0, 1, 1, 0, 0, 1, 0],\n",
       "      dtype=int64)"
      ]
     },
     "execution_count": 38,
     "metadata": {},
     "output_type": "execute_result"
    }
   ],
   "source": [
    "y_preds = np.argmax(preds_output.predictions, axis=1)\n",
    "y_preds"
   ]
  },
  {
   "cell_type": "code",
   "execution_count": 39,
   "id": "0d6621a1",
   "metadata": {},
   "outputs": [
    {
     "data": {
      "image/png": "[encoded data removed]",
      "text/plain": [
       "<Figure size 600x600 with 1 Axes>"
      ]
     },
     "metadata": {},
     "output_type": "display_data"
    }
   ],
   "source": [
    "plot_confusion_matrix(y_preds, y_test, labels)"
   ]
  },
  {
   "cell_type": "markdown",
   "id": "58618a30",
   "metadata": {},
   "source": [
    "- keras finetuning"
   ]
  },
  {
   "cell_type": "code",
   "execution_count": 40,
   "id": "dc905f01",
   "metadata": {},
   "outputs": [],
   "source": [
    "from transformers import TFAutoModelForSequenceClassification\n",
    "\n",
    "tf_model = (TFAutoModelForSequenceClassification.from_pretrained(model_name, num_labels=num_labels))"
   ]
  },
  {
   "cell_type": "code",
   "execution_count": 41,
   "id": "109525ac",
   "metadata": {},
   "outputs": [],
   "source": [
    "tokenizer_columns = tokenizer.model_input_names\n",
    "\n",
    "tf_train_dataset = tokenized[\"train\"].to_tf_dataset(\n",
    "    columns=tokenizer_columns, label_cols=[\"label\"], shuffle=True,\n",
    "    batch_size=batch_size)\n",
    "tf_eval_dataset = tokenized[\"test\"].to_tf_dataset(\n",
    "    columns=tokenizer_columns, label_cols=[\"label\"], shuffle=False,\n",
    "    batch_size=batch_size)"
   ]
  },
  {
   "cell_type": "code",
   "execution_count": 42,
   "id": "57f0b4e3",
   "metadata": {},
   "outputs": [
    {
     "name": "stdout",
     "output_type": "stream",
     "text": [
      "Epoch 1/2\n"
     ]
    },
    {
     "ename": "AttributeError",
     "evalue": "in user code:\n\n    File \"C:\\Users\\capek\\pycharm_projects\\Transformers_for_czech_language\\venv\\lib\\site-packages\\keras\\engine\\training.py\", line 1249, in train_function  *\n        return step_function(self, iterator)\n    File \"C:\\Users\\capek\\pycharm_projects\\Transformers_for_czech_language\\venv\\lib\\site-packages\\keras\\engine\\training.py\", line 1233, in step_function  **\n        outputs = model.distribute_strategy.run(run_step, args=(data,))\n    File \"C:\\Users\\capek\\pycharm_projects\\Transformers_for_czech_language\\venv\\lib\\site-packages\\keras\\engine\\training.py\", line 1222, in run_step  **\n        outputs = model.train_step(data)\n    File \"C:\\Users\\capek\\pycharm_projects\\Transformers_for_czech_language\\venv\\lib\\site-packages\\transformers\\modeling_tf_utils.py\", line 1476, in train_step\n        data = data_adapter.expand_1d(data)\n\n    AttributeError: module 'keras.engine.data_adapter' has no attribute 'expand_1d'\n",
     "output_type": "error",
     "traceback": [
      "\u001b[1;31m---------------------------------------------------------------------------\u001b[0m",
      "\u001b[1;31mAttributeError\u001b[0m                            Traceback (most recent call last)",
      "Cell \u001b[1;32mIn[42], line 9\u001b[0m\n\u001b[0;32m      2\u001b[0m \u001b[38;5;28;01mimport\u001b[39;00m \u001b[38;5;21;01mtensorflow\u001b[39;00m \u001b[38;5;28;01mas\u001b[39;00m \u001b[38;5;21;01mtf\u001b[39;00m\n\u001b[0;32m      4\u001b[0m tf_model\u001b[38;5;241m.\u001b[39mcompile(\n\u001b[0;32m      5\u001b[0m     optimizer\u001b[38;5;241m=\u001b[39mtf\u001b[38;5;241m.\u001b[39mkeras\u001b[38;5;241m.\u001b[39moptimizers\u001b[38;5;241m.\u001b[39mAdam(learning_rate\u001b[38;5;241m=\u001b[39m\u001b[38;5;241m5e-5\u001b[39m),\n\u001b[0;32m      6\u001b[0m     loss\u001b[38;5;241m=\u001b[39mtf\u001b[38;5;241m.\u001b[39mkeras\u001b[38;5;241m.\u001b[39mlosses\u001b[38;5;241m.\u001b[39mSparseCategoricalCrossentropy(from_logits\u001b[38;5;241m=\u001b[39m\u001b[38;5;28;01mTrue\u001b[39;00m),\n\u001b[0;32m      7\u001b[0m     metrics\u001b[38;5;241m=\u001b[39mtf\u001b[38;5;241m.\u001b[39mmetrics\u001b[38;5;241m.\u001b[39mSparseCategoricalAccuracy())\n\u001b[1;32m----> 9\u001b[0m \u001b[43mtf_model\u001b[49m\u001b[38;5;241;43m.\u001b[39;49m\u001b[43mfit\u001b[49m\u001b[43m(\u001b[49m\u001b[43mtf_train_dataset\u001b[49m\u001b[43m,\u001b[49m\u001b[43m \u001b[49m\u001b[43mvalidation_data\u001b[49m\u001b[38;5;241;43m=\u001b[39;49m\u001b[43mtf_eval_dataset\u001b[49m\u001b[43m,\u001b[49m\u001b[43m \u001b[49m\u001b[43mepochs\u001b[49m\u001b[38;5;241;43m=\u001b[39;49m\u001b[38;5;241;43m2\u001b[39;49m\u001b[43m)\u001b[49m\n",
      "File \u001b[1;32m~\\pycharm_projects\\Transformers_for_czech_language\\venv\\lib\\site-packages\\keras\\utils\\traceback_utils.py:70\u001b[0m, in \u001b[0;36mfilter_traceback.<locals>.error_handler\u001b[1;34m(*args, **kwargs)\u001b[0m\n\u001b[0;32m     67\u001b[0m     filtered_tb \u001b[38;5;241m=\u001b[39m _process_traceback_frames(e\u001b[38;5;241m.\u001b[39m__traceback__)\n\u001b[0;32m     68\u001b[0m     \u001b[38;5;66;03m# To get the full stack trace, call:\u001b[39;00m\n\u001b[0;32m     69\u001b[0m     \u001b[38;5;66;03m# `tf.debugging.disable_traceback_filtering()`\u001b[39;00m\n\u001b[1;32m---> 70\u001b[0m     \u001b[38;5;28;01mraise\u001b[39;00m e\u001b[38;5;241m.\u001b[39mwith_traceback(filtered_tb) \u001b[38;5;28;01mfrom\u001b[39;00m \u001b[38;5;28mNone\u001b[39m\n\u001b[0;32m     71\u001b[0m \u001b[38;5;28;01mfinally\u001b[39;00m:\n\u001b[0;32m     72\u001b[0m     \u001b[38;5;28;01mdel\u001b[39;00m filtered_tb\n",
      "File \u001b[1;32m~\\AppData\\Local\\Temp\\__autograph_generated_filebz02nrnl.py:15\u001b[0m, in \u001b[0;36mouter_factory.<locals>.inner_factory.<locals>.tf__train_function\u001b[1;34m(iterator)\u001b[0m\n\u001b[0;32m     13\u001b[0m \u001b[38;5;28;01mtry\u001b[39;00m:\n\u001b[0;32m     14\u001b[0m     do_return \u001b[38;5;241m=\u001b[39m \u001b[38;5;28;01mTrue\u001b[39;00m\n\u001b[1;32m---> 15\u001b[0m     retval_ \u001b[38;5;241m=\u001b[39m ag__\u001b[38;5;241m.\u001b[39mconverted_call(ag__\u001b[38;5;241m.\u001b[39mld(step_function), (ag__\u001b[38;5;241m.\u001b[39mld(\u001b[38;5;28mself\u001b[39m), ag__\u001b[38;5;241m.\u001b[39mld(iterator)), \u001b[38;5;28;01mNone\u001b[39;00m, fscope)\n\u001b[0;32m     16\u001b[0m \u001b[38;5;28;01mexcept\u001b[39;00m:\n\u001b[0;32m     17\u001b[0m     do_return \u001b[38;5;241m=\u001b[39m \u001b[38;5;28;01mFalse\u001b[39;00m\n",
      "File \u001b[1;32m~\\pycharm_projects\\Transformers_for_czech_language\\venv\\lib\\site-packages\\transformers\\modeling_tf_utils.py:1476\u001b[0m, in \u001b[0;36mTFPreTrainedModel.train_step\u001b[1;34m(self, data)\u001b[0m\n\u001b[0;32m   1474\u001b[0m output_to_label \u001b[38;5;241m=\u001b[39m {val: key \u001b[38;5;28;01mfor\u001b[39;00m key, val \u001b[38;5;129;01min\u001b[39;00m label_to_output\u001b[38;5;241m.\u001b[39mitems()}\n\u001b[0;32m   1475\u001b[0m \u001b[38;5;28;01mif\u001b[39;00m \u001b[38;5;129;01mnot\u001b[39;00m \u001b[38;5;28mself\u001b[39m\u001b[38;5;241m.\u001b[39m_using_dummy_loss:\n\u001b[1;32m-> 1476\u001b[0m     data \u001b[38;5;241m=\u001b[39m \u001b[43mdata_adapter\u001b[49m\u001b[38;5;241;43m.\u001b[39;49m\u001b[43mexpand_1d\u001b[49m(data)\n\u001b[0;32m   1477\u001b[0m x, y, sample_weight \u001b[38;5;241m=\u001b[39m data_adapter\u001b[38;5;241m.\u001b[39munpack_x_y_sample_weight(data)\n\u001b[0;32m   1478\u001b[0m \u001b[38;5;66;03m# If the inputs are mutable dictionaries, make a shallow copy of them because we will modify\u001b[39;00m\n\u001b[0;32m   1479\u001b[0m \u001b[38;5;66;03m# them during input/label pre-processing. This avoids surprising the user by wrecking their data.\u001b[39;00m\n\u001b[0;32m   1480\u001b[0m \u001b[38;5;66;03m# In addition, modifying mutable Python inputs makes XLA compilation impossible.\u001b[39;00m\n",
      "\u001b[1;31mAttributeError\u001b[0m: in user code:\n\n    File \"C:\\Users\\capek\\pycharm_projects\\Transformers_for_czech_language\\venv\\lib\\site-packages\\keras\\engine\\training.py\", line 1249, in train_function  *\n        return step_function(self, iterator)\n    File \"C:\\Users\\capek\\pycharm_projects\\Transformers_for_czech_language\\venv\\lib\\site-packages\\keras\\engine\\training.py\", line 1233, in step_function  **\n        outputs = model.distribute_strategy.run(run_step, args=(data,))\n    File \"C:\\Users\\capek\\pycharm_projects\\Transformers_for_czech_language\\venv\\lib\\site-packages\\keras\\engine\\training.py\", line 1222, in run_step  **\n        outputs = model.train_step(data)\n    File \"C:\\Users\\capek\\pycharm_projects\\Transformers_for_czech_language\\venv\\lib\\site-packages\\transformers\\modeling_tf_utils.py\", line 1476, in train_step\n        data = data_adapter.expand_1d(data)\n\n    AttributeError: module 'keras.engine.data_adapter' has no attribute 'expand_1d'\n"
     ]
    }
   ],
   "source": [
    "# does not work\n",
    "import tensorflow as tf\n",
    "\n",
    "tf_model.compile(\n",
    "    optimizer=tf.keras.optimizers.Adam(learning_rate=5e-5),\n",
    "    loss=tf.keras.losses.SparseCategoricalCrossentropy(from_logits=True),\n",
    "    metrics=tf.metrics.SparseCategoricalAccuracy())\n",
    "\n",
    "tf_model.fit(tf_train_dataset, validation_data=tf_eval_dataset, epochs=2)"
   ]
  },
  {
   "cell_type": "markdown",
   "id": "6524aae5",
   "metadata": {},
   "source": [
    "# Error analysis"
   ]
  },
  {
   "cell_type": "markdown",
   "id": "47e7a63b",
   "metadata": {},
   "source": [
    "<i>\"Before moving on, we should investigate our model's predictions a little bit further. A simple yet powerful technique is to sort the validation samples by the model loss. When we pass the label during the forward pass, the loss is automatically calculated and returned. Here's a function that returns the loss along with the predicted label:\"</i>"
   ]
  },
  {
   "cell_type": "code",
   "execution_count": 43,
   "id": "aa4fc917",
   "metadata": {},
   "outputs": [],
   "source": [
    "from torch.nn.functional import cross_entropy\n",
    "\n",
    "def forward_pass_with_label(batch):\n",
    "    # Place all input tensors on the same device as the model\n",
    "    inputs = {k:v.to(device) for k,v in batch.items() \n",
    "              if k in tokenizer.model_input_names}\n",
    "\n",
    "    with torch.no_grad():\n",
    "        output = model(**inputs)\n",
    "        pred_label = torch.argmax(output.logits, axis=-1)\n",
    "        loss = cross_entropy(output.logits, batch[\"label\"].to(device), \n",
    "                             reduction=\"none\")\n",
    "\n",
    "    # Place outputs on CPU for compatibility with other dataset columns   \n",
    "    return {\"loss\": loss.cpu().numpy(), \n",
    "            \"predicted_label\": pred_label.cpu().numpy()}\n",
    "     "
   ]
  },
  {
   "cell_type": "code",
   "execution_count": 44,
   "id": "7b48633b",
   "metadata": {},
   "outputs": [
    {
     "data": {
      "application/vnd.jupyter.widget-view+json": {
       "model_id": "37975c7fbe35415ead3ac5daf5b9af45",
       "version_major": 2,
       "version_minor": 0
      },
      "text/plain": [
       "  0%|          | 0/37 [00:00<?, ?ba/s]"
      ]
     },
     "metadata": {},
     "output_type": "display_data"
    }
   ],
   "source": [
    "# Convert our dataset back to PyTorch tensors\n",
    "tokenized.set_format(\"torch\", \n",
    "                            columns=[\"input_ids\", \"token_type_ids\", \"attention_mask\", \"label\"])\n",
    "# Compute loss values\n",
    "tokenized[\"test\"] = tokenized[\"test\"].map(\n",
    "    forward_pass_with_label, batched=True, batch_size=16)"
   ]
  },
  {
   "cell_type": "code",
   "execution_count": 47,
   "id": "0b868154",
   "metadata": {},
   "outputs": [],
   "source": [
    "tokenized.set_format(\"pandas\")\n",
    "cols = [\"text\", \"label\", \"predicted_label\", \"loss\"]\n",
    "df_test = tokenized[\"test\"][:][cols]\n",
    "df_test[\"label\"] = df_test[\"label\"].apply(label_int2str)\n",
    "df_test[\"predicted_label\"] = (df_test[\"predicted_label\"]\n",
    "                              .apply(label_int2str))"
   ]
  },
  {
   "cell_type": "code",
   "execution_count": 54,
   "id": "91dea457",
   "metadata": {},
   "outputs": [
    {
     "data": {
      "text/html": [
       "<div>\n",
       "<style scoped>\n",
       "    .dataframe tbody tr th:only-of-type {\n",
       "        vertical-align: middle;\n",
       "    }\n",
       "\n",
       "    .dataframe tbody tr th {\n",
       "        vertical-align: top;\n",
       "    }\n",
       "\n",
       "    .dataframe thead th {\n",
       "        text-align: right;\n",
       "    }\n",
       "</style>\n",
       "<table border=\"1\" class=\"dataframe\">\n",
       "  <thead>\n",
       "    <tr style=\"text-align: right;\">\n",
       "      <th></th>\n",
       "      <th>text</th>\n",
       "      <th>label</th>\n",
       "      <th>predicted_label</th>\n",
       "      <th>loss</th>\n",
       "    </tr>\n",
       "  </thead>\n",
       "  <tbody>\n",
       "    <tr>\n",
       "      <th>233</th>\n",
       "      <td>@TomasZdechovsky @AndrejBabis @SpoluKoalice @STANcz @PiratskaStrana s tou koalicí bych to zas tak jednoduše neviděl. Z cyklu „Už se perou“\\n\\n</td>\n",
       "      <td>after</td>\n",
       "      <td>before</td>\n",
       "      <td>1.909461</td>\n",
       "    </tr>\n",
       "    <tr>\n",
       "      <th>33</th>\n",
       "      <td>@Sra93178461 @WendyBendy16 @cabanmart Sára je troll stbáckého fízla. Prostě odpad. Netřeba s ní (s ním, s tím?) komunikovat. \\nBabiš prohrál, to je dobrý začátek.</td>\n",
       "      <td>after</td>\n",
       "      <td>before</td>\n",
       "      <td>1.886875</td>\n",
       "    </tr>\n",
       "    <tr>\n",
       "      <th>587</th>\n",
       "      <td>@TomasZdechovsky @kducsl @AndrejBabis Zdechovský, ty jsi fakt fracek ze žluté tísně.</td>\n",
       "      <td>after</td>\n",
       "      <td>before</td>\n",
       "      <td>1.883517</td>\n",
       "    </tr>\n",
       "    <tr>\n",
       "      <th>131</th>\n",
       "      <td>„Já se můžu – s prominutím – vysrat na milion sto tisíc hektolitrů piva a další věci. Ať to vylejou. V porovnání s tím, kolik se ztrácí každej tejden tím, že děcka nechoděj do školy, je to marginalita.\" \\n\\nV hlavních rolích @profesorPrymula @RobertPlaga @AndrejBabis...</td>\n",
       "      <td>after</td>\n",
       "      <td>before</td>\n",
       "      <td>1.883513</td>\n",
       "    </tr>\n",
       "    <tr>\n",
       "      <th>230</th>\n",
       "      <td>@CNNPrima @AndrejBabis Ty totiž nechápeš vůbec nic.</td>\n",
       "      <td>after</td>\n",
       "      <td>before</td>\n",
       "      <td>1.881775</td>\n",
       "    </tr>\n",
       "    <tr>\n",
       "      <th>274</th>\n",
       "      <td>@Lenka_Hani @CNNPrima @AndrejBabis Jste mnohem větší.</td>\n",
       "      <td>after</td>\n",
       "      <td>before</td>\n",
       "      <td>1.878076</td>\n",
       "    </tr>\n",
       "    <tr>\n",
       "      <th>187</th>\n",
       "      <td>@CNNPrima @AndrejBabis Totální bordel a ostuda republiky! Se musí každý propadat za hlavu v zahraničí co se tu děje! Nejmenší státeček a největší bordel!</td>\n",
       "      <td>after</td>\n",
       "      <td>before</td>\n",
       "      <td>1.873709</td>\n",
       "    </tr>\n",
       "    <tr>\n",
       "      <th>547</th>\n",
       "      <td>@ehucka1 @rkaldy @KohoutPavel @PetrHonzejk Mně je jedno co Babiš říkal nebo neříkal. Já ho nevolil. Stejně jako jsem nevolil ani jednu z koalic. Proto si myslím, že můžu celkem objektivně říct, že všechny tyhle strany na sebe házeli špínu, tedy si nic nedluží a proto pláč není na místě.</td>\n",
       "      <td>after</td>\n",
       "      <td>before</td>\n",
       "      <td>1.873117</td>\n",
       "    </tr>\n",
       "    <tr>\n",
       "      <th>521</th>\n",
       "      <td>@Tina547736511 @tvtomas @CNNPrima @PrimaCnn Škoda, že jeho voličům nedojde ta skutečnost, že ono dlouhé čekání se vlastně vztahuje na to, jak tu osm let vládl právě Babiš. Zdravotnictví je v totálním rozkladu. Vůbec nezávidím tomu, kdo to po Vojtěchovi převezme, ať už to bude pan Válek nebo třeba pan Kaňkovský.</td>\n",
       "      <td>after</td>\n",
       "      <td>before</td>\n",
       "      <td>1.870393</td>\n",
       "    </tr>\n",
       "    <tr>\n",
       "      <th>59</th>\n",
       "      <td>@LukasGelnar @Vit_Rakusan @AndrejBabis @SpoluKoalice @PiratskaStrana @STANcz @PiratIvanBartos Všemocná digitalizace … co ajťák to jiny program . \\nKrásně to bylo vidět u tvorby eshopu na dálniční známky . \\n30 ajťáků a výsledek nepoužitelný ❗️ \\nA teď ještě ministerstvo 😂 \\nNěkdy raději používame tužku a  čtverečkový papír 😂</td>\n",
       "      <td>after</td>\n",
       "      <td>before</td>\n",
       "      <td>1.869986</td>\n",
       "    </tr>\n",
       "  </tbody>\n",
       "</table>\n",
       "</div>"
      ],
      "text/plain": [
       "                                                                                                                                                                                                                                                                                                                                       text  \\\n",
       "233                                                                                                                                                                                          @TomasZdechovsky @AndrejBabis @SpoluKoalice @STANcz @PiratskaStrana s tou koalicí bych to zas tak jednoduše neviděl. Z cyklu „Už se perou“\\n\\n   \n",
       "33                                                                                                                                                                       @Sra93178461 @WendyBendy16 @cabanmart Sára je troll stbáckého fízla. Prostě odpad. Netřeba s ní (s ním, s tím?) komunikovat. \\nBabiš prohrál, to je dobrý začátek.   \n",
       "587                                                                                                                                                                                                                                                    @TomasZdechovsky @kducsl @AndrejBabis Zdechovský, ty jsi fakt fracek ze žluté tísně.   \n",
       "131                                                         „Já se můžu – s prominutím – vysrat na milion sto tisíc hektolitrů piva a další věci. Ať to vylejou. V porovnání s tím, kolik se ztrácí každej tejden tím, že děcka nechoděj do školy, je to marginalita.\" \\n\\nV hlavních rolích @profesorPrymula @RobertPlaga @AndrejBabis...    \n",
       "230                                                                                                                                                                                                                                                                                     @CNNPrima @AndrejBabis Ty totiž nechápeš vůbec nic.   \n",
       "274                                                                                                                                                                                                                                                                                   @Lenka_Hani @CNNPrima @AndrejBabis Jste mnohem větší.   \n",
       "187                                                                                                                                                                               @CNNPrima @AndrejBabis Totální bordel a ostuda republiky! Se musí každý propadat za hlavu v zahraničí co se tu děje! Nejmenší státeček a největší bordel!   \n",
       "547                                         @ehucka1 @rkaldy @KohoutPavel @PetrHonzejk Mně je jedno co Babiš říkal nebo neříkal. Já ho nevolil. Stejně jako jsem nevolil ani jednu z koalic. Proto si myslím, že můžu celkem objektivně říct, že všechny tyhle strany na sebe házeli špínu, tedy si nic nedluží a proto pláč není na místě.   \n",
       "521                @Tina547736511 @tvtomas @CNNPrima @PrimaCnn Škoda, že jeho voličům nedojde ta skutečnost, že ono dlouhé čekání se vlastně vztahuje na to, jak tu osm let vládl právě Babiš. Zdravotnictví je v totálním rozkladu. Vůbec nezávidím tomu, kdo to po Vojtěchovi převezme, ať už to bude pan Válek nebo třeba pan Kaňkovský.   \n",
       "59   @LukasGelnar @Vit_Rakusan @AndrejBabis @SpoluKoalice @PiratskaStrana @STANcz @PiratIvanBartos Všemocná digitalizace … co ajťák to jiny program . \\nKrásně to bylo vidět u tvorby eshopu na dálniční známky . \\n30 ajťáků a výsledek nepoužitelný ❗️ \\nA teď ještě ministerstvo 😂 \\nNěkdy raději používame tužku a  čtverečkový papír 😂   \n",
       "\n",
       "     label predicted_label      loss  \n",
       "233  after          before  1.909461  \n",
       "33   after          before  1.886875  \n",
       "587  after          before  1.883517  \n",
       "131  after          before  1.883513  \n",
       "230  after          before  1.881775  \n",
       "274  after          before  1.878076  \n",
       "187  after          before  1.873709  \n",
       "547  after          before  1.873117  \n",
       "521  after          before  1.870393  \n",
       "59   after          before  1.869986  "
      ]
     },
     "metadata": {},
     "output_type": "display_data"
    }
   ],
   "source": [
    "with pd.option_context(\"display.max_colwidth\", None):\n",
    "    display(df_test.sort_values(\"loss\", ascending=False).head(10))"
   ]
  },
  {
   "cell_type": "code",
   "execution_count": 53,
   "id": "9526524d",
   "metadata": {},
   "outputs": [
    {
     "data": {
      "text/html": [
       "<div>\n",
       "<style scoped>\n",
       "    .dataframe tbody tr th:only-of-type {\n",
       "        vertical-align: middle;\n",
       "    }\n",
       "\n",
       "    .dataframe tbody tr th {\n",
       "        vertical-align: top;\n",
       "    }\n",
       "\n",
       "    .dataframe thead th {\n",
       "        text-align: right;\n",
       "    }\n",
       "</style>\n",
       "<table border=\"1\" class=\"dataframe\">\n",
       "  <thead>\n",
       "    <tr style=\"text-align: right;\">\n",
       "      <th></th>\n",
       "      <th>text</th>\n",
       "      <th>label</th>\n",
       "      <th>predicted_label</th>\n",
       "      <th>loss</th>\n",
       "    </tr>\n",
       "  </thead>\n",
       "  <tbody>\n",
       "    <tr>\n",
       "      <th>169</th>\n",
       "      <td>@TomasZdechovsky @P_Fiala @AndrejBabis @kducsl @SpoluKoalice A chodíte někdy nakupovat? Brambory stoji 14 Kč/kg a pivo je pod 10 Kč běžné.</td>\n",
       "      <td>before</td>\n",
       "      <td>before</td>\n",
       "      <td>0.160275</td>\n",
       "    </tr>\n",
       "    <tr>\n",
       "      <th>235</th>\n",
       "      <td>@TomasZdechovsky @P_Fiala @AndrejBabis @kducsl @SpoluKoalice Bude taky nějaký jarmark za fér ceny? :D :D</td>\n",
       "      <td>before</td>\n",
       "      <td>before</td>\n",
       "      <td>0.160540</td>\n",
       "    </tr>\n",
       "    <tr>\n",
       "      <th>98</th>\n",
       "      <td>@MarcelaTesaov1 @PetrHonzejk @Vit_Rakusan @CNNPrima @P_Fiala @PiratskaStrana @AndrejBabis Stačí, díky za objasnění ;)</td>\n",
       "      <td>before</td>\n",
       "      <td>before</td>\n",
       "      <td>0.160568</td>\n",
       "    </tr>\n",
       "    <tr>\n",
       "      <th>361</th>\n",
       "      <td>@TomasZdechovsky @P_Fiala @AndrejBabis @kducsl @SpoluKoalice Je vidět, že nevidíte nakupovat. Jinak byste takové nesmysly nemohl nikdy napsat.</td>\n",
       "      <td>before</td>\n",
       "      <td>before</td>\n",
       "      <td>0.160626</td>\n",
       "    </tr>\n",
       "    <tr>\n",
       "      <th>192</th>\n",
       "      <td>@HavranekOndrej1 @jbchastand @AndrejBabis @DIEZEIT @lemondefr @mdrde Myslím ze by rad, aby ho v Evropě brali vážně …</td>\n",
       "      <td>before</td>\n",
       "      <td>before</td>\n",
       "      <td>0.160898</td>\n",
       "    </tr>\n",
       "    <tr>\n",
       "      <th>410</th>\n",
       "      <td>@F4FutureCZ @AndrejBabis @p_doubravsky Hele běžte se někam přilepit ať je klid 🤣🤣🤣🤣</td>\n",
       "      <td>before</td>\n",
       "      <td>before</td>\n",
       "      <td>0.160957</td>\n",
       "    </tr>\n",
       "    <tr>\n",
       "      <th>334</th>\n",
       "      <td>@lunpav @PiratskaStrana @babis @AndrejBabis Můžete tomu zabránit! Přemluvte dost lidí, aby měl PirStan 51 procent! a nebude koalice s ODS!</td>\n",
       "      <td>before</td>\n",
       "      <td>before</td>\n",
       "      <td>0.161003</td>\n",
       "    </tr>\n",
       "    <tr>\n",
       "      <th>484</th>\n",
       "      <td>@MichaelaUrban14 @TomasZdechovsky @P_Fiala @AndrejBabis @kducsl @SpoluKoalice Máslo (250g) stálo před rozvolněním cen k 7. 7. 1990 10 Kčs. Dnes jsem jej v Albertu koupil za 23,90 Kč.</td>\n",
       "      <td>before</td>\n",
       "      <td>before</td>\n",
       "      <td>0.161574</td>\n",
       "    </tr>\n",
       "    <tr>\n",
       "      <th>487</th>\n",
       "      <td>@MaLaJMO @lukenukem78 @AndrejBabis @tomio_cz @jhamacek To bylo co?\\n1) urážka\\n2) tvrzení, že fotografie nezobrazuje utonulé dítě,\\nnebo \\n3) ještě něco jiného?</td>\n",
       "      <td>before</td>\n",
       "      <td>before</td>\n",
       "      <td>0.161687</td>\n",
       "    </tr>\n",
       "    <tr>\n",
       "      <th>250</th>\n",
       "      <td>@FackaDoTvarePK @V_Adamovsky @michalblaha Setkání Kaufnera s Pekarovou dokazuje že mladý Babiš je psychicky nemocný?\\n\\nJste normální?</td>\n",
       "      <td>before</td>\n",
       "      <td>before</td>\n",
       "      <td>0.161762</td>\n",
       "    </tr>\n",
       "  </tbody>\n",
       "</table>\n",
       "</div>"
      ],
      "text/plain": [
       "                                                                                                                                                                                       text  \\\n",
       "169                                              @TomasZdechovsky @P_Fiala @AndrejBabis @kducsl @SpoluKoalice A chodíte někdy nakupovat? Brambory stoji 14 Kč/kg a pivo je pod 10 Kč běžné.   \n",
       "235                                                                                @TomasZdechovsky @P_Fiala @AndrejBabis @kducsl @SpoluKoalice Bude taky nějaký jarmark za fér ceny? :D :D   \n",
       "98                                                                    @MarcelaTesaov1 @PetrHonzejk @Vit_Rakusan @CNNPrima @P_Fiala @PiratskaStrana @AndrejBabis Stačí, díky za objasnění ;)   \n",
       "361                                          @TomasZdechovsky @P_Fiala @AndrejBabis @kducsl @SpoluKoalice Je vidět, že nevidíte nakupovat. Jinak byste takové nesmysly nemohl nikdy napsat.   \n",
       "192                                                                    @HavranekOndrej1 @jbchastand @AndrejBabis @DIEZEIT @lemondefr @mdrde Myslím ze by rad, aby ho v Evropě brali vážně …   \n",
       "410                                                                                                     @F4FutureCZ @AndrejBabis @p_doubravsky Hele běžte se někam přilepit ať je klid 🤣🤣🤣🤣   \n",
       "334                                              @lunpav @PiratskaStrana @babis @AndrejBabis Můžete tomu zabránit! Přemluvte dost lidí, aby měl PirStan 51 procent! a nebude koalice s ODS!   \n",
       "484  @MichaelaUrban14 @TomasZdechovsky @P_Fiala @AndrejBabis @kducsl @SpoluKoalice Máslo (250g) stálo před rozvolněním cen k 7. 7. 1990 10 Kčs. Dnes jsem jej v Albertu koupil za 23,90 Kč.   \n",
       "487                        @MaLaJMO @lukenukem78 @AndrejBabis @tomio_cz @jhamacek To bylo co?\\n1) urážka\\n2) tvrzení, že fotografie nezobrazuje utonulé dítě,\\nnebo \\n3) ještě něco jiného?   \n",
       "250                                                  @FackaDoTvarePK @V_Adamovsky @michalblaha Setkání Kaufnera s Pekarovou dokazuje že mladý Babiš je psychicky nemocný?\\n\\nJste normální?   \n",
       "\n",
       "      label predicted_label      loss  \n",
       "169  before          before  0.160275  \n",
       "235  before          before  0.160540  \n",
       "98   before          before  0.160568  \n",
       "361  before          before  0.160626  \n",
       "192  before          before  0.160898  \n",
       "410  before          before  0.160957  \n",
       "334  before          before  0.161003  \n",
       "484  before          before  0.161574  \n",
       "487  before          before  0.161687  \n",
       "250  before          before  0.161762  "
      ]
     },
     "metadata": {},
     "output_type": "display_data"
    }
   ],
   "source": [
    "with pd.option_context(\"display.max_colwidth\", None):\n",
    "    display(df_test.sort_values(\"loss\", ascending=True).head(10))"
   ]
  },
  {
   "cell_type": "markdown",
   "id": "dea966e9",
   "metadata": {},
   "source": [
    "# Save model"
   ]
  },
  {
   "cell_type": "code",
   "execution_count": 55,
   "id": "02f89b43",
   "metadata": {},
   "outputs": [],
   "source": [
    "path = f\"models/{my_model_name}\"\n",
    "trainer.save_model(path)"
   ]
  },
  {
   "cell_type": "code",
   "execution_count": 56,
   "id": "08ee8e66",
   "metadata": {},
   "outputs": [],
   "source": [
    "classifier = pipeline(\"text-classification\", model=path)"
   ]
  },
  {
   "cell_type": "code",
   "execution_count": 57,
   "id": "0ed2b8dd",
   "metadata": {},
   "outputs": [
    {
     "name": "stderr",
     "output_type": "stream",
     "text": [
      "C:\\Users\\capek\\pycharm_projects\\Transformers_for_czech_language\\venv\\lib\\site-packages\\transformers\\pipelines\\text_classification.py:104: UserWarning: `return_all_scores` is now deprecated,  if want a similar funcionality use `top_k=None` instead of `return_all_scores=True` or `top_k=1` instead of `return_all_scores=False`.\n",
      "  warnings.warn(\n"
     ]
    },
    {
     "data": {
      "text/plain": [
       "[[{'label': 'LABEL_0', 'score': 0.7973762154579163},\n",
       "  {'label': 'LABEL_1', 'score': 0.20262382924556732}]]"
      ]
     },
     "execution_count": 57,
     "metadata": {},
     "output_type": "execute_result"
    }
   ],
   "source": [
    "custom_tweet = \"Dnes jsem si v parku hrál se psem.\"\n",
    "preds = classifier(custom_tweet, return_all_scores=True)\n",
    "preds"
   ]
  }
 ],
 "metadata": {
  "kernelspec": {
   "display_name": "Python 3 (ipykernel)",
   "language": "python",
   "name": "python3"
  },
  "language_info": {
   "codemirror_mode": {
    "name": "ipython",
    "version": 3
   },
   "file_extension": ".py",
   "mimetype": "text/x-python",
   "name": "python",
   "nbconvert_exporter": "python",
   "pygments_lexer": "ipython3",
   "version": "3.10.6"
  }
 },
 "nbformat": 4,
 "nbformat_minor": 5
}
